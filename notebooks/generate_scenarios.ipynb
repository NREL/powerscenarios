{
 "cells": [
  {
   "cell_type": "markdown",
   "metadata": {},
   "source": [
    "# Example: scenarios for TAMU or RTS grids\n"
   ]
  },
  {
   "cell_type": "code",
   "execution_count": 40,
   "metadata": {
    "scrolled": false
   },
   "outputs": [
    {
     "data": {
      "text/html": [
       "        <script type=\"text/javascript\">\n",
       "        window.PlotlyConfig = {MathJaxConfig: 'local'};\n",
       "        if (window.MathJax) {MathJax.Hub.Config({SVG: {font: \"STIX-Web\"}});}\n",
       "        if (typeof require !== 'undefined') {\n",
       "        require.undef(\"plotly\");\n",
       "        requirejs.config({\n",
       "            paths: {\n",
       "                'plotly': ['https://cdn.plot.ly/plotly-latest.min']\n",
       "            }\n",
       "        });\n",
       "        require(['plotly'], function(Plotly) {\n",
       "            window._Plotly = Plotly;\n",
       "        });\n",
       "        }\n",
       "        </script>\n",
       "        "
      ]
     },
     "metadata": {},
     "output_type": "display_data"
    },
    {
     "data": {
      "application/javascript": [
       "\n",
       "            setTimeout(function() {\n",
       "                var nbb_cell_id = 40;\n",
       "                var nbb_unformatted_code = \"import pandas as pd\\nimport numpy as np\\nimport time\\nimport os\\n\\n# # set PYWTK_CACHE_DIR to locate WIND Toolkit data\\n# # will download from AWS as needed\\n# os.environ[\\\"PYWTK_CACHE_DIR\\\"] = os.path.join(os.environ[\\\"HOME\\\"], \\\"pywtk-data\\\")\\n\\nfrom powerscenarios.parser import Parser\\nfrom powerscenarios.grid import Grid\\n\\n# show multiple cell outputs\\nfrom IPython.core.interactiveshell import InteractiveShell\\nInteractiveShell.ast_node_interactivity = \\\"all\\\"\\n\\npd.set_option(\\\"display.max_rows\\\", 20)\\npd.set_option(\\\"display.max_columns\\\", 100)\\n\\n# plotting (optional)\\nimport cufflinks as cl\\n\\ncl.go_offline()\";\n",
       "                var nbb_formatted_code = \"import pandas as pd\\nimport numpy as np\\nimport time\\nimport os\\n\\n# # set PYWTK_CACHE_DIR to locate WIND Toolkit data\\n# # will download from AWS as needed\\n# os.environ[\\\"PYWTK_CACHE_DIR\\\"] = os.path.join(os.environ[\\\"HOME\\\"], \\\"pywtk-data\\\")\\n\\nfrom powerscenarios.parser import Parser\\nfrom powerscenarios.grid import Grid\\n\\n# show multiple cell outputs\\nfrom IPython.core.interactiveshell import InteractiveShell\\n\\nInteractiveShell.ast_node_interactivity = \\\"all\\\"\\n\\npd.set_option(\\\"display.max_rows\\\", 20)\\npd.set_option(\\\"display.max_columns\\\", 100)\\n\\n# plotting (optional)\\nimport cufflinks as cl\\n\\ncl.go_offline()\";\n",
       "                var nbb_cells = Jupyter.notebook.get_cells();\n",
       "                for (var i = 0; i < nbb_cells.length; ++i) {\n",
       "                    if (nbb_cells[i].input_prompt_number == nbb_cell_id) {\n",
       "                        if (nbb_cells[i].get_text() == nbb_unformatted_code) {\n",
       "                             nbb_cells[i].set_text(nbb_formatted_code);\n",
       "                        }\n",
       "                        break;\n",
       "                    }\n",
       "                }\n",
       "            }, 500);\n",
       "            "
      ],
      "text/plain": [
       "<IPython.core.display.Javascript object>"
      ]
     },
     "metadata": {},
     "output_type": "display_data"
    }
   ],
   "source": [
    "import pandas as pd\n",
    "import numpy as np\n",
    "import time\n",
    "import os\n",
    "\n",
    "# # set PYWTK_CACHE_DIR to locate WIND Toolkit data\n",
    "# # will download from AWS as needed\n",
    "# os.environ[\"PYWTK_CACHE_DIR\"] = os.path.join(os.environ[\"HOME\"], \"pywtk-data\")\n",
    "\n",
    "from powerscenarios.parser import Parser\n",
    "from powerscenarios.grid import Grid\n",
    "\n",
    "# show multiple cell outputs\n",
    "from IPython.core.interactiveshell import InteractiveShell\n",
    "InteractiveShell.ast_node_interactivity = \"all\"\n",
    "\n",
    "pd.set_option(\"display.max_rows\", 20)\n",
    "pd.set_option(\"display.max_columns\", 100)\n",
    "\n",
    "# plotting (optional)\n",
    "import cufflinks as cl\n",
    "\n",
    "cl.go_offline()\n"
   ]
  },
  {
   "cell_type": "markdown",
   "metadata": {},
   "source": [
    "# choose grid"
   ]
  },
  {
   "cell_type": "markdown",
   "metadata": {},
   "source": [
    "# parse TAMU grid .aux files"
   ]
  },
  {
   "cell_type": "code",
   "execution_count": 41,
   "metadata": {
    "scrolled": false
   },
   "outputs": [
    {
     "name": "stdout",
     "output_type": "stream",
     "text": [
      "bus_df:\n"
     ]
    },
    {
     "data": {
      "text/html": [
       "<div>\n",
       "<style scoped>\n",
       "    .dataframe tbody tr th:only-of-type {\n",
       "        vertical-align: middle;\n",
       "    }\n",
       "\n",
       "    .dataframe tbody tr th {\n",
       "        vertical-align: top;\n",
       "    }\n",
       "\n",
       "    .dataframe thead th {\n",
       "        text-align: right;\n",
       "    }\n",
       "</style>\n",
       "<table border=\"1\" class=\"dataframe\">\n",
       "  <thead>\n",
       "    <tr style=\"text-align: right;\">\n",
       "      <th></th>\n",
       "      <th>BusNum</th>\n",
       "      <th>BusName</th>\n",
       "      <th>Latitude</th>\n",
       "      <th>Longitude</th>\n",
       "      <th>Zone</th>\n",
       "    </tr>\n",
       "  </thead>\n",
       "  <tbody>\n",
       "    <tr>\n",
       "      <th>0</th>\n",
       "      <td>1</td>\n",
       "      <td>CREVECOEUR0</td>\n",
       "      <td>40.642116</td>\n",
       "      <td>-89.599560</td>\n",
       "      <td>2</td>\n",
       "    </tr>\n",
       "    <tr>\n",
       "      <th>1</th>\n",
       "      <td>2</td>\n",
       "      <td>CREVECOEUR1</td>\n",
       "      <td>40.642116</td>\n",
       "      <td>-89.599560</td>\n",
       "      <td>2</td>\n",
       "    </tr>\n",
       "    <tr>\n",
       "      <th>2</th>\n",
       "      <td>3</td>\n",
       "      <td>ILLIOPOLIS0</td>\n",
       "      <td>39.866030</td>\n",
       "      <td>-89.251291</td>\n",
       "      <td>4</td>\n",
       "    </tr>\n",
       "    <tr>\n",
       "      <th>3</th>\n",
       "      <td>4</td>\n",
       "      <td>ILLIOPOLIS1</td>\n",
       "      <td>39.866030</td>\n",
       "      <td>-89.251291</td>\n",
       "      <td>4</td>\n",
       "    </tr>\n",
       "    <tr>\n",
       "      <th>4</th>\n",
       "      <td>5</td>\n",
       "      <td>PAXTON20</td>\n",
       "      <td>40.378337</td>\n",
       "      <td>-88.105151</td>\n",
       "      <td>6</td>\n",
       "    </tr>\n",
       "  </tbody>\n",
       "</table>\n",
       "</div>"
      ],
      "text/plain": [
       "   BusNum      BusName   Latitude  Longitude  Zone\n",
       "0       1  CREVECOEUR0  40.642116 -89.599560     2\n",
       "1       2  CREVECOEUR1  40.642116 -89.599560     2\n",
       "2       3  ILLIOPOLIS0  39.866030 -89.251291     4\n",
       "3       4  ILLIOPOLIS1  39.866030 -89.251291     4\n",
       "4       5     PAXTON20  40.378337 -88.105151     6"
      ]
     },
     "execution_count": 41,
     "metadata": {},
     "output_type": "execute_result"
    },
    {
     "name": "stdout",
     "output_type": "stream",
     "text": [
      "gen_df:\n"
     ]
    },
    {
     "data": {
      "text/html": [
       "<div>\n",
       "<style scoped>\n",
       "    .dataframe tbody tr th:only-of-type {\n",
       "        vertical-align: middle;\n",
       "    }\n",
       "\n",
       "    .dataframe tbody tr th {\n",
       "        vertical-align: top;\n",
       "    }\n",
       "\n",
       "    .dataframe thead th {\n",
       "        text-align: right;\n",
       "    }\n",
       "</style>\n",
       "<table border=\"1\" class=\"dataframe\">\n",
       "  <thead>\n",
       "    <tr style=\"text-align: right;\">\n",
       "      <th></th>\n",
       "      <th>BusNum</th>\n",
       "      <th>GenID</th>\n",
       "      <th>GenMWMax</th>\n",
       "      <th>GenMWMin</th>\n",
       "      <th>GenWindPowerFactor</th>\n",
       "      <th>GenFuelType</th>\n",
       "      <th>GenUID</th>\n",
       "      <th>BusName</th>\n",
       "      <th>Latitude</th>\n",
       "      <th>Longitude</th>\n",
       "      <th>Zone</th>\n",
       "    </tr>\n",
       "  </thead>\n",
       "  <tbody>\n",
       "    <tr>\n",
       "      <th>0</th>\n",
       "      <td>49</td>\n",
       "      <td>1</td>\n",
       "      <td>4.53</td>\n",
       "      <td>1.36</td>\n",
       "      <td>1.0</td>\n",
       "      <td>Coal</td>\n",
       "      <td>49_Coal_1</td>\n",
       "      <td>RANTOUL21</td>\n",
       "      <td>40.312222</td>\n",
       "      <td>-88.159444</td>\n",
       "      <td>6</td>\n",
       "    </tr>\n",
       "    <tr>\n",
       "      <th>1</th>\n",
       "      <td>50</td>\n",
       "      <td>1</td>\n",
       "      <td>4.53</td>\n",
       "      <td>1.36</td>\n",
       "      <td>1.0</td>\n",
       "      <td>Coal</td>\n",
       "      <td>50_Coal_1</td>\n",
       "      <td>RANTOUL22</td>\n",
       "      <td>40.312222</td>\n",
       "      <td>-88.159444</td>\n",
       "      <td>6</td>\n",
       "    </tr>\n",
       "    <tr>\n",
       "      <th>2</th>\n",
       "      <td>51</td>\n",
       "      <td>1</td>\n",
       "      <td>4.53</td>\n",
       "      <td>1.36</td>\n",
       "      <td>1.0</td>\n",
       "      <td>Coal</td>\n",
       "      <td>51_Coal_1</td>\n",
       "      <td>RANTOUL23</td>\n",
       "      <td>40.312222</td>\n",
       "      <td>-88.159444</td>\n",
       "      <td>6</td>\n",
       "    </tr>\n",
       "    <tr>\n",
       "      <th>3</th>\n",
       "      <td>52</td>\n",
       "      <td>1</td>\n",
       "      <td>4.53</td>\n",
       "      <td>1.36</td>\n",
       "      <td>1.0</td>\n",
       "      <td>Coal</td>\n",
       "      <td>52_Coal_1</td>\n",
       "      <td>RANTOUL24</td>\n",
       "      <td>40.312222</td>\n",
       "      <td>-88.159444</td>\n",
       "      <td>6</td>\n",
       "    </tr>\n",
       "    <tr>\n",
       "      <th>4</th>\n",
       "      <td>53</td>\n",
       "      <td>1</td>\n",
       "      <td>9.07</td>\n",
       "      <td>2.72</td>\n",
       "      <td>1.0</td>\n",
       "      <td>Coal</td>\n",
       "      <td>53_Coal_1</td>\n",
       "      <td>RANTOUL25</td>\n",
       "      <td>40.312222</td>\n",
       "      <td>-88.159444</td>\n",
       "      <td>6</td>\n",
       "    </tr>\n",
       "  </tbody>\n",
       "</table>\n",
       "</div>"
      ],
      "text/plain": [
       "   BusNum  GenID  GenMWMax  GenMWMin  GenWindPowerFactor GenFuelType  \\\n",
       "0      49      1      4.53      1.36                 1.0        Coal   \n",
       "1      50      1      4.53      1.36                 1.0        Coal   \n",
       "2      51      1      4.53      1.36                 1.0        Coal   \n",
       "3      52      1      4.53      1.36                 1.0        Coal   \n",
       "4      53      1      9.07      2.72                 1.0        Coal   \n",
       "\n",
       "      GenUID    BusName   Latitude  Longitude  Zone  \n",
       "0  49_Coal_1  RANTOUL21  40.312222 -88.159444     6  \n",
       "1  50_Coal_1  RANTOUL22  40.312222 -88.159444     6  \n",
       "2  51_Coal_1  RANTOUL23  40.312222 -88.159444     6  \n",
       "3  52_Coal_1  RANTOUL24  40.312222 -88.159444     6  \n",
       "4  53_Coal_1  RANTOUL25  40.312222 -88.159444     6  "
      ]
     },
     "execution_count": 41,
     "metadata": {},
     "output_type": "execute_result"
    },
    {
     "name": "stdout",
     "output_type": "stream",
     "text": [
      "wind_gen_df:\n"
     ]
    },
    {
     "data": {
      "text/html": [
       "<div>\n",
       "<style scoped>\n",
       "    .dataframe tbody tr th:only-of-type {\n",
       "        vertical-align: middle;\n",
       "    }\n",
       "\n",
       "    .dataframe tbody tr th {\n",
       "        vertical-align: top;\n",
       "    }\n",
       "\n",
       "    .dataframe thead th {\n",
       "        text-align: right;\n",
       "    }\n",
       "</style>\n",
       "<table border=\"1\" class=\"dataframe\">\n",
       "  <thead>\n",
       "    <tr style=\"text-align: right;\">\n",
       "      <th></th>\n",
       "      <th>BusNum</th>\n",
       "      <th>GenID</th>\n",
       "      <th>GenMWMax</th>\n",
       "      <th>GenMWMin</th>\n",
       "      <th>GenWindPowerFactor</th>\n",
       "      <th>GenFuelType</th>\n",
       "      <th>GenUID</th>\n",
       "      <th>BusName</th>\n",
       "      <th>Latitude</th>\n",
       "      <th>Longitude</th>\n",
       "      <th>Zone</th>\n",
       "    </tr>\n",
       "  </thead>\n",
       "  <tbody>\n",
       "    <tr>\n",
       "      <th>0</th>\n",
       "      <td>65</td>\n",
       "      <td>1</td>\n",
       "      <td>150.399995</td>\n",
       "      <td>45.120001</td>\n",
       "      <td>1.0</td>\n",
       "      <td>Wind</td>\n",
       "      <td>65_Wind_1</td>\n",
       "      <td>PAXTON11</td>\n",
       "      <td>40.46405</td>\n",
       "      <td>-88.021517</td>\n",
       "      <td>6</td>\n",
       "    </tr>\n",
       "    <tr>\n",
       "      <th>1</th>\n",
       "      <td>104</td>\n",
       "      <td>1</td>\n",
       "      <td>99.000001</td>\n",
       "      <td>29.699999</td>\n",
       "      <td>1.0</td>\n",
       "      <td>Wind</td>\n",
       "      <td>104_Wind_1</td>\n",
       "      <td>ELLSWORTH12</td>\n",
       "      <td>40.47920</td>\n",
       "      <td>-88.798900</td>\n",
       "      <td>7</td>\n",
       "    </tr>\n",
       "    <tr>\n",
       "      <th>2</th>\n",
       "      <td>105</td>\n",
       "      <td>1</td>\n",
       "      <td>198.000002</td>\n",
       "      <td>59.400004</td>\n",
       "      <td>1.0</td>\n",
       "      <td>Wind</td>\n",
       "      <td>105_Wind_1</td>\n",
       "      <td>ELLSWORTH13</td>\n",
       "      <td>40.47920</td>\n",
       "      <td>-88.798900</td>\n",
       "      <td>7</td>\n",
       "    </tr>\n",
       "    <tr>\n",
       "      <th>3</th>\n",
       "      <td>114</td>\n",
       "      <td>1</td>\n",
       "      <td>1.700000</td>\n",
       "      <td>0.510000</td>\n",
       "      <td>1.0</td>\n",
       "      <td>Wind</td>\n",
       "      <td>114_Wind_1</td>\n",
       "      <td>NORMAL22</td>\n",
       "      <td>40.53700</td>\n",
       "      <td>-89.019000</td>\n",
       "      <td>7</td>\n",
       "    </tr>\n",
       "    <tr>\n",
       "      <th>4</th>\n",
       "      <td>115</td>\n",
       "      <td>1</td>\n",
       "      <td>150.000000</td>\n",
       "      <td>44.999999</td>\n",
       "      <td>1.0</td>\n",
       "      <td>Wind</td>\n",
       "      <td>115_Wind_1</td>\n",
       "      <td>NORMAL23</td>\n",
       "      <td>40.53700</td>\n",
       "      <td>-89.019000</td>\n",
       "      <td>7</td>\n",
       "    </tr>\n",
       "    <tr>\n",
       "      <th>5</th>\n",
       "      <td>147</td>\n",
       "      <td>1</td>\n",
       "      <td>100.500000</td>\n",
       "      <td>30.149999</td>\n",
       "      <td>1.0</td>\n",
       "      <td>Wind</td>\n",
       "      <td>147_Wind_1</td>\n",
       "      <td>HOPEDALE21</td>\n",
       "      <td>40.36920</td>\n",
       "      <td>-89.402200</td>\n",
       "      <td>7</td>\n",
       "    </tr>\n",
       "  </tbody>\n",
       "</table>\n",
       "</div>"
      ],
      "text/plain": [
       "   BusNum  GenID    GenMWMax   GenMWMin  GenWindPowerFactor GenFuelType  \\\n",
       "0      65      1  150.399995  45.120001                 1.0        Wind   \n",
       "1     104      1   99.000001  29.699999                 1.0        Wind   \n",
       "2     105      1  198.000002  59.400004                 1.0        Wind   \n",
       "3     114      1    1.700000   0.510000                 1.0        Wind   \n",
       "4     115      1  150.000000  44.999999                 1.0        Wind   \n",
       "5     147      1  100.500000  30.149999                 1.0        Wind   \n",
       "\n",
       "       GenUID      BusName  Latitude  Longitude  Zone  \n",
       "0   65_Wind_1     PAXTON11  40.46405 -88.021517     6  \n",
       "1  104_Wind_1  ELLSWORTH12  40.47920 -88.798900     7  \n",
       "2  105_Wind_1  ELLSWORTH13  40.47920 -88.798900     7  \n",
       "3  114_Wind_1     NORMAL22  40.53700 -89.019000     7  \n",
       "4  115_Wind_1     NORMAL23  40.53700 -89.019000     7  \n",
       "5  147_Wind_1   HOPEDALE21  40.36920 -89.402200     7  "
      ]
     },
     "execution_count": 41,
     "metadata": {},
     "output_type": "execute_result"
    },
    {
     "data": {
      "application/javascript": [
       "\n",
       "            setTimeout(function() {\n",
       "                var nbb_cell_id = 41;\n",
       "                var nbb_unformatted_code = \"# choose TAMU grid\\n# grid files can be downloaded from:\\n# https://electricgrids.engr.tamu.edu/electric-grid-test-cases/\\n\\ngrid_name = \\\"ACTIVSg200\\\"  # TAMU 200 bus case\\n# grid_name = \\\"ACTIVSg2000\\\"  # TAMU 2000 bus case\\n# grid_name = 'ACTIVSg10k' # TAMU 10000 bus case\\n\\n# path to .aux file (TAMU grids) obtained from e.g.\\n# https://electricgrids.engr.tamu.edu/electric-grid-test-cases/activsg200/\\ndata_dir = \\\"../data/grid-data/\\\"\\n# aux_file_name = data_dir + grid_name + \\\"/\\\" + grid_name + \\\".aux\\\"\\naux_file_name = os.path.join(data_dir, grid_name, grid_name + \\\".aux\\\")\\n\\n# parse original .aux file and return dataframes for buses, generators, and wind generators\\n# here, we need .aux files because those are the only ones with Latitute/Longitude information\\nparser = Parser()\\nbus_df, gen_df, wind_gen_df = parser.parse_tamu_aux(aux_file_name)\\n\\n# see what you got\\nprint(\\\"bus_df:\\\")\\nbus_df.head()\\nprint(\\\"gen_df:\\\")\\ngen_df.head()\\nprint(\\\"wind_gen_df:\\\")\\nwind_gen_df\";\n",
       "                var nbb_formatted_code = \"# choose TAMU grid\\n# grid files can be downloaded from:\\n# https://electricgrids.engr.tamu.edu/electric-grid-test-cases/\\n\\ngrid_name = \\\"ACTIVSg200\\\"  # TAMU 200 bus case\\n# grid_name = \\\"ACTIVSg2000\\\"  # TAMU 2000 bus case\\n# grid_name = 'ACTIVSg10k' # TAMU 10000 bus case\\n\\n# path to .aux file (TAMU grids) obtained from e.g.\\n# https://electricgrids.engr.tamu.edu/electric-grid-test-cases/activsg200/\\ndata_dir = \\\"../data/grid-data/\\\"\\n# aux_file_name = data_dir + grid_name + \\\"/\\\" + grid_name + \\\".aux\\\"\\naux_file_name = os.path.join(data_dir, grid_name, grid_name + \\\".aux\\\")\\n\\n# parse original .aux file and return dataframes for buses, generators, and wind generators\\n# here, we need .aux files because those are the only ones with Latitute/Longitude information\\nparser = Parser()\\nbus_df, gen_df, wind_gen_df = parser.parse_tamu_aux(aux_file_name)\\n\\n# see what you got\\nprint(\\\"bus_df:\\\")\\nbus_df.head()\\nprint(\\\"gen_df:\\\")\\ngen_df.head()\\nprint(\\\"wind_gen_df:\\\")\\nwind_gen_df\";\n",
       "                var nbb_cells = Jupyter.notebook.get_cells();\n",
       "                for (var i = 0; i < nbb_cells.length; ++i) {\n",
       "                    if (nbb_cells[i].input_prompt_number == nbb_cell_id) {\n",
       "                        if (nbb_cells[i].get_text() == nbb_unformatted_code) {\n",
       "                             nbb_cells[i].set_text(nbb_formatted_code);\n",
       "                        }\n",
       "                        break;\n",
       "                    }\n",
       "                }\n",
       "            }, 500);\n",
       "            "
      ],
      "text/plain": [
       "<IPython.core.display.Javascript object>"
      ]
     },
     "metadata": {},
     "output_type": "display_data"
    }
   ],
   "source": [
    "# choose TAMU grid\n",
    "# grid files can be downloaded from:\n",
    "# https://electricgrids.engr.tamu.edu/electric-grid-test-cases/\n",
    "\n",
    "grid_name = \"ACTIVSg200\"  # TAMU 200 bus case\n",
    "# grid_name = \"ACTIVSg2000\"  # TAMU 2000 bus case\n",
    "# grid_name = 'ACTIVSg10k' # TAMU 10000 bus case\n",
    "\n",
    "# path to .aux file (TAMU grids) obtained from e.g.\n",
    "# https://electricgrids.engr.tamu.edu/electric-grid-test-cases/activsg200/\n",
    "data_dir = \"../data/grid-data/\"\n",
    "# aux_file_name = data_dir + grid_name + \"/\" + grid_name + \".aux\"\n",
    "aux_file_name = os.path.join(data_dir, grid_name, grid_name + \".aux\")\n",
    "\n",
    "# parse original .aux file and return dataframes for buses, generators, and wind generators\n",
    "# here, we need .aux files because those are the only ones with Latitute/Longitude information\n",
    "parser = Parser()\n",
    "bus_df, gen_df, wind_gen_df = parser.parse_tamu_aux(aux_file_name)\n",
    "\n",
    "# see what you got\n",
    "print(\"bus_df:\")\n",
    "bus_df.head()\n",
    "print(\"gen_df:\")\n",
    "gen_df.head()\n",
    "print(\"wind_gen_df:\")\n",
    "wind_gen_df"
   ]
  },
  {
   "cell_type": "markdown",
   "metadata": {},
   "source": [
    "# or parse RTS grid .csv files"
   ]
  },
  {
   "cell_type": "code",
   "execution_count": 49,
   "metadata": {
    "scrolled": false
   },
   "outputs": [
    {
     "name": "stdout",
     "output_type": "stream",
     "text": [
      "bus_df:\n"
     ]
    },
    {
     "data": {
      "text/html": [
       "<div>\n",
       "<style scoped>\n",
       "    .dataframe tbody tr th:only-of-type {\n",
       "        vertical-align: middle;\n",
       "    }\n",
       "\n",
       "    .dataframe tbody tr th {\n",
       "        vertical-align: top;\n",
       "    }\n",
       "\n",
       "    .dataframe thead th {\n",
       "        text-align: right;\n",
       "    }\n",
       "</style>\n",
       "<table border=\"1\" class=\"dataframe\">\n",
       "  <thead>\n",
       "    <tr style=\"text-align: right;\">\n",
       "      <th></th>\n",
       "      <th>BusNum</th>\n",
       "      <th>Bus Name</th>\n",
       "      <th>BaseKV</th>\n",
       "      <th>Bus Type</th>\n",
       "      <th>MW Load</th>\n",
       "      <th>MVAR Load</th>\n",
       "      <th>V Mag</th>\n",
       "      <th>V Angle</th>\n",
       "      <th>MW Shunt G</th>\n",
       "      <th>MVAR Shunt B</th>\n",
       "      <th>Area</th>\n",
       "      <th>Sub Area</th>\n",
       "      <th>Zone</th>\n",
       "      <th>Latitude</th>\n",
       "      <th>Longitude</th>\n",
       "    </tr>\n",
       "  </thead>\n",
       "  <tbody>\n",
       "    <tr>\n",
       "      <th>0</th>\n",
       "      <td>101</td>\n",
       "      <td>Abel</td>\n",
       "      <td>138.0</td>\n",
       "      <td>PV</td>\n",
       "      <td>108.0</td>\n",
       "      <td>22.0</td>\n",
       "      <td>1.04777</td>\n",
       "      <td>-7.74152</td>\n",
       "      <td>0.0</td>\n",
       "      <td>0.0</td>\n",
       "      <td>1</td>\n",
       "      <td>11.0</td>\n",
       "      <td>11.0</td>\n",
       "      <td>33.396103</td>\n",
       "      <td>-113.835642</td>\n",
       "    </tr>\n",
       "    <tr>\n",
       "      <th>1</th>\n",
       "      <td>102</td>\n",
       "      <td>Adams</td>\n",
       "      <td>138.0</td>\n",
       "      <td>PV</td>\n",
       "      <td>97.0</td>\n",
       "      <td>20.0</td>\n",
       "      <td>1.04783</td>\n",
       "      <td>-7.81784</td>\n",
       "      <td>0.0</td>\n",
       "      <td>0.0</td>\n",
       "      <td>1</td>\n",
       "      <td>11.0</td>\n",
       "      <td>12.0</td>\n",
       "      <td>33.357678</td>\n",
       "      <td>-113.825933</td>\n",
       "    </tr>\n",
       "    <tr>\n",
       "      <th>2</th>\n",
       "      <td>103</td>\n",
       "      <td>Adler</td>\n",
       "      <td>138.0</td>\n",
       "      <td>PQ</td>\n",
       "      <td>180.0</td>\n",
       "      <td>37.0</td>\n",
       "      <td>1.01085</td>\n",
       "      <td>-7.21090</td>\n",
       "      <td>0.0</td>\n",
       "      <td>0.0</td>\n",
       "      <td>1</td>\n",
       "      <td>11.0</td>\n",
       "      <td>11.0</td>\n",
       "      <td>33.536833</td>\n",
       "      <td>-114.670399</td>\n",
       "    </tr>\n",
       "    <tr>\n",
       "      <th>3</th>\n",
       "      <td>104</td>\n",
       "      <td>Agricola</td>\n",
       "      <td>138.0</td>\n",
       "      <td>PQ</td>\n",
       "      <td>74.0</td>\n",
       "      <td>15.0</td>\n",
       "      <td>1.01765</td>\n",
       "      <td>-10.56614</td>\n",
       "      <td>0.0</td>\n",
       "      <td>0.0</td>\n",
       "      <td>1</td>\n",
       "      <td>11.0</td>\n",
       "      <td>11.0</td>\n",
       "      <td>33.812304</td>\n",
       "      <td>-113.825419</td>\n",
       "    </tr>\n",
       "    <tr>\n",
       "      <th>4</th>\n",
       "      <td>105</td>\n",
       "      <td>Aiken</td>\n",
       "      <td>138.0</td>\n",
       "      <td>PQ</td>\n",
       "      <td>71.0</td>\n",
       "      <td>14.0</td>\n",
       "      <td>1.03568</td>\n",
       "      <td>-10.70887</td>\n",
       "      <td>0.0</td>\n",
       "      <td>0.0</td>\n",
       "      <td>1</td>\n",
       "      <td>11.0</td>\n",
       "      <td>11.0</td>\n",
       "      <td>33.659560</td>\n",
       "      <td>-113.999023</td>\n",
       "    </tr>\n",
       "  </tbody>\n",
       "</table>\n",
       "</div>"
      ],
      "text/plain": [
       "   BusNum  Bus Name  BaseKV Bus Type  MW Load  MVAR Load    V Mag   V Angle  \\\n",
       "0     101      Abel   138.0       PV    108.0       22.0  1.04777  -7.74152   \n",
       "1     102     Adams   138.0       PV     97.0       20.0  1.04783  -7.81784   \n",
       "2     103     Adler   138.0       PQ    180.0       37.0  1.01085  -7.21090   \n",
       "3     104  Agricola   138.0       PQ     74.0       15.0  1.01765 -10.56614   \n",
       "4     105     Aiken   138.0       PQ     71.0       14.0  1.03568 -10.70887   \n",
       "\n",
       "   MW Shunt G  MVAR Shunt B  Area  Sub Area  Zone   Latitude   Longitude  \n",
       "0         0.0           0.0     1      11.0  11.0  33.396103 -113.835642  \n",
       "1         0.0           0.0     1      11.0  12.0  33.357678 -113.825933  \n",
       "2         0.0           0.0     1      11.0  11.0  33.536833 -114.670399  \n",
       "3         0.0           0.0     1      11.0  11.0  33.812304 -113.825419  \n",
       "4         0.0           0.0     1      11.0  11.0  33.659560 -113.999023  "
      ]
     },
     "execution_count": 49,
     "metadata": {},
     "output_type": "execute_result"
    },
    {
     "name": "stdout",
     "output_type": "stream",
     "text": [
      "gen_df:\n"
     ]
    },
    {
     "data": {
      "text/html": [
       "<div>\n",
       "<style scoped>\n",
       "    .dataframe tbody tr th:only-of-type {\n",
       "        vertical-align: middle;\n",
       "    }\n",
       "\n",
       "    .dataframe tbody tr th {\n",
       "        vertical-align: top;\n",
       "    }\n",
       "\n",
       "    .dataframe thead th {\n",
       "        text-align: right;\n",
       "    }\n",
       "</style>\n",
       "<table border=\"1\" class=\"dataframe\">\n",
       "  <thead>\n",
       "    <tr style=\"text-align: right;\">\n",
       "      <th></th>\n",
       "      <th>GenUID</th>\n",
       "      <th>BusNum</th>\n",
       "      <th>Gen ID</th>\n",
       "      <th>Unit Group</th>\n",
       "      <th>Unit Type</th>\n",
       "      <th>Category</th>\n",
       "      <th>GenFuelType</th>\n",
       "      <th>MW Inj</th>\n",
       "      <th>MVAR Inj</th>\n",
       "      <th>V Setpoint p.u.</th>\n",
       "      <th>GenMWMax</th>\n",
       "      <th>PMin MW</th>\n",
       "      <th>QMax MVAR</th>\n",
       "      <th>QMin MVAR</th>\n",
       "      <th>Min Down Time Hr</th>\n",
       "      <th>Min Up Time Hr</th>\n",
       "      <th>Ramp Rate MW/Min</th>\n",
       "      <th>Start Time Cold Hr</th>\n",
       "      <th>Start Time Warm Hr</th>\n",
       "      <th>Start Time Hot Hr</th>\n",
       "      <th>Start Heat Cold MBTU</th>\n",
       "      <th>Start Heat Warm MBTU</th>\n",
       "      <th>Start Heat Hot MBTU</th>\n",
       "      <th>Non Fuel Start Cost $</th>\n",
       "      <th>FOR</th>\n",
       "      <th>MTTF Hr</th>\n",
       "      <th>MTTR Hr</th>\n",
       "      <th>Scheduled Maint Weeks</th>\n",
       "      <th>Fuel Price $/MMBTU</th>\n",
       "      <th>Output_pct_0</th>\n",
       "      <th>Output_pct_1</th>\n",
       "      <th>Output_pct_2</th>\n",
       "      <th>Output_pct_3</th>\n",
       "      <th>HR_avg_0</th>\n",
       "      <th>HR_incr_1</th>\n",
       "      <th>HR_incr_2</th>\n",
       "      <th>HR_incr_3</th>\n",
       "      <th>Fuel Sulfur Content %</th>\n",
       "      <th>Emissions SO2 Lbs/MMBTU</th>\n",
       "      <th>Emissions NOX Lbs/MMBTU</th>\n",
       "      <th>Emissions Part Lbs/MMBTU</th>\n",
       "      <th>Emissions CO2 Lbs/MMBTU</th>\n",
       "      <th>Emissions CH4 Lbs/MMBTU</th>\n",
       "      <th>Emissions N2O Lbs/MMBTU</th>\n",
       "      <th>Emissions CO Lbs/MMBTU</th>\n",
       "      <th>Emissions VOCs Lbs/MMBTU</th>\n",
       "      <th>Damping Ratio</th>\n",
       "      <th>Inertia MJ/MW</th>\n",
       "      <th>Base MVA</th>\n",
       "      <th>Transformer X p.u.</th>\n",
       "      <th>Unit X p.u.</th>\n",
       "      <th>Pump Load MW</th>\n",
       "      <th>Storage Roundtrip Efficiency</th>\n",
       "    </tr>\n",
       "  </thead>\n",
       "  <tbody>\n",
       "    <tr>\n",
       "      <th>0</th>\n",
       "      <td>101_CT_1</td>\n",
       "      <td>101</td>\n",
       "      <td>1</td>\n",
       "      <td>U20</td>\n",
       "      <td>CT</td>\n",
       "      <td>Oil CT</td>\n",
       "      <td>Oil</td>\n",
       "      <td>8.0</td>\n",
       "      <td>4.96</td>\n",
       "      <td>1.0468</td>\n",
       "      <td>20.0</td>\n",
       "      <td>8</td>\n",
       "      <td>10</td>\n",
       "      <td>0</td>\n",
       "      <td>1.0</td>\n",
       "      <td>1.0</td>\n",
       "      <td>3.0</td>\n",
       "      <td>1</td>\n",
       "      <td>0.0</td>\n",
       "      <td>0.0</td>\n",
       "      <td>5.0</td>\n",
       "      <td>5.0</td>\n",
       "      <td>5.0</td>\n",
       "      <td>0</td>\n",
       "      <td>0.10</td>\n",
       "      <td>450</td>\n",
       "      <td>50</td>\n",
       "      <td>2.0</td>\n",
       "      <td>10.34940</td>\n",
       "      <td>0.400000</td>\n",
       "      <td>0.600000</td>\n",
       "      <td>0.800000</td>\n",
       "      <td>1</td>\n",
       "      <td>13114</td>\n",
       "      <td>9456</td>\n",
       "      <td>9476</td>\n",
       "      <td>10352</td>\n",
       "      <td>0.2</td>\n",
       "      <td>0.2</td>\n",
       "      <td>0.5</td>\n",
       "      <td>0.036</td>\n",
       "      <td>160</td>\n",
       "      <td>0.002</td>\n",
       "      <td>0.004</td>\n",
       "      <td>0.11</td>\n",
       "      <td>0.040</td>\n",
       "      <td>0</td>\n",
       "      <td>2.8</td>\n",
       "      <td>24</td>\n",
       "      <td>0.13</td>\n",
       "      <td>0.32</td>\n",
       "      <td>0</td>\n",
       "      <td>0</td>\n",
       "    </tr>\n",
       "    <tr>\n",
       "      <th>1</th>\n",
       "      <td>101_CT_2</td>\n",
       "      <td>101</td>\n",
       "      <td>2</td>\n",
       "      <td>U20</td>\n",
       "      <td>CT</td>\n",
       "      <td>Oil CT</td>\n",
       "      <td>Oil</td>\n",
       "      <td>8.0</td>\n",
       "      <td>4.96</td>\n",
       "      <td>1.0468</td>\n",
       "      <td>20.0</td>\n",
       "      <td>8</td>\n",
       "      <td>10</td>\n",
       "      <td>0</td>\n",
       "      <td>1.0</td>\n",
       "      <td>1.0</td>\n",
       "      <td>3.0</td>\n",
       "      <td>1</td>\n",
       "      <td>0.0</td>\n",
       "      <td>0.0</td>\n",
       "      <td>5.0</td>\n",
       "      <td>5.0</td>\n",
       "      <td>5.0</td>\n",
       "      <td>0</td>\n",
       "      <td>0.10</td>\n",
       "      <td>450</td>\n",
       "      <td>50</td>\n",
       "      <td>2.0</td>\n",
       "      <td>10.34940</td>\n",
       "      <td>0.400000</td>\n",
       "      <td>0.600000</td>\n",
       "      <td>0.800000</td>\n",
       "      <td>1</td>\n",
       "      <td>13114</td>\n",
       "      <td>9456</td>\n",
       "      <td>9476</td>\n",
       "      <td>10352</td>\n",
       "      <td>0.2</td>\n",
       "      <td>0.2</td>\n",
       "      <td>0.5</td>\n",
       "      <td>0.036</td>\n",
       "      <td>160</td>\n",
       "      <td>0.002</td>\n",
       "      <td>0.004</td>\n",
       "      <td>0.11</td>\n",
       "      <td>0.040</td>\n",
       "      <td>0</td>\n",
       "      <td>2.8</td>\n",
       "      <td>24</td>\n",
       "      <td>0.13</td>\n",
       "      <td>0.32</td>\n",
       "      <td>0</td>\n",
       "      <td>0</td>\n",
       "    </tr>\n",
       "    <tr>\n",
       "      <th>2</th>\n",
       "      <td>101_STEAM_3</td>\n",
       "      <td>101</td>\n",
       "      <td>3</td>\n",
       "      <td>U76</td>\n",
       "      <td>STEAM</td>\n",
       "      <td>Coal</td>\n",
       "      <td>Coal</td>\n",
       "      <td>76.0</td>\n",
       "      <td>0.14</td>\n",
       "      <td>1.0468</td>\n",
       "      <td>76.0</td>\n",
       "      <td>30</td>\n",
       "      <td>30</td>\n",
       "      <td>-25</td>\n",
       "      <td>4.0</td>\n",
       "      <td>8.0</td>\n",
       "      <td>2.0</td>\n",
       "      <td>12</td>\n",
       "      <td>10.0</td>\n",
       "      <td>3.0</td>\n",
       "      <td>5284.8</td>\n",
       "      <td>4861.4</td>\n",
       "      <td>3379.4</td>\n",
       "      <td>0</td>\n",
       "      <td>0.02</td>\n",
       "      <td>1960</td>\n",
       "      <td>40</td>\n",
       "      <td>3.0</td>\n",
       "      <td>2.11399</td>\n",
       "      <td>0.394737</td>\n",
       "      <td>0.596491</td>\n",
       "      <td>0.798246</td>\n",
       "      <td>1</td>\n",
       "      <td>13270</td>\n",
       "      <td>6713</td>\n",
       "      <td>8028</td>\n",
       "      <td>8549</td>\n",
       "      <td>Unit-specific</td>\n",
       "      <td>Unit-specific</td>\n",
       "      <td>Unit-specific</td>\n",
       "      <td>Unit-specific</td>\n",
       "      <td>210</td>\n",
       "      <td>0.001</td>\n",
       "      <td>0.004</td>\n",
       "      <td>0.02</td>\n",
       "      <td>0.003</td>\n",
       "      <td>0</td>\n",
       "      <td>3.0</td>\n",
       "      <td>89</td>\n",
       "      <td>0.13</td>\n",
       "      <td>0.30</td>\n",
       "      <td>0</td>\n",
       "      <td>0</td>\n",
       "    </tr>\n",
       "    <tr>\n",
       "      <th>3</th>\n",
       "      <td>101_STEAM_4</td>\n",
       "      <td>101</td>\n",
       "      <td>4</td>\n",
       "      <td>U76</td>\n",
       "      <td>STEAM</td>\n",
       "      <td>Coal</td>\n",
       "      <td>Coal</td>\n",
       "      <td>76.0</td>\n",
       "      <td>0.14</td>\n",
       "      <td>1.0468</td>\n",
       "      <td>76.0</td>\n",
       "      <td>30</td>\n",
       "      <td>30</td>\n",
       "      <td>-25</td>\n",
       "      <td>4.0</td>\n",
       "      <td>8.0</td>\n",
       "      <td>2.0</td>\n",
       "      <td>12</td>\n",
       "      <td>10.0</td>\n",
       "      <td>3.0</td>\n",
       "      <td>5284.8</td>\n",
       "      <td>4861.4</td>\n",
       "      <td>3379.4</td>\n",
       "      <td>0</td>\n",
       "      <td>0.02</td>\n",
       "      <td>1960</td>\n",
       "      <td>40</td>\n",
       "      <td>3.0</td>\n",
       "      <td>2.11399</td>\n",
       "      <td>0.394737</td>\n",
       "      <td>0.596491</td>\n",
       "      <td>0.798246</td>\n",
       "      <td>1</td>\n",
       "      <td>13270</td>\n",
       "      <td>6713</td>\n",
       "      <td>8028</td>\n",
       "      <td>8549</td>\n",
       "      <td>Unit-specific</td>\n",
       "      <td>Unit-specific</td>\n",
       "      <td>Unit-specific</td>\n",
       "      <td>Unit-specific</td>\n",
       "      <td>210</td>\n",
       "      <td>0.001</td>\n",
       "      <td>0.004</td>\n",
       "      <td>0.02</td>\n",
       "      <td>0.003</td>\n",
       "      <td>0</td>\n",
       "      <td>3.0</td>\n",
       "      <td>89</td>\n",
       "      <td>0.13</td>\n",
       "      <td>0.30</td>\n",
       "      <td>0</td>\n",
       "      <td>0</td>\n",
       "    </tr>\n",
       "    <tr>\n",
       "      <th>4</th>\n",
       "      <td>102_CT_1</td>\n",
       "      <td>102</td>\n",
       "      <td>1</td>\n",
       "      <td>U20</td>\n",
       "      <td>CT</td>\n",
       "      <td>Oil CT</td>\n",
       "      <td>Oil</td>\n",
       "      <td>8.0</td>\n",
       "      <td>4.88</td>\n",
       "      <td>1.0467</td>\n",
       "      <td>20.0</td>\n",
       "      <td>8</td>\n",
       "      <td>10</td>\n",
       "      <td>0</td>\n",
       "      <td>1.0</td>\n",
       "      <td>1.0</td>\n",
       "      <td>3.0</td>\n",
       "      <td>1</td>\n",
       "      <td>0.0</td>\n",
       "      <td>0.0</td>\n",
       "      <td>5.0</td>\n",
       "      <td>5.0</td>\n",
       "      <td>5.0</td>\n",
       "      <td>0</td>\n",
       "      <td>0.10</td>\n",
       "      <td>450</td>\n",
       "      <td>50</td>\n",
       "      <td>2.0</td>\n",
       "      <td>10.34940</td>\n",
       "      <td>0.400000</td>\n",
       "      <td>0.600000</td>\n",
       "      <td>0.800000</td>\n",
       "      <td>1</td>\n",
       "      <td>14639</td>\n",
       "      <td>8597</td>\n",
       "      <td>9147</td>\n",
       "      <td>9622</td>\n",
       "      <td>0.2</td>\n",
       "      <td>0.2</td>\n",
       "      <td>0.5</td>\n",
       "      <td>0.036</td>\n",
       "      <td>160</td>\n",
       "      <td>0.002</td>\n",
       "      <td>0.004</td>\n",
       "      <td>0.11</td>\n",
       "      <td>0.040</td>\n",
       "      <td>0</td>\n",
       "      <td>2.8</td>\n",
       "      <td>24</td>\n",
       "      <td>0.13</td>\n",
       "      <td>0.32</td>\n",
       "      <td>0</td>\n",
       "      <td>0</td>\n",
       "    </tr>\n",
       "  </tbody>\n",
       "</table>\n",
       "</div>"
      ],
      "text/plain": [
       "        GenUID  BusNum  Gen ID Unit Group Unit Type Category GenFuelType  \\\n",
       "0     101_CT_1     101       1        U20        CT   Oil CT         Oil   \n",
       "1     101_CT_2     101       2        U20        CT   Oil CT         Oil   \n",
       "2  101_STEAM_3     101       3        U76     STEAM     Coal        Coal   \n",
       "3  101_STEAM_4     101       4        U76     STEAM     Coal        Coal   \n",
       "4     102_CT_1     102       1        U20        CT   Oil CT         Oil   \n",
       "\n",
       "   MW Inj  MVAR Inj  V Setpoint p.u.  GenMWMax  PMin MW  QMax MVAR  QMin MVAR  \\\n",
       "0     8.0      4.96           1.0468      20.0        8         10          0   \n",
       "1     8.0      4.96           1.0468      20.0        8         10          0   \n",
       "2    76.0      0.14           1.0468      76.0       30         30        -25   \n",
       "3    76.0      0.14           1.0468      76.0       30         30        -25   \n",
       "4     8.0      4.88           1.0467      20.0        8         10          0   \n",
       "\n",
       "   Min Down Time Hr  Min Up Time Hr  Ramp Rate MW/Min  Start Time Cold Hr  \\\n",
       "0               1.0             1.0               3.0                   1   \n",
       "1               1.0             1.0               3.0                   1   \n",
       "2               4.0             8.0               2.0                  12   \n",
       "3               4.0             8.0               2.0                  12   \n",
       "4               1.0             1.0               3.0                   1   \n",
       "\n",
       "   Start Time Warm Hr  Start Time Hot Hr  Start Heat Cold MBTU  \\\n",
       "0                 0.0                0.0                   5.0   \n",
       "1                 0.0                0.0                   5.0   \n",
       "2                10.0                3.0                5284.8   \n",
       "3                10.0                3.0                5284.8   \n",
       "4                 0.0                0.0                   5.0   \n",
       "\n",
       "   Start Heat Warm MBTU  Start Heat Hot MBTU  Non Fuel Start Cost $   FOR  \\\n",
       "0                   5.0                  5.0                      0  0.10   \n",
       "1                   5.0                  5.0                      0  0.10   \n",
       "2                4861.4               3379.4                      0  0.02   \n",
       "3                4861.4               3379.4                      0  0.02   \n",
       "4                   5.0                  5.0                      0  0.10   \n",
       "\n",
       "   MTTF Hr  MTTR Hr  Scheduled Maint Weeks  Fuel Price $/MMBTU  Output_pct_0  \\\n",
       "0      450       50                    2.0            10.34940      0.400000   \n",
       "1      450       50                    2.0            10.34940      0.400000   \n",
       "2     1960       40                    3.0             2.11399      0.394737   \n",
       "3     1960       40                    3.0             2.11399      0.394737   \n",
       "4      450       50                    2.0            10.34940      0.400000   \n",
       "\n",
       "   Output_pct_1  Output_pct_2  Output_pct_3  HR_avg_0  HR_incr_1  HR_incr_2  \\\n",
       "0      0.600000      0.800000             1     13114       9456       9476   \n",
       "1      0.600000      0.800000             1     13114       9456       9476   \n",
       "2      0.596491      0.798246             1     13270       6713       8028   \n",
       "3      0.596491      0.798246             1     13270       6713       8028   \n",
       "4      0.600000      0.800000             1     14639       8597       9147   \n",
       "\n",
       "   HR_incr_3 Fuel Sulfur Content % Emissions SO2 Lbs/MMBTU  \\\n",
       "0      10352                   0.2                     0.2   \n",
       "1      10352                   0.2                     0.2   \n",
       "2       8549         Unit-specific           Unit-specific   \n",
       "3       8549         Unit-specific           Unit-specific   \n",
       "4       9622                   0.2                     0.2   \n",
       "\n",
       "  Emissions NOX Lbs/MMBTU Emissions Part Lbs/MMBTU  Emissions CO2 Lbs/MMBTU  \\\n",
       "0                     0.5                    0.036                      160   \n",
       "1                     0.5                    0.036                      160   \n",
       "2           Unit-specific            Unit-specific                      210   \n",
       "3           Unit-specific            Unit-specific                      210   \n",
       "4                     0.5                    0.036                      160   \n",
       "\n",
       "   Emissions CH4 Lbs/MMBTU  Emissions N2O Lbs/MMBTU  Emissions CO Lbs/MMBTU  \\\n",
       "0                    0.002                    0.004                    0.11   \n",
       "1                    0.002                    0.004                    0.11   \n",
       "2                    0.001                    0.004                    0.02   \n",
       "3                    0.001                    0.004                    0.02   \n",
       "4                    0.002                    0.004                    0.11   \n",
       "\n",
       "   Emissions VOCs Lbs/MMBTU  Damping Ratio  Inertia MJ/MW  Base MVA  \\\n",
       "0                     0.040              0            2.8        24   \n",
       "1                     0.040              0            2.8        24   \n",
       "2                     0.003              0            3.0        89   \n",
       "3                     0.003              0            3.0        89   \n",
       "4                     0.040              0            2.8        24   \n",
       "\n",
       "   Transformer X p.u.  Unit X p.u.  Pump Load MW  Storage Roundtrip Efficiency  \n",
       "0                0.13         0.32             0                             0  \n",
       "1                0.13         0.32             0                             0  \n",
       "2                0.13         0.30             0                             0  \n",
       "3                0.13         0.30             0                             0  \n",
       "4                0.13         0.32             0                             0  "
      ]
     },
     "execution_count": 49,
     "metadata": {},
     "output_type": "execute_result"
    },
    {
     "name": "stdout",
     "output_type": "stream",
     "text": [
      "wind_gen_df:\n"
     ]
    },
    {
     "data": {
      "text/html": [
       "<div>\n",
       "<style scoped>\n",
       "    .dataframe tbody tr th:only-of-type {\n",
       "        vertical-align: middle;\n",
       "    }\n",
       "\n",
       "    .dataframe tbody tr th {\n",
       "        vertical-align: top;\n",
       "    }\n",
       "\n",
       "    .dataframe thead th {\n",
       "        text-align: right;\n",
       "    }\n",
       "</style>\n",
       "<table border=\"1\" class=\"dataframe\">\n",
       "  <thead>\n",
       "    <tr style=\"text-align: right;\">\n",
       "      <th></th>\n",
       "      <th>BusNum</th>\n",
       "      <th>GenUID</th>\n",
       "      <th>Gen ID</th>\n",
       "      <th>Unit Group</th>\n",
       "      <th>Unit Type</th>\n",
       "      <th>Category</th>\n",
       "      <th>GenFuelType</th>\n",
       "      <th>MW Inj</th>\n",
       "      <th>MVAR Inj</th>\n",
       "      <th>V Setpoint p.u.</th>\n",
       "      <th>GenMWMax</th>\n",
       "      <th>PMin MW</th>\n",
       "      <th>QMax MVAR</th>\n",
       "      <th>QMin MVAR</th>\n",
       "      <th>Min Down Time Hr</th>\n",
       "      <th>Min Up Time Hr</th>\n",
       "      <th>Ramp Rate MW/Min</th>\n",
       "      <th>Start Time Cold Hr</th>\n",
       "      <th>Start Time Warm Hr</th>\n",
       "      <th>Start Time Hot Hr</th>\n",
       "      <th>Start Heat Cold MBTU</th>\n",
       "      <th>Start Heat Warm MBTU</th>\n",
       "      <th>Start Heat Hot MBTU</th>\n",
       "      <th>Non Fuel Start Cost $</th>\n",
       "      <th>FOR</th>\n",
       "      <th>MTTF Hr</th>\n",
       "      <th>MTTR Hr</th>\n",
       "      <th>Scheduled Maint Weeks</th>\n",
       "      <th>Fuel Price $/MMBTU</th>\n",
       "      <th>Output_pct_0</th>\n",
       "      <th>Output_pct_1</th>\n",
       "      <th>Output_pct_2</th>\n",
       "      <th>Output_pct_3</th>\n",
       "      <th>HR_avg_0</th>\n",
       "      <th>HR_incr_1</th>\n",
       "      <th>HR_incr_2</th>\n",
       "      <th>HR_incr_3</th>\n",
       "      <th>Fuel Sulfur Content %</th>\n",
       "      <th>Emissions SO2 Lbs/MMBTU</th>\n",
       "      <th>Emissions NOX Lbs/MMBTU</th>\n",
       "      <th>Emissions Part Lbs/MMBTU</th>\n",
       "      <th>Emissions CO2 Lbs/MMBTU</th>\n",
       "      <th>Emissions CH4 Lbs/MMBTU</th>\n",
       "      <th>Emissions N2O Lbs/MMBTU</th>\n",
       "      <th>Emissions CO Lbs/MMBTU</th>\n",
       "      <th>Emissions VOCs Lbs/MMBTU</th>\n",
       "      <th>Damping Ratio</th>\n",
       "      <th>Inertia MJ/MW</th>\n",
       "      <th>Base MVA</th>\n",
       "      <th>Transformer X p.u.</th>\n",
       "      <th>Unit X p.u.</th>\n",
       "      <th>Pump Load MW</th>\n",
       "      <th>Storage Roundtrip Efficiency</th>\n",
       "      <th>Latitude</th>\n",
       "      <th>Longitude</th>\n",
       "    </tr>\n",
       "  </thead>\n",
       "  <tbody>\n",
       "    <tr>\n",
       "      <th>0</th>\n",
       "      <td>309</td>\n",
       "      <td>309_WIND_1</td>\n",
       "      <td>1</td>\n",
       "      <td>WIND</td>\n",
       "      <td>WIND</td>\n",
       "      <td>Wind</td>\n",
       "      <td>Wind</td>\n",
       "      <td>0.0</td>\n",
       "      <td>0.0</td>\n",
       "      <td>1.0</td>\n",
       "      <td>148.3</td>\n",
       "      <td>0</td>\n",
       "      <td>0</td>\n",
       "      <td>0</td>\n",
       "      <td>0.0</td>\n",
       "      <td>0.0</td>\n",
       "      <td>148.3</td>\n",
       "      <td>0</td>\n",
       "      <td>0.0</td>\n",
       "      <td>0.0</td>\n",
       "      <td>0.0</td>\n",
       "      <td>0.0</td>\n",
       "      <td>0.0</td>\n",
       "      <td>0</td>\n",
       "      <td>0.0</td>\n",
       "      <td>0</td>\n",
       "      <td>0</td>\n",
       "      <td>0.0</td>\n",
       "      <td>0.0</td>\n",
       "      <td>0.0</td>\n",
       "      <td>0.0</td>\n",
       "      <td>0.0</td>\n",
       "      <td>0</td>\n",
       "      <td>0</td>\n",
       "      <td>0</td>\n",
       "      <td>0</td>\n",
       "      <td>0</td>\n",
       "      <td>0</td>\n",
       "      <td>0</td>\n",
       "      <td>0</td>\n",
       "      <td>0</td>\n",
       "      <td>0</td>\n",
       "      <td>0.0</td>\n",
       "      <td>0.0</td>\n",
       "      <td>0.0</td>\n",
       "      <td>0.0</td>\n",
       "      <td>0</td>\n",
       "      <td>0.0</td>\n",
       "      <td>0</td>\n",
       "      <td>0.0</td>\n",
       "      <td>0.0</td>\n",
       "      <td>0</td>\n",
       "      <td>0</td>\n",
       "      <td>34.735758</td>\n",
       "      <td>-118.127342</td>\n",
       "    </tr>\n",
       "    <tr>\n",
       "      <th>1</th>\n",
       "      <td>317</td>\n",
       "      <td>317_WIND_1</td>\n",
       "      <td>1</td>\n",
       "      <td>WIND</td>\n",
       "      <td>WIND</td>\n",
       "      <td>Wind</td>\n",
       "      <td>Wind</td>\n",
       "      <td>0.0</td>\n",
       "      <td>0.0</td>\n",
       "      <td>1.0</td>\n",
       "      <td>799.1</td>\n",
       "      <td>0</td>\n",
       "      <td>0</td>\n",
       "      <td>0</td>\n",
       "      <td>0.0</td>\n",
       "      <td>0.0</td>\n",
       "      <td>799.1</td>\n",
       "      <td>0</td>\n",
       "      <td>0.0</td>\n",
       "      <td>0.0</td>\n",
       "      <td>0.0</td>\n",
       "      <td>0.0</td>\n",
       "      <td>0.0</td>\n",
       "      <td>0</td>\n",
       "      <td>0.0</td>\n",
       "      <td>0</td>\n",
       "      <td>0</td>\n",
       "      <td>0.0</td>\n",
       "      <td>0.0</td>\n",
       "      <td>0.0</td>\n",
       "      <td>0.0</td>\n",
       "      <td>0.0</td>\n",
       "      <td>0</td>\n",
       "      <td>0</td>\n",
       "      <td>0</td>\n",
       "      <td>0</td>\n",
       "      <td>0</td>\n",
       "      <td>0</td>\n",
       "      <td>0</td>\n",
       "      <td>0</td>\n",
       "      <td>0</td>\n",
       "      <td>0</td>\n",
       "      <td>0.0</td>\n",
       "      <td>0.0</td>\n",
       "      <td>0.0</td>\n",
       "      <td>0.0</td>\n",
       "      <td>0</td>\n",
       "      <td>0.0</td>\n",
       "      <td>0</td>\n",
       "      <td>0.0</td>\n",
       "      <td>0.0</td>\n",
       "      <td>0</td>\n",
       "      <td>0</td>\n",
       "      <td>35.378433</td>\n",
       "      <td>-117.055829</td>\n",
       "    </tr>\n",
       "    <tr>\n",
       "      <th>2</th>\n",
       "      <td>303</td>\n",
       "      <td>303_WIND_1</td>\n",
       "      <td>1</td>\n",
       "      <td>WIND</td>\n",
       "      <td>WIND</td>\n",
       "      <td>Wind</td>\n",
       "      <td>Wind</td>\n",
       "      <td>0.0</td>\n",
       "      <td>0.0</td>\n",
       "      <td>1.0</td>\n",
       "      <td>847.0</td>\n",
       "      <td>0</td>\n",
       "      <td>0</td>\n",
       "      <td>0</td>\n",
       "      <td>0.0</td>\n",
       "      <td>0.0</td>\n",
       "      <td>847.0</td>\n",
       "      <td>0</td>\n",
       "      <td>0.0</td>\n",
       "      <td>0.0</td>\n",
       "      <td>0.0</td>\n",
       "      <td>0.0</td>\n",
       "      <td>0.0</td>\n",
       "      <td>0</td>\n",
       "      <td>0.0</td>\n",
       "      <td>0</td>\n",
       "      <td>0</td>\n",
       "      <td>0.0</td>\n",
       "      <td>0.0</td>\n",
       "      <td>0.0</td>\n",
       "      <td>0.0</td>\n",
       "      <td>0.0</td>\n",
       "      <td>0</td>\n",
       "      <td>0</td>\n",
       "      <td>0</td>\n",
       "      <td>0</td>\n",
       "      <td>0</td>\n",
       "      <td>0</td>\n",
       "      <td>0</td>\n",
       "      <td>0</td>\n",
       "      <td>0</td>\n",
       "      <td>0</td>\n",
       "      <td>0.0</td>\n",
       "      <td>0.0</td>\n",
       "      <td>0.0</td>\n",
       "      <td>0.0</td>\n",
       "      <td>0</td>\n",
       "      <td>0.0</td>\n",
       "      <td>0</td>\n",
       "      <td>0.0</td>\n",
       "      <td>0.0</td>\n",
       "      <td>0</td>\n",
       "      <td>0</td>\n",
       "      <td>35.217543</td>\n",
       "      <td>-118.043550</td>\n",
       "    </tr>\n",
       "    <tr>\n",
       "      <th>3</th>\n",
       "      <td>122</td>\n",
       "      <td>122_WIND_1</td>\n",
       "      <td>1</td>\n",
       "      <td>WIND</td>\n",
       "      <td>WIND</td>\n",
       "      <td>Wind</td>\n",
       "      <td>Wind</td>\n",
       "      <td>0.0</td>\n",
       "      <td>0.0</td>\n",
       "      <td>1.0</td>\n",
       "      <td>713.5</td>\n",
       "      <td>0</td>\n",
       "      <td>0</td>\n",
       "      <td>0</td>\n",
       "      <td>0.0</td>\n",
       "      <td>0.0</td>\n",
       "      <td>713.5</td>\n",
       "      <td>0</td>\n",
       "      <td>0.0</td>\n",
       "      <td>0.0</td>\n",
       "      <td>0.0</td>\n",
       "      <td>0.0</td>\n",
       "      <td>0.0</td>\n",
       "      <td>0</td>\n",
       "      <td>0.0</td>\n",
       "      <td>0</td>\n",
       "      <td>0</td>\n",
       "      <td>0.0</td>\n",
       "      <td>0.0</td>\n",
       "      <td>0.0</td>\n",
       "      <td>0.0</td>\n",
       "      <td>0.0</td>\n",
       "      <td>0</td>\n",
       "      <td>0</td>\n",
       "      <td>0</td>\n",
       "      <td>0</td>\n",
       "      <td>0</td>\n",
       "      <td>0</td>\n",
       "      <td>0</td>\n",
       "      <td>0</td>\n",
       "      <td>0</td>\n",
       "      <td>0</td>\n",
       "      <td>0.0</td>\n",
       "      <td>0.0</td>\n",
       "      <td>0.0</td>\n",
       "      <td>0.0</td>\n",
       "      <td>0</td>\n",
       "      <td>0.0</td>\n",
       "      <td>0</td>\n",
       "      <td>0.0</td>\n",
       "      <td>0.0</td>\n",
       "      <td>0</td>\n",
       "      <td>0</td>\n",
       "      <td>32.818864</td>\n",
       "      <td>-116.324347</td>\n",
       "    </tr>\n",
       "  </tbody>\n",
       "</table>\n",
       "</div>"
      ],
      "text/plain": [
       "   BusNum      GenUID  Gen ID Unit Group Unit Type Category GenFuelType  \\\n",
       "0     309  309_WIND_1       1       WIND      WIND     Wind        Wind   \n",
       "1     317  317_WIND_1       1       WIND      WIND     Wind        Wind   \n",
       "2     303  303_WIND_1       1       WIND      WIND     Wind        Wind   \n",
       "3     122  122_WIND_1       1       WIND      WIND     Wind        Wind   \n",
       "\n",
       "   MW Inj  MVAR Inj  V Setpoint p.u.  GenMWMax  PMin MW  QMax MVAR  QMin MVAR  \\\n",
       "0     0.0       0.0              1.0     148.3        0          0          0   \n",
       "1     0.0       0.0              1.0     799.1        0          0          0   \n",
       "2     0.0       0.0              1.0     847.0        0          0          0   \n",
       "3     0.0       0.0              1.0     713.5        0          0          0   \n",
       "\n",
       "   Min Down Time Hr  Min Up Time Hr  Ramp Rate MW/Min  Start Time Cold Hr  \\\n",
       "0               0.0             0.0             148.3                   0   \n",
       "1               0.0             0.0             799.1                   0   \n",
       "2               0.0             0.0             847.0                   0   \n",
       "3               0.0             0.0             713.5                   0   \n",
       "\n",
       "   Start Time Warm Hr  Start Time Hot Hr  Start Heat Cold MBTU  \\\n",
       "0                 0.0                0.0                   0.0   \n",
       "1                 0.0                0.0                   0.0   \n",
       "2                 0.0                0.0                   0.0   \n",
       "3                 0.0                0.0                   0.0   \n",
       "\n",
       "   Start Heat Warm MBTU  Start Heat Hot MBTU  Non Fuel Start Cost $  FOR  \\\n",
       "0                   0.0                  0.0                      0  0.0   \n",
       "1                   0.0                  0.0                      0  0.0   \n",
       "2                   0.0                  0.0                      0  0.0   \n",
       "3                   0.0                  0.0                      0  0.0   \n",
       "\n",
       "   MTTF Hr  MTTR Hr  Scheduled Maint Weeks  Fuel Price $/MMBTU  Output_pct_0  \\\n",
       "0        0        0                    0.0                 0.0           0.0   \n",
       "1        0        0                    0.0                 0.0           0.0   \n",
       "2        0        0                    0.0                 0.0           0.0   \n",
       "3        0        0                    0.0                 0.0           0.0   \n",
       "\n",
       "   Output_pct_1  Output_pct_2  Output_pct_3  HR_avg_0  HR_incr_1  HR_incr_2  \\\n",
       "0           0.0           0.0             0         0          0          0   \n",
       "1           0.0           0.0             0         0          0          0   \n",
       "2           0.0           0.0             0         0          0          0   \n",
       "3           0.0           0.0             0         0          0          0   \n",
       "\n",
       "   HR_incr_3 Fuel Sulfur Content % Emissions SO2 Lbs/MMBTU  \\\n",
       "0          0                     0                       0   \n",
       "1          0                     0                       0   \n",
       "2          0                     0                       0   \n",
       "3          0                     0                       0   \n",
       "\n",
       "  Emissions NOX Lbs/MMBTU Emissions Part Lbs/MMBTU  Emissions CO2 Lbs/MMBTU  \\\n",
       "0                       0                        0                        0   \n",
       "1                       0                        0                        0   \n",
       "2                       0                        0                        0   \n",
       "3                       0                        0                        0   \n",
       "\n",
       "   Emissions CH4 Lbs/MMBTU  Emissions N2O Lbs/MMBTU  Emissions CO Lbs/MMBTU  \\\n",
       "0                      0.0                      0.0                     0.0   \n",
       "1                      0.0                      0.0                     0.0   \n",
       "2                      0.0                      0.0                     0.0   \n",
       "3                      0.0                      0.0                     0.0   \n",
       "\n",
       "   Emissions VOCs Lbs/MMBTU  Damping Ratio  Inertia MJ/MW  Base MVA  \\\n",
       "0                       0.0              0            0.0         0   \n",
       "1                       0.0              0            0.0         0   \n",
       "2                       0.0              0            0.0         0   \n",
       "3                       0.0              0            0.0         0   \n",
       "\n",
       "   Transformer X p.u.  Unit X p.u.  Pump Load MW  \\\n",
       "0                 0.0          0.0             0   \n",
       "1                 0.0          0.0             0   \n",
       "2                 0.0          0.0             0   \n",
       "3                 0.0          0.0             0   \n",
       "\n",
       "   Storage Roundtrip Efficiency   Latitude   Longitude  \n",
       "0                             0  34.735758 -118.127342  \n",
       "1                             0  35.378433 -117.055829  \n",
       "2                             0  35.217543 -118.043550  \n",
       "3                             0  32.818864 -116.324347  "
      ]
     },
     "execution_count": 49,
     "metadata": {},
     "output_type": "execute_result"
    },
    {
     "data": {
      "application/javascript": [
       "\n",
       "            setTimeout(function() {\n",
       "                var nbb_cell_id = 49;\n",
       "                var nbb_unformatted_code = \"# RTS-GMLC grid \\n# https://github.com/GridMod/RTS-GMLC\\ngrid_name = \\\"RTS\\\"\\n\\ndata_dir = \\\"../data/grid-data\\\"\\n\\nbus_csv_filename = os.path.join(data_dir, grid_name, \\\"bus.csv\\\")\\ngen_csv_filename = os.path.join(data_dir, grid_name, \\\"gen.csv\\\")\\n\\nparser = Parser()\\n\\n# if solar2wind, will replace all solar to wind\\nbus_df, gen_df, wind_gen_df = parser.parse_rts_csvs(\\n    bus_csv_filename, gen_csv_filename, solar2wind=False\\n)\\n\\n# see what you got\\nprint(\\\"bus_df:\\\")\\nbus_df.head()\\nprint(\\\"gen_df:\\\")\\ngen_df.head()\\nprint(\\\"wind_gen_df:\\\")\\nwind_gen_df.head()\";\n",
       "                var nbb_formatted_code = \"# RTS-GMLC grid\\n# https://github.com/GridMod/RTS-GMLC\\ngrid_name = \\\"RTS\\\"\\n\\ndata_dir = \\\"../data/grid-data\\\"\\n\\nbus_csv_filename = os.path.join(data_dir, grid_name, \\\"bus.csv\\\")\\ngen_csv_filename = os.path.join(data_dir, grid_name, \\\"gen.csv\\\")\\n\\nparser = Parser()\\n\\n# if solar2wind, will replace all solar to wind\\nbus_df, gen_df, wind_gen_df = parser.parse_rts_csvs(\\n    bus_csv_filename, gen_csv_filename, solar2wind=False\\n)\\n\\n# see what you got\\nprint(\\\"bus_df:\\\")\\nbus_df.head()\\nprint(\\\"gen_df:\\\")\\ngen_df.head()\\nprint(\\\"wind_gen_df:\\\")\\nwind_gen_df.head()\";\n",
       "                var nbb_cells = Jupyter.notebook.get_cells();\n",
       "                for (var i = 0; i < nbb_cells.length; ++i) {\n",
       "                    if (nbb_cells[i].input_prompt_number == nbb_cell_id) {\n",
       "                        if (nbb_cells[i].get_text() == nbb_unformatted_code) {\n",
       "                             nbb_cells[i].set_text(nbb_formatted_code);\n",
       "                        }\n",
       "                        break;\n",
       "                    }\n",
       "                }\n",
       "            }, 500);\n",
       "            "
      ],
      "text/plain": [
       "<IPython.core.display.Javascript object>"
      ]
     },
     "metadata": {},
     "output_type": "display_data"
    }
   ],
   "source": [
    "# # RTS-GMLC grid\n",
    "# # https://github.com/GridMod/RTS-GMLC\n",
    "# grid_name = \"RTS\"\n",
    "\n",
    "# data_dir = \"../data/grid-data\"\n",
    "\n",
    "# bus_csv_filename = os.path.join(data_dir, grid_name, \"bus.csv\")\n",
    "# gen_csv_filename = os.path.join(data_dir, grid_name, \"gen.csv\")\n",
    "\n",
    "# parser = Parser()\n",
    "\n",
    "# # if solar2wind, will replace all solar to wind\n",
    "# bus_df, gen_df, wind_gen_df = parser.parse_rts_csvs(\n",
    "#     bus_csv_filename, gen_csv_filename, solar2wind=False\n",
    "# )\n",
    "\n",
    "# # see what you got\n",
    "# print(\"bus_df:\")\n",
    "# bus_df.head()\n",
    "# print(\"gen_df:\")\n",
    "# gen_df.head()\n",
    "# print(\"wind_gen_df:\")\n",
    "# wind_gen_df.head()"
   ]
  },
  {
   "cell_type": "markdown",
   "metadata": {},
   "source": [
    "## instantiate Grid class"
   ]
  },
  {
   "cell_type": "code",
   "execution_count": 42,
   "metadata": {
    "scrolled": false
   },
   "outputs": [
    {
     "data": {
      "text/plain": [
       "Grid(name=ACTIVSg200, buses=200, generators=49, wind_generators=6, wind_sites=0)"
      ]
     },
     "execution_count": 42,
     "metadata": {},
     "output_type": "execute_result"
    },
    {
     "name": "stdout",
     "output_type": "stream",
     "text": [
      "\n",
      "ACTIVSg200 grid info: \n",
      "\n",
      " number of buses: 200\n",
      " number of generators: 49\n",
      " number of wind generators: 6\n",
      " number of solar generators: 0\n",
      " total generator capacity: 3602.84 MW\n",
      " wind capacity/penetration: 699.60 MW / 19.42%\n",
      " solar capacity/penetration: 0.00 MW / 0.00%\n"
     ]
    },
    {
     "data": {
      "application/javascript": [
       "\n",
       "            setTimeout(function() {\n",
       "                var nbb_cell_id = 42;\n",
       "                var nbb_unformatted_code = \"# to instantiate a grid we need: name, bus, generator, and wind generator dataframes from Parser\\n# really, we only wind generators, will change in the future\\ngrid = Grid(grid_name, bus_df, gen_df, wind_gen_df)\\ngrid\\nprint(grid.info())\";\n",
       "                var nbb_formatted_code = \"# to instantiate a grid we need: name, bus, generator, and wind generator dataframes from Parser\\n# really, we only wind generators, will change in the future\\ngrid = Grid(grid_name, bus_df, gen_df, wind_gen_df)\\ngrid\\nprint(grid.info())\";\n",
       "                var nbb_cells = Jupyter.notebook.get_cells();\n",
       "                for (var i = 0; i < nbb_cells.length; ++i) {\n",
       "                    if (nbb_cells[i].input_prompt_number == nbb_cell_id) {\n",
       "                        if (nbb_cells[i].get_text() == nbb_unformatted_code) {\n",
       "                             nbb_cells[i].set_text(nbb_formatted_code);\n",
       "                        }\n",
       "                        break;\n",
       "                    }\n",
       "                }\n",
       "            }, 500);\n",
       "            "
      ],
      "text/plain": [
       "<IPython.core.display.Javascript object>"
      ]
     },
     "metadata": {},
     "output_type": "display_data"
    }
   ],
   "source": [
    "# to instantiate a grid we need: name, bus, generator, and wind generator dataframes from Parser\n",
    "# really, we only wind generators, will change in the future\n",
    "grid = Grid(grid_name, bus_df, gen_df, wind_gen_df)\n",
    "grid\n",
    "print(grid.info())"
   ]
  },
  {
   "cell_type": "markdown",
   "metadata": {},
   "source": [
    "## (optional) change_wind_penetration method"
   ]
  },
  {
   "cell_type": "code",
   "execution_count": 4,
   "metadata": {
    "scrolled": false
   },
   "outputs": [
    {
     "data": {
      "application/javascript": [
       "\n",
       "            setTimeout(function() {\n",
       "                var nbb_cell_id = 4;\n",
       "                var nbb_unformatted_code = \"#?grid.change_wind_penetration\";\n",
       "                var nbb_formatted_code = \"# ?grid.change_wind_penetration\";\n",
       "                var nbb_cells = Jupyter.notebook.get_cells();\n",
       "                for (var i = 0; i < nbb_cells.length; ++i) {\n",
       "                    if (nbb_cells[i].input_prompt_number == nbb_cell_id) {\n",
       "                        if (nbb_cells[i].get_text() == nbb_unformatted_code) {\n",
       "                             nbb_cells[i].set_text(nbb_formatted_code);\n",
       "                        }\n",
       "                        break;\n",
       "                    }\n",
       "                }\n",
       "            }, 500);\n",
       "            "
      ],
      "text/plain": [
       "<IPython.core.display.Javascript object>"
      ]
     },
     "metadata": {},
     "output_type": "display_data"
    }
   ],
   "source": [
    "# grid.change_wind_penetration(30.)"
   ]
  },
  {
   "cell_type": "markdown",
   "metadata": {},
   "source": [
    "## retrieve_wind_sites method"
   ]
  },
  {
   "cell_type": "code",
   "execution_count": 5,
   "metadata": {
    "scrolled": false
   },
   "outputs": [
    {
     "data": {
      "application/javascript": [
       "\n",
       "            setTimeout(function() {\n",
       "                var nbb_cell_id = 5;\n",
       "                var nbb_unformatted_code = \"# ?grid.retrieve_wind_sites\";\n",
       "                var nbb_formatted_code = \"# ?grid.retrieve_wind_sites\";\n",
       "                var nbb_cells = Jupyter.notebook.get_cells();\n",
       "                for (var i = 0; i < nbb_cells.length; ++i) {\n",
       "                    if (nbb_cells[i].input_prompt_number == nbb_cell_id) {\n",
       "                        if (nbb_cells[i].get_text() == nbb_unformatted_code) {\n",
       "                             nbb_cells[i].set_text(nbb_formatted_code);\n",
       "                        }\n",
       "                        break;\n",
       "                    }\n",
       "                }\n",
       "            }, 500);\n",
       "            "
      ],
      "text/plain": [
       "<IPython.core.display.Javascript object>"
      ]
     },
     "metadata": {},
     "output_type": "display_data"
    }
   ],
   "source": [
    "# ?grid.retrieve_wind_sites"
   ]
  },
  {
   "cell_type": "code",
   "execution_count": 43,
   "metadata": {
    "scrolled": false
   },
   "outputs": [
    {
     "data": {
      "text/plain": [
       "Grid(name=ACTIVSg200, buses=200, generators=49, wind_generators=6, wind_sites=0)"
      ]
     },
     "execution_count": 43,
     "metadata": {},
     "output_type": "execute_result"
    },
    {
     "name": "stdout",
     "output_type": "stream",
     "text": [
      "Retrieving wind sites ...\n",
      "Done\n"
     ]
    },
    {
     "data": {
      "text/plain": [
       "Grid(name=ACTIVSg200, buses=200, generators=49, wind_generators=6, wind_sites=50)"
      ]
     },
     "execution_count": 43,
     "metadata": {},
     "output_type": "execute_result"
    },
    {
     "data": {
      "text/html": [
       "<div>\n",
       "<style scoped>\n",
       "    .dataframe tbody tr th:only-of-type {\n",
       "        vertical-align: middle;\n",
       "    }\n",
       "\n",
       "    .dataframe tbody tr th {\n",
       "        vertical-align: top;\n",
       "    }\n",
       "\n",
       "    .dataframe thead th {\n",
       "        text-align: right;\n",
       "    }\n",
       "</style>\n",
       "<table border=\"1\" class=\"dataframe\">\n",
       "  <thead>\n",
       "    <tr style=\"text-align: right;\">\n",
       "      <th></th>\n",
       "      <th>SiteID</th>\n",
       "      <th>Capacity</th>\n",
       "      <th>Point</th>\n",
       "      <th>Latitude</th>\n",
       "      <th>Longitude</th>\n",
       "      <th>BusNum</th>\n",
       "      <th>GenUID</th>\n",
       "    </tr>\n",
       "  </thead>\n",
       "  <tbody>\n",
       "    <tr>\n",
       "      <th>0</th>\n",
       "      <td>54007</td>\n",
       "      <td>16.0</td>\n",
       "      <td>POINT (-88.02514600000001 40.458515)</td>\n",
       "      <td>40.458515</td>\n",
       "      <td>-88.025146</td>\n",
       "      <td>65</td>\n",
       "      <td>65_Wind_1</td>\n",
       "    </tr>\n",
       "    <tr>\n",
       "      <th>1</th>\n",
       "      <td>54196</td>\n",
       "      <td>16.0</td>\n",
       "      <td>POINT (-88.02273599999999 40.476978)</td>\n",
       "      <td>40.476978</td>\n",
       "      <td>-88.022736</td>\n",
       "      <td>65</td>\n",
       "      <td>65_Wind_1</td>\n",
       "    </tr>\n",
       "    <tr>\n",
       "      <th>2</th>\n",
       "      <td>54008</td>\n",
       "      <td>16.0</td>\n",
       "      <td>POINT (-88.000885 40.456665)</td>\n",
       "      <td>40.456665</td>\n",
       "      <td>-88.000885</td>\n",
       "      <td>65</td>\n",
       "      <td>65_Wind_1</td>\n",
       "    </tr>\n",
       "    <tr>\n",
       "      <th>3</th>\n",
       "      <td>53833</td>\n",
       "      <td>16.0</td>\n",
       "      <td>POINT (-88.02758799999999 40.440052)</td>\n",
       "      <td>40.440052</td>\n",
       "      <td>-88.027588</td>\n",
       "      <td>65</td>\n",
       "      <td>65_Wind_1</td>\n",
       "    </tr>\n",
       "    <tr>\n",
       "      <th>4</th>\n",
       "      <td>54197</td>\n",
       "      <td>16.0</td>\n",
       "      <td>POINT (-87.998474 40.475128)</td>\n",
       "      <td>40.475128</td>\n",
       "      <td>-87.998474</td>\n",
       "      <td>65</td>\n",
       "      <td>65_Wind_1</td>\n",
       "    </tr>\n",
       "  </tbody>\n",
       "</table>\n",
       "</div>"
      ],
      "text/plain": [
       "   SiteID  Capacity                                 Point   Latitude  \\\n",
       "0   54007      16.0  POINT (-88.02514600000001 40.458515)  40.458515   \n",
       "1   54196      16.0  POINT (-88.02273599999999 40.476978)  40.476978   \n",
       "2   54008      16.0          POINT (-88.000885 40.456665)  40.456665   \n",
       "3   53833      16.0  POINT (-88.02758799999999 40.440052)  40.440052   \n",
       "4   54197      16.0          POINT (-87.998474 40.475128)  40.475128   \n",
       "\n",
       "   Longitude  BusNum     GenUID  \n",
       "0 -88.025146      65  65_Wind_1  \n",
       "1 -88.022736      65  65_Wind_1  \n",
       "2 -88.000885      65  65_Wind_1  \n",
       "3 -88.027588      65  65_Wind_1  \n",
       "4 -87.998474      65  65_Wind_1  "
      ]
     },
     "execution_count": 43,
     "metadata": {},
     "output_type": "execute_result"
    },
    {
     "data": {
      "application/javascript": [
       "\n",
       "            setTimeout(function() {\n",
       "                var nbb_cell_id = 43;\n",
       "                var nbb_unformatted_code = \"# retrieve wind sites matching current wind penetration\\n\\n# retrieve wind sites (wind_sites are initially set to empty df )\\ngrid\\ngrid.retrieve_wind_sites(method=\\\"simple proximity\\\")\\ngrid\\ngrid.wind_sites.head()\";\n",
       "                var nbb_formatted_code = \"# retrieve wind sites matching current wind penetration\\n\\n# retrieve wind sites (wind_sites are initially set to empty df )\\ngrid\\ngrid.retrieve_wind_sites(method=\\\"simple proximity\\\")\\ngrid\\ngrid.wind_sites.head()\";\n",
       "                var nbb_cells = Jupyter.notebook.get_cells();\n",
       "                for (var i = 0; i < nbb_cells.length; ++i) {\n",
       "                    if (nbb_cells[i].input_prompt_number == nbb_cell_id) {\n",
       "                        if (nbb_cells[i].get_text() == nbb_unformatted_code) {\n",
       "                             nbb_cells[i].set_text(nbb_formatted_code);\n",
       "                        }\n",
       "                        break;\n",
       "                    }\n",
       "                }\n",
       "            }, 500);\n",
       "            "
      ],
      "text/plain": [
       "<IPython.core.display.Javascript object>"
      ]
     },
     "metadata": {},
     "output_type": "display_data"
    }
   ],
   "source": [
    "# retrieve wind sites matching current wind penetration\n",
    "\n",
    "# retrieve wind sites (wind_sites are initially set to empty df )\n",
    "grid\n",
    "grid.retrieve_wind_sites(method=\"simple proximity\")\n",
    "grid\n",
    "grid.wind_sites.head()"
   ]
  },
  {
   "cell_type": "markdown",
   "metadata": {},
   "source": [
    "## make tables  \n",
    "if not available, will download data from AWS as needed"
   ]
  },
  {
   "cell_type": "code",
   "execution_count": 44,
   "metadata": {
    "scrolled": false
   },
   "outputs": [
    {
     "name": "stdout",
     "output_type": "stream",
     "text": [
      "Retrieving WTK data ...\n",
      "Done\n",
      "Retrieving WTK data ...\n",
      "Done\n"
     ]
    },
    {
     "data": {
      "application/javascript": [
       "\n",
       "            setTimeout(function() {\n",
       "                var nbb_cell_id = 44;\n",
       "                var nbb_unformatted_code = \"grid.make_tables(\\n    actuals_start=pd.Timestamp(\\\"2007-01-01 00:00:00\\\", tz=\\\"utc\\\"),\\n    actuals_end=pd.Timestamp(\\\"2007-12-31 23:55:00\\\", tz=\\\"utc\\\"),\\n    scenarios_start=pd.Timestamp(\\\"2008-01-01 00:00:00\\\", tz=\\\"utc\\\"),\\n    scenarios_end=pd.Timestamp(\\\"2013-12-31 23:55:00\\\", tz=\\\"utc\\\"),\\n)\";\n",
       "                var nbb_formatted_code = \"grid.make_tables(\\n    actuals_start=pd.Timestamp(\\\"2007-01-01 00:00:00\\\", tz=\\\"utc\\\"),\\n    actuals_end=pd.Timestamp(\\\"2007-12-31 23:55:00\\\", tz=\\\"utc\\\"),\\n    scenarios_start=pd.Timestamp(\\\"2008-01-01 00:00:00\\\", tz=\\\"utc\\\"),\\n    scenarios_end=pd.Timestamp(\\\"2013-12-31 23:55:00\\\", tz=\\\"utc\\\"),\\n)\";\n",
       "                var nbb_cells = Jupyter.notebook.get_cells();\n",
       "                for (var i = 0; i < nbb_cells.length; ++i) {\n",
       "                    if (nbb_cells[i].input_prompt_number == nbb_cell_id) {\n",
       "                        if (nbb_cells[i].get_text() == nbb_unformatted_code) {\n",
       "                             nbb_cells[i].set_text(nbb_formatted_code);\n",
       "                        }\n",
       "                        break;\n",
       "                    }\n",
       "                }\n",
       "            }, 500);\n",
       "            "
      ],
      "text/plain": [
       "<IPython.core.display.Javascript object>"
      ]
     },
     "metadata": {},
     "output_type": "display_data"
    }
   ],
   "source": [
    "grid.make_tables(\n",
    "    actuals_start=pd.Timestamp(\"2007-01-01 00:00:00\", tz=\"utc\"),\n",
    "    actuals_end=pd.Timestamp(\"2007-12-31 23:55:00\", tz=\"utc\"),\n",
    "    scenarios_start=pd.Timestamp(\"2008-01-01 00:00:00\", tz=\"utc\"),\n",
    "    scenarios_end=pd.Timestamp(\"2013-12-31 23:55:00\", tz=\"utc\"),\n",
    ")"
   ]
  },
  {
   "cell_type": "markdown",
   "metadata": {},
   "source": [
    "## change actuals year if needed"
   ]
  },
  {
   "cell_type": "code",
   "execution_count": 45,
   "metadata": {
    "scrolled": false
   },
   "outputs": [
    {
     "name": "stdout",
     "output_type": "stream",
     "text": [
      "\n",
      "actuals_df:\n"
     ]
    },
    {
     "data": {
      "text/html": [
       "<div>\n",
       "<style scoped>\n",
       "    .dataframe tbody tr th:only-of-type {\n",
       "        vertical-align: middle;\n",
       "    }\n",
       "\n",
       "    .dataframe tbody tr th {\n",
       "        vertical-align: top;\n",
       "    }\n",
       "\n",
       "    .dataframe thead th {\n",
       "        text-align: right;\n",
       "    }\n",
       "</style>\n",
       "<table border=\"1\" class=\"dataframe\">\n",
       "  <thead>\n",
       "    <tr style=\"text-align: right;\">\n",
       "      <th></th>\n",
       "      <th>65_Wind_1</th>\n",
       "      <th>104_Wind_1</th>\n",
       "      <th>105_Wind_1</th>\n",
       "      <th>114_Wind_1</th>\n",
       "      <th>115_Wind_1</th>\n",
       "      <th>147_Wind_1</th>\n",
       "      <th>TotalPower</th>\n",
       "    </tr>\n",
       "    <tr>\n",
       "      <th>IssueTime</th>\n",
       "      <th></th>\n",
       "      <th></th>\n",
       "      <th></th>\n",
       "      <th></th>\n",
       "      <th></th>\n",
       "      <th></th>\n",
       "      <th></th>\n",
       "    </tr>\n",
       "  </thead>\n",
       "  <tbody>\n",
       "    <tr>\n",
       "      <th>2020-01-01 00:00:00+00:00</th>\n",
       "      <td>142.094736</td>\n",
       "      <td>99.000001</td>\n",
       "      <td>198.000002</td>\n",
       "      <td>1.7</td>\n",
       "      <td>150.0</td>\n",
       "      <td>100.5</td>\n",
       "      <td>691.294739</td>\n",
       "    </tr>\n",
       "    <tr>\n",
       "      <th>2020-01-01 00:05:00+00:00</th>\n",
       "      <td>140.804726</td>\n",
       "      <td>99.000001</td>\n",
       "      <td>198.000002</td>\n",
       "      <td>1.7</td>\n",
       "      <td>150.0</td>\n",
       "      <td>100.5</td>\n",
       "      <td>690.004728</td>\n",
       "    </tr>\n",
       "    <tr>\n",
       "      <th>2020-01-01 00:10:00+00:00</th>\n",
       "      <td>142.361249</td>\n",
       "      <td>99.000001</td>\n",
       "      <td>198.000002</td>\n",
       "      <td>1.7</td>\n",
       "      <td>150.0</td>\n",
       "      <td>100.5</td>\n",
       "      <td>691.561251</td>\n",
       "    </tr>\n",
       "    <tr>\n",
       "      <th>2020-01-01 00:15:00+00:00</th>\n",
       "      <td>145.972502</td>\n",
       "      <td>99.000001</td>\n",
       "      <td>198.000002</td>\n",
       "      <td>1.7</td>\n",
       "      <td>150.0</td>\n",
       "      <td>100.5</td>\n",
       "      <td>695.172504</td>\n",
       "    </tr>\n",
       "    <tr>\n",
       "      <th>2020-01-01 00:20:00+00:00</th>\n",
       "      <td>150.399995</td>\n",
       "      <td>99.000001</td>\n",
       "      <td>198.000002</td>\n",
       "      <td>1.7</td>\n",
       "      <td>150.0</td>\n",
       "      <td>100.5</td>\n",
       "      <td>699.599997</td>\n",
       "    </tr>\n",
       "  </tbody>\n",
       "</table>\n",
       "</div>"
      ],
      "text/plain": [
       "                            65_Wind_1  104_Wind_1  105_Wind_1  114_Wind_1  \\\n",
       "IssueTime                                                                   \n",
       "2020-01-01 00:00:00+00:00  142.094736   99.000001  198.000002         1.7   \n",
       "2020-01-01 00:05:00+00:00  140.804726   99.000001  198.000002         1.7   \n",
       "2020-01-01 00:10:00+00:00  142.361249   99.000001  198.000002         1.7   \n",
       "2020-01-01 00:15:00+00:00  145.972502   99.000001  198.000002         1.7   \n",
       "2020-01-01 00:20:00+00:00  150.399995   99.000001  198.000002         1.7   \n",
       "\n",
       "                           115_Wind_1  147_Wind_1  TotalPower  \n",
       "IssueTime                                                      \n",
       "2020-01-01 00:00:00+00:00       150.0       100.5  691.294739  \n",
       "2020-01-01 00:05:00+00:00       150.0       100.5  690.004728  \n",
       "2020-01-01 00:10:00+00:00       150.0       100.5  691.561251  \n",
       "2020-01-01 00:15:00+00:00       150.0       100.5  695.172504  \n",
       "2020-01-01 00:20:00+00:00       150.0       100.5  699.599997  "
      ]
     },
     "execution_count": 45,
     "metadata": {},
     "output_type": "execute_result"
    },
    {
     "name": "stdout",
     "output_type": "stream",
     "text": [
      "\n",
      "scenarios_df:\n"
     ]
    },
    {
     "data": {
      "text/html": [
       "<div>\n",
       "<style scoped>\n",
       "    .dataframe tbody tr th:only-of-type {\n",
       "        vertical-align: middle;\n",
       "    }\n",
       "\n",
       "    .dataframe tbody tr th {\n",
       "        vertical-align: top;\n",
       "    }\n",
       "\n",
       "    .dataframe thead th {\n",
       "        text-align: right;\n",
       "    }\n",
       "</style>\n",
       "<table border=\"1\" class=\"dataframe\">\n",
       "  <thead>\n",
       "    <tr style=\"text-align: right;\">\n",
       "      <th></th>\n",
       "      <th>65_Wind_1</th>\n",
       "      <th>104_Wind_1</th>\n",
       "      <th>105_Wind_1</th>\n",
       "      <th>114_Wind_1</th>\n",
       "      <th>115_Wind_1</th>\n",
       "      <th>147_Wind_1</th>\n",
       "      <th>TotalPower</th>\n",
       "      <th>Deviation</th>\n",
       "    </tr>\n",
       "    <tr>\n",
       "      <th>IssueTime</th>\n",
       "      <th></th>\n",
       "      <th></th>\n",
       "      <th></th>\n",
       "      <th></th>\n",
       "      <th></th>\n",
       "      <th></th>\n",
       "      <th></th>\n",
       "      <th></th>\n",
       "    </tr>\n",
       "  </thead>\n",
       "  <tbody>\n",
       "    <tr>\n",
       "      <th>2008-01-01 00:00:00+00:00</th>\n",
       "      <td>1.459344</td>\n",
       "      <td>0.668133</td>\n",
       "      <td>0.583035</td>\n",
       "      <td>-0.024500</td>\n",
       "      <td>0.877288</td>\n",
       "      <td>1.845110</td>\n",
       "      <td>96.746560</td>\n",
       "      <td>5.408411</td>\n",
       "    </tr>\n",
       "    <tr>\n",
       "      <th>2008-01-01 00:05:00+00:00</th>\n",
       "      <td>1.601367</td>\n",
       "      <td>-0.445220</td>\n",
       "      <td>1.269019</td>\n",
       "      <td>0.091567</td>\n",
       "      <td>1.525665</td>\n",
       "      <td>3.528319</td>\n",
       "      <td>102.154971</td>\n",
       "      <td>7.570718</td>\n",
       "    </tr>\n",
       "    <tr>\n",
       "      <th>2008-01-01 00:10:00+00:00</th>\n",
       "      <td>1.097983</td>\n",
       "      <td>-0.016742</td>\n",
       "      <td>1.678258</td>\n",
       "      <td>0.294259</td>\n",
       "      <td>3.257260</td>\n",
       "      <td>5.579959</td>\n",
       "      <td>109.725689</td>\n",
       "      <td>11.890977</td>\n",
       "    </tr>\n",
       "    <tr>\n",
       "      <th>2008-01-01 00:15:00+00:00</th>\n",
       "      <td>1.172363</td>\n",
       "      <td>2.034480</td>\n",
       "      <td>3.025435</td>\n",
       "      <td>0.001593</td>\n",
       "      <td>4.814818</td>\n",
       "      <td>3.355411</td>\n",
       "      <td>121.616666</td>\n",
       "      <td>14.404100</td>\n",
       "    </tr>\n",
       "    <tr>\n",
       "      <th>2008-01-01 00:20:00+00:00</th>\n",
       "      <td>1.237113</td>\n",
       "      <td>2.234493</td>\n",
       "      <td>2.933309</td>\n",
       "      <td>0.000000</td>\n",
       "      <td>5.278723</td>\n",
       "      <td>6.783124</td>\n",
       "      <td>136.020766</td>\n",
       "      <td>18.466761</td>\n",
       "    </tr>\n",
       "  </tbody>\n",
       "</table>\n",
       "</div>"
      ],
      "text/plain": [
       "                           65_Wind_1  104_Wind_1  105_Wind_1  114_Wind_1  \\\n",
       "IssueTime                                                                  \n",
       "2008-01-01 00:00:00+00:00   1.459344    0.668133    0.583035   -0.024500   \n",
       "2008-01-01 00:05:00+00:00   1.601367   -0.445220    1.269019    0.091567   \n",
       "2008-01-01 00:10:00+00:00   1.097983   -0.016742    1.678258    0.294259   \n",
       "2008-01-01 00:15:00+00:00   1.172363    2.034480    3.025435    0.001593   \n",
       "2008-01-01 00:20:00+00:00   1.237113    2.234493    2.933309    0.000000   \n",
       "\n",
       "                           115_Wind_1  147_Wind_1  TotalPower  Deviation  \n",
       "IssueTime                                                                 \n",
       "2008-01-01 00:00:00+00:00    0.877288    1.845110   96.746560   5.408411  \n",
       "2008-01-01 00:05:00+00:00    1.525665    3.528319  102.154971   7.570718  \n",
       "2008-01-01 00:10:00+00:00    3.257260    5.579959  109.725689  11.890977  \n",
       "2008-01-01 00:15:00+00:00    4.814818    3.355411  121.616666  14.404100  \n",
       "2008-01-01 00:20:00+00:00    5.278723    6.783124  136.020766  18.466761  "
      ]
     },
     "execution_count": 45,
     "metadata": {},
     "output_type": "execute_result"
    },
    {
     "data": {
      "application/javascript": [
       "\n",
       "            setTimeout(function() {\n",
       "                var nbb_cell_id = 45;\n",
       "                var nbb_unformatted_code = \"# for actuals, make year you want\\ngrid.actuals.index = grid.actuals.index.map(lambda t: t.replace(year=2020))\\n# see what you got\\nprint(\\\"\\\\nactuals_df:\\\")\\ngrid.actuals.head()\\nprint(\\\"\\\\nscenarios_df:\\\")\\ngrid.scenarios.head()\";\n",
       "                var nbb_formatted_code = \"# for actuals, make year you want\\ngrid.actuals.index = grid.actuals.index.map(lambda t: t.replace(year=2020))\\n# see what you got\\nprint(\\\"\\\\nactuals_df:\\\")\\ngrid.actuals.head()\\nprint(\\\"\\\\nscenarios_df:\\\")\\ngrid.scenarios.head()\";\n",
       "                var nbb_cells = Jupyter.notebook.get_cells();\n",
       "                for (var i = 0; i < nbb_cells.length; ++i) {\n",
       "                    if (nbb_cells[i].input_prompt_number == nbb_cell_id) {\n",
       "                        if (nbb_cells[i].get_text() == nbb_unformatted_code) {\n",
       "                             nbb_cells[i].set_text(nbb_formatted_code);\n",
       "                        }\n",
       "                        break;\n",
       "                    }\n",
       "                }\n",
       "            }, 500);\n",
       "            "
      ],
      "text/plain": [
       "<IPython.core.display.Javascript object>"
      ]
     },
     "metadata": {},
     "output_type": "display_data"
    }
   ],
   "source": [
    "# for actuals, make year you want\n",
    "grid.actuals.index = grid.actuals.index.map(lambda t: t.replace(year=2020))\n",
    "# see what you got\n",
    "print(\"\\nactuals_df:\")\n",
    "grid.actuals.head()\n",
    "print(\"\\nscenarios_df:\")\n",
    "grid.scenarios.head()"
   ]
  },
  {
   "cell_type": "markdown",
   "metadata": {},
   "source": [
    "## generate_wind_scenarios"
   ]
  },
  {
   "cell_type": "code",
   "execution_count": 47,
   "metadata": {
    "scrolled": false
   },
   "outputs": [
    {
     "name": "stdout",
     "output_type": "stream",
     "text": [
      "\n",
      "all_actuals_df:\n"
     ]
    },
    {
     "data": {
      "text/html": [
       "<div>\n",
       "<style scoped>\n",
       "    .dataframe tbody tr th:only-of-type {\n",
       "        vertical-align: middle;\n",
       "    }\n",
       "\n",
       "    .dataframe tbody tr th {\n",
       "        vertical-align: top;\n",
       "    }\n",
       "\n",
       "    .dataframe thead th {\n",
       "        text-align: right;\n",
       "    }\n",
       "</style>\n",
       "<table border=\"1\" class=\"dataframe\">\n",
       "  <thead>\n",
       "    <tr style=\"text-align: right;\">\n",
       "      <th></th>\n",
       "      <th>65_Wind_1</th>\n",
       "      <th>104_Wind_1</th>\n",
       "      <th>105_Wind_1</th>\n",
       "      <th>114_Wind_1</th>\n",
       "      <th>115_Wind_1</th>\n",
       "      <th>147_Wind_1</th>\n",
       "    </tr>\n",
       "    <tr>\n",
       "      <th>sim_timestamp</th>\n",
       "      <th></th>\n",
       "      <th></th>\n",
       "      <th></th>\n",
       "      <th></th>\n",
       "      <th></th>\n",
       "      <th></th>\n",
       "    </tr>\n",
       "  </thead>\n",
       "  <tbody>\n",
       "    <tr>\n",
       "      <th>2020-07-01 00:15:00+00:00</th>\n",
       "      <td>31.596573</td>\n",
       "      <td>9.109061</td>\n",
       "      <td>27.283630</td>\n",
       "      <td>1.201169</td>\n",
       "      <td>17.069507</td>\n",
       "      <td>14.975642</td>\n",
       "    </tr>\n",
       "    <tr>\n",
       "      <th>2020-07-01 00:20:00+00:00</th>\n",
       "      <td>29.312569</td>\n",
       "      <td>8.061524</td>\n",
       "      <td>26.206658</td>\n",
       "      <td>1.294306</td>\n",
       "      <td>18.649613</td>\n",
       "      <td>21.055102</td>\n",
       "    </tr>\n",
       "  </tbody>\n",
       "</table>\n",
       "</div>"
      ],
      "text/plain": [
       "                           65_Wind_1  104_Wind_1  105_Wind_1  114_Wind_1  \\\n",
       "sim_timestamp                                                              \n",
       "2020-07-01 00:15:00+00:00  31.596573    9.109061   27.283630    1.201169   \n",
       "2020-07-01 00:20:00+00:00  29.312569    8.061524   26.206658    1.294306   \n",
       "\n",
       "                           115_Wind_1  147_Wind_1  \n",
       "sim_timestamp                                      \n",
       "2020-07-01 00:15:00+00:00   17.069507   14.975642  \n",
       "2020-07-01 00:20:00+00:00   18.649613   21.055102  "
      ]
     },
     "execution_count": 47,
     "metadata": {},
     "output_type": "execute_result"
    },
    {
     "name": "stdout",
     "output_type": "stream",
     "text": [
      "\n",
      "all_scenarios_df:\n"
     ]
    },
    {
     "data": {
      "text/html": [
       "<div>\n",
       "<style scoped>\n",
       "    .dataframe tbody tr th:only-of-type {\n",
       "        vertical-align: middle;\n",
       "    }\n",
       "\n",
       "    .dataframe tbody tr th {\n",
       "        vertical-align: top;\n",
       "    }\n",
       "\n",
       "    .dataframe thead th {\n",
       "        text-align: right;\n",
       "    }\n",
       "</style>\n",
       "<table border=\"1\" class=\"dataframe\">\n",
       "  <thead>\n",
       "    <tr style=\"text-align: right;\">\n",
       "      <th></th>\n",
       "      <th></th>\n",
       "      <th></th>\n",
       "      <th>65_Wind_1</th>\n",
       "      <th>104_Wind_1</th>\n",
       "      <th>105_Wind_1</th>\n",
       "      <th>114_Wind_1</th>\n",
       "      <th>115_Wind_1</th>\n",
       "      <th>147_Wind_1</th>\n",
       "    </tr>\n",
       "    <tr>\n",
       "      <th>sim_timestamp</th>\n",
       "      <th>scenario_nr</th>\n",
       "      <th>period_timestamp</th>\n",
       "      <th></th>\n",
       "      <th></th>\n",
       "      <th></th>\n",
       "      <th></th>\n",
       "      <th></th>\n",
       "      <th></th>\n",
       "    </tr>\n",
       "  </thead>\n",
       "  <tbody>\n",
       "    <tr>\n",
       "      <th rowspan=\"6\" valign=\"top\">2020-07-01 00:15:00+00:00</th>\n",
       "      <th rowspan=\"2\" valign=\"top\">1</th>\n",
       "      <th>2020-07-01 00:15:00+00:00</th>\n",
       "      <td>32.106</td>\n",
       "      <td>5.3655</td>\n",
       "      <td>16.7448</td>\n",
       "      <td>1.22973</td>\n",
       "      <td>10.3985</td>\n",
       "      <td>11.2045</td>\n",
       "    </tr>\n",
       "    <tr>\n",
       "      <th>2020-07-01 00:20:00+00:00</th>\n",
       "      <td>30.3552</td>\n",
       "      <td>2.98428</td>\n",
       "      <td>11.2164</td>\n",
       "      <td>1.22973</td>\n",
       "      <td>4.13142</td>\n",
       "      <td>10.3194</td>\n",
       "    </tr>\n",
       "    <tr>\n",
       "      <th rowspan=\"2\" valign=\"top\">2</th>\n",
       "      <th>2020-07-01 00:15:00+00:00</th>\n",
       "      <td>20.7298</td>\n",
       "      <td>3.86977</td>\n",
       "      <td>20.0413</td>\n",
       "      <td>1.22973</td>\n",
       "      <td>14.0027</td>\n",
       "      <td>17.4785</td>\n",
       "    </tr>\n",
       "    <tr>\n",
       "      <th>2020-07-01 00:20:00+00:00</th>\n",
       "      <td>16.2738</td>\n",
       "      <td>0</td>\n",
       "      <td>0</td>\n",
       "      <td>1.22973</td>\n",
       "      <td>22.6433</td>\n",
       "      <td>14.966</td>\n",
       "    </tr>\n",
       "    <tr>\n",
       "      <th rowspan=\"2\" valign=\"top\">3</th>\n",
       "      <th>2020-07-01 00:15:00+00:00</th>\n",
       "      <td>32.6096</td>\n",
       "      <td>9.57382</td>\n",
       "      <td>25.5804</td>\n",
       "      <td>1.22973</td>\n",
       "      <td>8.75983</td>\n",
       "      <td>9.805</td>\n",
       "    </tr>\n",
       "    <tr>\n",
       "      <th>2020-07-01 00:20:00+00:00</th>\n",
       "      <td>33.2002</td>\n",
       "      <td>3.82553</td>\n",
       "      <td>17.9826</td>\n",
       "      <td>1.22973</td>\n",
       "      <td>10.5879</td>\n",
       "      <td>2.99846</td>\n",
       "    </tr>\n",
       "    <tr>\n",
       "      <th rowspan=\"6\" valign=\"top\">2020-07-01 00:20:00+00:00</th>\n",
       "      <th rowspan=\"2\" valign=\"top\">1</th>\n",
       "      <th>2020-07-01 00:20:00+00:00</th>\n",
       "      <td>25.5448</td>\n",
       "      <td>6.77581</td>\n",
       "      <td>24.0244</td>\n",
       "      <td>1.20117</td>\n",
       "      <td>13.3547</td>\n",
       "      <td>14.3438</td>\n",
       "    </tr>\n",
       "    <tr>\n",
       "      <th>2020-07-01 00:25:00+00:00</th>\n",
       "      <td>18.6856</td>\n",
       "      <td>7.34927</td>\n",
       "      <td>24.0148</td>\n",
       "      <td>1.20117</td>\n",
       "      <td>11.0515</td>\n",
       "      <td>13.8271</td>\n",
       "    </tr>\n",
       "    <tr>\n",
       "      <th rowspan=\"2\" valign=\"top\">2</th>\n",
       "      <th>2020-07-01 00:20:00+00:00</th>\n",
       "      <td>31.1858</td>\n",
       "      <td>9.46149</td>\n",
       "      <td>26.4133</td>\n",
       "      <td>1.20117</td>\n",
       "      <td>13.2525</td>\n",
       "      <td>15.5556</td>\n",
       "    </tr>\n",
       "    <tr>\n",
       "      <th>2020-07-01 00:25:00+00:00</th>\n",
       "      <td>32.5758</td>\n",
       "      <td>7.22188</td>\n",
       "      <td>21.2297</td>\n",
       "      <td>1.20117</td>\n",
       "      <td>8.3214</td>\n",
       "      <td>16.5016</td>\n",
       "    </tr>\n",
       "    <tr>\n",
       "      <th rowspan=\"2\" valign=\"top\">3</th>\n",
       "      <th>2020-07-01 00:20:00+00:00</th>\n",
       "      <td>32.4872</td>\n",
       "      <td>8.40072</td>\n",
       "      <td>26.1985</td>\n",
       "      <td>1.20117</td>\n",
       "      <td>16.2046</td>\n",
       "      <td>14.5286</td>\n",
       "    </tr>\n",
       "    <tr>\n",
       "      <th>2020-07-01 00:25:00+00:00</th>\n",
       "      <td>32.7481</td>\n",
       "      <td>7.72702</td>\n",
       "      <td>24.9944</td>\n",
       "      <td>1.20117</td>\n",
       "      <td>15.6862</td>\n",
       "      <td>13.9381</td>\n",
       "    </tr>\n",
       "  </tbody>\n",
       "</table>\n",
       "</div>"
      ],
      "text/plain": [
       "                                                                65_Wind_1  \\\n",
       "sim_timestamp             scenario_nr period_timestamp                      \n",
       "2020-07-01 00:15:00+00:00 1           2020-07-01 00:15:00+00:00    32.106   \n",
       "                                      2020-07-01 00:20:00+00:00   30.3552   \n",
       "                          2           2020-07-01 00:15:00+00:00   20.7298   \n",
       "                                      2020-07-01 00:20:00+00:00   16.2738   \n",
       "                          3           2020-07-01 00:15:00+00:00   32.6096   \n",
       "                                      2020-07-01 00:20:00+00:00   33.2002   \n",
       "2020-07-01 00:20:00+00:00 1           2020-07-01 00:20:00+00:00   25.5448   \n",
       "                                      2020-07-01 00:25:00+00:00   18.6856   \n",
       "                          2           2020-07-01 00:20:00+00:00   31.1858   \n",
       "                                      2020-07-01 00:25:00+00:00   32.5758   \n",
       "                          3           2020-07-01 00:20:00+00:00   32.4872   \n",
       "                                      2020-07-01 00:25:00+00:00   32.7481   \n",
       "\n",
       "                                                                104_Wind_1  \\\n",
       "sim_timestamp             scenario_nr period_timestamp                       \n",
       "2020-07-01 00:15:00+00:00 1           2020-07-01 00:15:00+00:00     5.3655   \n",
       "                                      2020-07-01 00:20:00+00:00    2.98428   \n",
       "                          2           2020-07-01 00:15:00+00:00    3.86977   \n",
       "                                      2020-07-01 00:20:00+00:00          0   \n",
       "                          3           2020-07-01 00:15:00+00:00    9.57382   \n",
       "                                      2020-07-01 00:20:00+00:00    3.82553   \n",
       "2020-07-01 00:20:00+00:00 1           2020-07-01 00:20:00+00:00    6.77581   \n",
       "                                      2020-07-01 00:25:00+00:00    7.34927   \n",
       "                          2           2020-07-01 00:20:00+00:00    9.46149   \n",
       "                                      2020-07-01 00:25:00+00:00    7.22188   \n",
       "                          3           2020-07-01 00:20:00+00:00    8.40072   \n",
       "                                      2020-07-01 00:25:00+00:00    7.72702   \n",
       "\n",
       "                                                                105_Wind_1  \\\n",
       "sim_timestamp             scenario_nr period_timestamp                       \n",
       "2020-07-01 00:15:00+00:00 1           2020-07-01 00:15:00+00:00    16.7448   \n",
       "                                      2020-07-01 00:20:00+00:00    11.2164   \n",
       "                          2           2020-07-01 00:15:00+00:00    20.0413   \n",
       "                                      2020-07-01 00:20:00+00:00          0   \n",
       "                          3           2020-07-01 00:15:00+00:00    25.5804   \n",
       "                                      2020-07-01 00:20:00+00:00    17.9826   \n",
       "2020-07-01 00:20:00+00:00 1           2020-07-01 00:20:00+00:00    24.0244   \n",
       "                                      2020-07-01 00:25:00+00:00    24.0148   \n",
       "                          2           2020-07-01 00:20:00+00:00    26.4133   \n",
       "                                      2020-07-01 00:25:00+00:00    21.2297   \n",
       "                          3           2020-07-01 00:20:00+00:00    26.1985   \n",
       "                                      2020-07-01 00:25:00+00:00    24.9944   \n",
       "\n",
       "                                                                114_Wind_1  \\\n",
       "sim_timestamp             scenario_nr period_timestamp                       \n",
       "2020-07-01 00:15:00+00:00 1           2020-07-01 00:15:00+00:00    1.22973   \n",
       "                                      2020-07-01 00:20:00+00:00    1.22973   \n",
       "                          2           2020-07-01 00:15:00+00:00    1.22973   \n",
       "                                      2020-07-01 00:20:00+00:00    1.22973   \n",
       "                          3           2020-07-01 00:15:00+00:00    1.22973   \n",
       "                                      2020-07-01 00:20:00+00:00    1.22973   \n",
       "2020-07-01 00:20:00+00:00 1           2020-07-01 00:20:00+00:00    1.20117   \n",
       "                                      2020-07-01 00:25:00+00:00    1.20117   \n",
       "                          2           2020-07-01 00:20:00+00:00    1.20117   \n",
       "                                      2020-07-01 00:25:00+00:00    1.20117   \n",
       "                          3           2020-07-01 00:20:00+00:00    1.20117   \n",
       "                                      2020-07-01 00:25:00+00:00    1.20117   \n",
       "\n",
       "                                                                115_Wind_1  \\\n",
       "sim_timestamp             scenario_nr period_timestamp                       \n",
       "2020-07-01 00:15:00+00:00 1           2020-07-01 00:15:00+00:00    10.3985   \n",
       "                                      2020-07-01 00:20:00+00:00    4.13142   \n",
       "                          2           2020-07-01 00:15:00+00:00    14.0027   \n",
       "                                      2020-07-01 00:20:00+00:00    22.6433   \n",
       "                          3           2020-07-01 00:15:00+00:00    8.75983   \n",
       "                                      2020-07-01 00:20:00+00:00    10.5879   \n",
       "2020-07-01 00:20:00+00:00 1           2020-07-01 00:20:00+00:00    13.3547   \n",
       "                                      2020-07-01 00:25:00+00:00    11.0515   \n",
       "                          2           2020-07-01 00:20:00+00:00    13.2525   \n",
       "                                      2020-07-01 00:25:00+00:00     8.3214   \n",
       "                          3           2020-07-01 00:20:00+00:00    16.2046   \n",
       "                                      2020-07-01 00:25:00+00:00    15.6862   \n",
       "\n",
       "                                                                147_Wind_1  \n",
       "sim_timestamp             scenario_nr period_timestamp                      \n",
       "2020-07-01 00:15:00+00:00 1           2020-07-01 00:15:00+00:00    11.2045  \n",
       "                                      2020-07-01 00:20:00+00:00    10.3194  \n",
       "                          2           2020-07-01 00:15:00+00:00    17.4785  \n",
       "                                      2020-07-01 00:20:00+00:00     14.966  \n",
       "                          3           2020-07-01 00:15:00+00:00      9.805  \n",
       "                                      2020-07-01 00:20:00+00:00    2.99846  \n",
       "2020-07-01 00:20:00+00:00 1           2020-07-01 00:20:00+00:00    14.3438  \n",
       "                                      2020-07-01 00:25:00+00:00    13.8271  \n",
       "                          2           2020-07-01 00:20:00+00:00    15.5556  \n",
       "                                      2020-07-01 00:25:00+00:00    16.5016  \n",
       "                          3           2020-07-01 00:20:00+00:00    14.5286  \n",
       "                                      2020-07-01 00:25:00+00:00    13.9381  "
      ]
     },
     "execution_count": 47,
     "metadata": {},
     "output_type": "execute_result"
    },
    {
     "name": "stdout",
     "output_type": "stream",
     "text": [
      "\n",
      "all_weights_df:\n"
     ]
    },
    {
     "data": {
      "text/html": [
       "<div>\n",
       "<style scoped>\n",
       "    .dataframe tbody tr th:only-of-type {\n",
       "        vertical-align: middle;\n",
       "    }\n",
       "\n",
       "    .dataframe tbody tr th {\n",
       "        vertical-align: top;\n",
       "    }\n",
       "\n",
       "    .dataframe thead th {\n",
       "        text-align: right;\n",
       "    }\n",
       "</style>\n",
       "<table border=\"1\" class=\"dataframe\">\n",
       "  <thead>\n",
       "    <tr style=\"text-align: right;\">\n",
       "      <th></th>\n",
       "      <th>1</th>\n",
       "      <th>2</th>\n",
       "      <th>3</th>\n",
       "    </tr>\n",
       "  </thead>\n",
       "  <tbody>\n",
       "    <tr>\n",
       "      <th>2020-07-01 00:15:00+00:00</th>\n",
       "      <td>0.189254</td>\n",
       "      <td>0.16106</td>\n",
       "      <td>0.255012</td>\n",
       "    </tr>\n",
       "    <tr>\n",
       "      <th>2020-07-01 00:20:00+00:00</th>\n",
       "      <td>0.28029</td>\n",
       "      <td>0.496123</td>\n",
       "      <td>1.42431</td>\n",
       "    </tr>\n",
       "  </tbody>\n",
       "</table>\n",
       "</div>"
      ],
      "text/plain": [
       "                                  1         2         3\n",
       "2020-07-01 00:15:00+00:00  0.189254   0.16106  0.255012\n",
       "2020-07-01 00:20:00+00:00   0.28029  0.496123   1.42431"
      ]
     },
     "execution_count": 47,
     "metadata": {},
     "output_type": "execute_result"
    },
    {
     "data": {
      "application/javascript": [
       "\n",
       "            setTimeout(function() {\n",
       "                var nbb_cell_id = 47;\n",
       "                var nbb_unformatted_code = \"\\n# time period for which to generate scenarios\\n\\n# a few timestamps timestamp\\n#sim_timestamps = [pd.Timestamp(\\\"2020-07-01 00:15:00+0000\\\", tz=\\\"UTC\\\"),] \\nsim_timestamps = [pd.Timestamp(\\\"2020-07-01 00:15:00+0000\\\", tz=\\\"UTC\\\"),pd.Timestamp(\\\"2020-07-01 00:20:00+0000\\\", tz=\\\"UTC\\\")] \\n\\n# #range\\n# sim_timestamps = pd.date_range(\\n#    start=pd.Timestamp(\\\"2020-07-01 00:00:00+0000\\\", tz=\\\"UTC\\\"), end=pd.Timestamp(\\\"2020-07-07 00:00:00+0000\\\", tz=\\\"UTC\\\"), freq=\\\"5min\\\"\\n# )\\n\\n\\n# other parameters\\n#sampling_method=\\\"monte carlo\\\"\\nsampling_method=\\\"importance\\\"\\nn_scenarios = 3\\nn_periods = 2\\n\\n########################################################\\n\\nall_weights_df = pd.DataFrame(index=sim_timestamps,columns=range(1,n_scenarios+1))\\n\\n# create multiindex df for all generated scenarios\\n# three arrays for multiindex:\\na1 = [x for x in sim_timestamps for k in range(n_scenarios * n_periods)]\\na2 = [x for x in range(1, n_scenarios + 1) for k in range(n_periods)] * len(\\n    sim_timestamps\\n)\\na3 = [\\n    t + pd.Timedelta(\\\"5min\\\") * k\\n    for t in sim_timestamps\\n    for k in list(range(n_periods)) * n_scenarios\\n]\\n\\nindex = pd.MultiIndex.from_arrays([a1,a2,a3],names=['sim_timestamp','scenario_nr','period_timestamp'])\\nall_scenarios_df = pd.DataFrame(index=index,columns=grid.wind_generators[\\\"GenUID\\\"].values)\\n\\n\\n\\nfor sim_timestamp in sim_timestamps:\\n    #print(\\\"sim_timestamp = {}\\\".format(sim_timestamp))\\n    random_seed = np.random.randint(2 ** 31 - 1)\\n    #random_seed = 594081473\\n    #print(\\\"random_seed = {}\\\".format(random_seed))\\n    scenarios_df, weights_df = grid.generate_wind_scenarios(\\n        sim_timestamp,\\n        power_quantiles=[0.0, 0.1, 0.9, 1.0],\\n        sampling_method=sampling_method,\\n        n_scenarios=n_scenarios,\\n        n_periods=n_periods,\\n        #random_seed=6,\\n        random_seed=random_seed,\\n        output_format=0,\\n    )\\n    #all_scenarios_df=pd.concat([all_scenarios_df,scenarios_df])\\n    all_scenarios_df.loc[sim_timestamp]=scenarios_df\\n\\n    #all_weights_df=pd.concat([all_weights_df,weights_df])\\n    all_weights_df.loc[sim_timestamp]=weights_df.loc[sim_timestamp]\\n\\n\\n\\n# copy wanted actuals\\nall_actuals_df=grid.actuals.loc[sim_timestamps].drop(\\\"TotalPower\\\", axis=1).copy()\\n# match index name to all_scenarios_df\\nall_actuals_df.index.name = \\\"sim_timestamp\\\"\\n\\nprint('\\\\nall_actuals_df:')\\nall_actuals_df\\nprint('\\\\nall_scenarios_df:')\\nall_scenarios_df\\nprint('\\\\nall_weights_df:')\\nall_weights_df\";\n",
       "                var nbb_formatted_code = \"# time period for which to generate scenarios\\n\\n# a few timestamps timestamp\\n# sim_timestamps = [pd.Timestamp(\\\"2020-07-01 00:15:00+0000\\\", tz=\\\"UTC\\\"),]\\nsim_timestamps = [\\n    pd.Timestamp(\\\"2020-07-01 00:15:00+0000\\\", tz=\\\"UTC\\\"),\\n    pd.Timestamp(\\\"2020-07-01 00:20:00+0000\\\", tz=\\\"UTC\\\"),\\n]\\n\\n# #range\\n# sim_timestamps = pd.date_range(\\n#    start=pd.Timestamp(\\\"2020-07-01 00:00:00+0000\\\", tz=\\\"UTC\\\"), end=pd.Timestamp(\\\"2020-07-07 00:00:00+0000\\\", tz=\\\"UTC\\\"), freq=\\\"5min\\\"\\n# )\\n\\n\\n# other parameters\\n# sampling_method=\\\"monte carlo\\\"\\nsampling_method = \\\"importance\\\"\\nn_scenarios = 3\\nn_periods = 2\\n\\n########################################################\\n\\nall_weights_df = pd.DataFrame(index=sim_timestamps, columns=range(1, n_scenarios + 1))\\n\\n# create multiindex df for all generated scenarios\\n# three arrays for multiindex:\\na1 = [x for x in sim_timestamps for k in range(n_scenarios * n_periods)]\\na2 = [x for x in range(1, n_scenarios + 1) for k in range(n_periods)] * len(\\n    sim_timestamps\\n)\\na3 = [\\n    t + pd.Timedelta(\\\"5min\\\") * k\\n    for t in sim_timestamps\\n    for k in list(range(n_periods)) * n_scenarios\\n]\\n\\nindex = pd.MultiIndex.from_arrays(\\n    [a1, a2, a3], names=[\\\"sim_timestamp\\\", \\\"scenario_nr\\\", \\\"period_timestamp\\\"]\\n)\\nall_scenarios_df = pd.DataFrame(\\n    index=index, columns=grid.wind_generators[\\\"GenUID\\\"].values\\n)\\n\\n\\nfor sim_timestamp in sim_timestamps:\\n    # print(\\\"sim_timestamp = {}\\\".format(sim_timestamp))\\n    random_seed = np.random.randint(2 ** 31 - 1)\\n    # random_seed = 594081473\\n    # print(\\\"random_seed = {}\\\".format(random_seed))\\n    scenarios_df, weights_df = grid.generate_wind_scenarios(\\n        sim_timestamp,\\n        power_quantiles=[0.0, 0.1, 0.9, 1.0],\\n        sampling_method=sampling_method,\\n        n_scenarios=n_scenarios,\\n        n_periods=n_periods,\\n        # random_seed=6,\\n        random_seed=random_seed,\\n        output_format=0,\\n    )\\n    # all_scenarios_df=pd.concat([all_scenarios_df,scenarios_df])\\n    all_scenarios_df.loc[sim_timestamp] = scenarios_df\\n\\n    # all_weights_df=pd.concat([all_weights_df,weights_df])\\n    all_weights_df.loc[sim_timestamp] = weights_df.loc[sim_timestamp]\\n\\n\\n# copy wanted actuals\\nall_actuals_df = grid.actuals.loc[sim_timestamps].drop(\\\"TotalPower\\\", axis=1).copy()\\n# match index name to all_scenarios_df\\nall_actuals_df.index.name = \\\"sim_timestamp\\\"\\n\\nprint(\\\"\\\\nall_actuals_df:\\\")\\nall_actuals_df\\nprint(\\\"\\\\nall_scenarios_df:\\\")\\nall_scenarios_df\\nprint(\\\"\\\\nall_weights_df:\\\")\\nall_weights_df\";\n",
       "                var nbb_cells = Jupyter.notebook.get_cells();\n",
       "                for (var i = 0; i < nbb_cells.length; ++i) {\n",
       "                    if (nbb_cells[i].input_prompt_number == nbb_cell_id) {\n",
       "                        if (nbb_cells[i].get_text() == nbb_unformatted_code) {\n",
       "                             nbb_cells[i].set_text(nbb_formatted_code);\n",
       "                        }\n",
       "                        break;\n",
       "                    }\n",
       "                }\n",
       "            }, 500);\n",
       "            "
      ],
      "text/plain": [
       "<IPython.core.display.Javascript object>"
      ]
     },
     "metadata": {},
     "output_type": "display_data"
    }
   ],
   "source": [
    "\n",
    "# time period for which to generate scenarios\n",
    "\n",
    "# a few timestamps timestamp\n",
    "#sim_timestamps = [pd.Timestamp(\"2020-07-01 00:15:00+0000\", tz=\"UTC\"),] \n",
    "sim_timestamps = [pd.Timestamp(\"2020-07-01 00:15:00+0000\", tz=\"UTC\"),pd.Timestamp(\"2020-07-01 00:20:00+0000\", tz=\"UTC\")] \n",
    "\n",
    "# #range\n",
    "# sim_timestamps = pd.date_range(\n",
    "#    start=pd.Timestamp(\"2020-07-01 00:00:00+0000\", tz=\"UTC\"), end=pd.Timestamp(\"2020-07-07 00:00:00+0000\", tz=\"UTC\"), freq=\"5min\"\n",
    "# )\n",
    "\n",
    "\n",
    "# other parameters\n",
    "#sampling_method=\"monte carlo\"\n",
    "sampling_method=\"importance\"\n",
    "n_scenarios = 3\n",
    "n_periods = 2\n",
    "\n",
    "########################################################\n",
    "\n",
    "all_weights_df = pd.DataFrame(index=sim_timestamps,columns=range(1,n_scenarios+1))\n",
    "\n",
    "# create multiindex df for all generated scenarios\n",
    "# three arrays for multiindex:\n",
    "a1 = [x for x in sim_timestamps for k in range(n_scenarios * n_periods)]\n",
    "a2 = [x for x in range(1, n_scenarios + 1) for k in range(n_periods)] * len(\n",
    "    sim_timestamps\n",
    ")\n",
    "a3 = [\n",
    "    t + pd.Timedelta(\"5min\") * k\n",
    "    for t in sim_timestamps\n",
    "    for k in list(range(n_periods)) * n_scenarios\n",
    "]\n",
    "\n",
    "index = pd.MultiIndex.from_arrays([a1,a2,a3],names=['sim_timestamp','scenario_nr','period_timestamp'])\n",
    "all_scenarios_df = pd.DataFrame(index=index,columns=grid.wind_generators[\"GenUID\"].values)\n",
    "\n",
    "\n",
    "\n",
    "for sim_timestamp in sim_timestamps:\n",
    "    #print(\"sim_timestamp = {}\".format(sim_timestamp))\n",
    "    random_seed = np.random.randint(2 ** 31 - 1)\n",
    "    #random_seed = 594081473\n",
    "    #print(\"random_seed = {}\".format(random_seed))\n",
    "    scenarios_df, weights_df = grid.generate_wind_scenarios(\n",
    "        sim_timestamp,\n",
    "        power_quantiles=[0.0, 0.1, 0.9, 1.0],\n",
    "        sampling_method=sampling_method,\n",
    "        n_scenarios=n_scenarios,\n",
    "        n_periods=n_periods,\n",
    "        #random_seed=6,\n",
    "        random_seed=random_seed,\n",
    "        output_format=0,\n",
    "    )\n",
    "    #all_scenarios_df=pd.concat([all_scenarios_df,scenarios_df])\n",
    "    all_scenarios_df.loc[sim_timestamp]=scenarios_df\n",
    "\n",
    "    #all_weights_df=pd.concat([all_weights_df,weights_df])\n",
    "    all_weights_df.loc[sim_timestamp]=weights_df.loc[sim_timestamp]\n",
    "\n",
    "\n",
    "\n",
    "# copy wanted actuals\n",
    "all_actuals_df=grid.actuals.loc[sim_timestamps].drop(\"TotalPower\", axis=1).copy()\n",
    "# match index name to all_scenarios_df\n",
    "all_actuals_df.index.name = \"sim_timestamp\"\n",
    "\n",
    "print('\\nall_actuals_df:')\n",
    "all_actuals_df\n",
    "print('\\nall_scenarios_df:')\n",
    "all_scenarios_df\n",
    "print('\\nall_weights_df:')\n",
    "all_weights_df\n",
    "\n",
    "\n"
   ]
  },
  {
   "cell_type": "markdown",
   "metadata": {},
   "source": [
    "# plot "
   ]
  },
  {
   "cell_type": "code",
   "execution_count": 50,
   "metadata": {
    "scrolled": true
   },
   "outputs": [
    {
     "data": {
      "application/vnd.plotly.v1+json": {
       "config": {
        "linkText": "Export to plot.ly",
        "plotlyServerURL": "https://plot.ly",
        "showLink": true
       },
       "data": [
        {
         "line": {
          "color": "rgba(255, 153, 51, 1.0)",
          "dash": "solid",
          "shape": "linear",
          "width": 1.3
         },
         "mode": "lines",
         "name": "1",
         "text": "",
         "type": "scatter",
         "x": [
          "2020-07-01 00:10:00+00:00",
          "2020-07-01 00:15:00+00:00",
          "2020-07-01 00:20:00+00:00"
         ],
         "y": [
          97.41927482187748,
          77.0490080267191,
          60.236393824219704
         ]
        },
        {
         "line": {
          "color": "rgba(55, 128, 191, 1.0)",
          "dash": "solid",
          "shape": "linear",
          "width": 1.3
         },
         "mode": "lines",
         "name": "2",
         "text": "",
         "type": "scatter",
         "x": [
          "2020-07-01 00:10:00+00:00",
          "2020-07-01 00:15:00+00:00",
          "2020-07-01 00:20:00+00:00"
         ],
         "y": [
          97.41927482187748,
          77.35184408724308,
          55.11289454996586
         ]
        },
        {
         "line": {
          "color": "rgba(50, 171, 96, 1.0)",
          "dash": "solid",
          "shape": "linear",
          "width": 1.3
         },
         "mode": "lines",
         "name": "3",
         "text": "",
         "type": "scatter",
         "x": [
          "2020-07-01 00:10:00+00:00",
          "2020-07-01 00:15:00+00:00",
          "2020-07-01 00:20:00+00:00"
         ],
         "y": [
          97.41927482187748,
          87.55846990644932,
          69.82450093328953
         ]
        }
       ],
       "layout": {
        "legend": {
         "bgcolor": "#F5F6F9",
         "font": {
          "color": "#4D5663"
         }
        },
        "paper_bgcolor": "#F5F6F9",
        "plot_bgcolor": "#F5F6F9",
        "template": {
         "data": {
          "bar": [
           {
            "error_x": {
             "color": "#2a3f5f"
            },
            "error_y": {
             "color": "#2a3f5f"
            },
            "marker": {
             "line": {
              "color": "#E5ECF6",
              "width": 0.5
             }
            },
            "type": "bar"
           }
          ],
          "barpolar": [
           {
            "marker": {
             "line": {
              "color": "#E5ECF6",
              "width": 0.5
             }
            },
            "type": "barpolar"
           }
          ],
          "carpet": [
           {
            "aaxis": {
             "endlinecolor": "#2a3f5f",
             "gridcolor": "white",
             "linecolor": "white",
             "minorgridcolor": "white",
             "startlinecolor": "#2a3f5f"
            },
            "baxis": {
             "endlinecolor": "#2a3f5f",
             "gridcolor": "white",
             "linecolor": "white",
             "minorgridcolor": "white",
             "startlinecolor": "#2a3f5f"
            },
            "type": "carpet"
           }
          ],
          "choropleth": [
           {
            "colorbar": {
             "outlinewidth": 0,
             "ticks": ""
            },
            "type": "choropleth"
           }
          ],
          "contour": [
           {
            "colorbar": {
             "outlinewidth": 0,
             "ticks": ""
            },
            "colorscale": [
             [
              0,
              "#0d0887"
             ],
             [
              0.1111111111111111,
              "#46039f"
             ],
             [
              0.2222222222222222,
              "#7201a8"
             ],
             [
              0.3333333333333333,
              "#9c179e"
             ],
             [
              0.4444444444444444,
              "#bd3786"
             ],
             [
              0.5555555555555556,
              "#d8576b"
             ],
             [
              0.6666666666666666,
              "#ed7953"
             ],
             [
              0.7777777777777778,
              "#fb9f3a"
             ],
             [
              0.8888888888888888,
              "#fdca26"
             ],
             [
              1,
              "#f0f921"
             ]
            ],
            "type": "contour"
           }
          ],
          "contourcarpet": [
           {
            "colorbar": {
             "outlinewidth": 0,
             "ticks": ""
            },
            "type": "contourcarpet"
           }
          ],
          "heatmap": [
           {
            "colorbar": {
             "outlinewidth": 0,
             "ticks": ""
            },
            "colorscale": [
             [
              0,
              "#0d0887"
             ],
             [
              0.1111111111111111,
              "#46039f"
             ],
             [
              0.2222222222222222,
              "#7201a8"
             ],
             [
              0.3333333333333333,
              "#9c179e"
             ],
             [
              0.4444444444444444,
              "#bd3786"
             ],
             [
              0.5555555555555556,
              "#d8576b"
             ],
             [
              0.6666666666666666,
              "#ed7953"
             ],
             [
              0.7777777777777778,
              "#fb9f3a"
             ],
             [
              0.8888888888888888,
              "#fdca26"
             ],
             [
              1,
              "#f0f921"
             ]
            ],
            "type": "heatmap"
           }
          ],
          "heatmapgl": [
           {
            "colorbar": {
             "outlinewidth": 0,
             "ticks": ""
            },
            "colorscale": [
             [
              0,
              "#0d0887"
             ],
             [
              0.1111111111111111,
              "#46039f"
             ],
             [
              0.2222222222222222,
              "#7201a8"
             ],
             [
              0.3333333333333333,
              "#9c179e"
             ],
             [
              0.4444444444444444,
              "#bd3786"
             ],
             [
              0.5555555555555556,
              "#d8576b"
             ],
             [
              0.6666666666666666,
              "#ed7953"
             ],
             [
              0.7777777777777778,
              "#fb9f3a"
             ],
             [
              0.8888888888888888,
              "#fdca26"
             ],
             [
              1,
              "#f0f921"
             ]
            ],
            "type": "heatmapgl"
           }
          ],
          "histogram": [
           {
            "marker": {
             "colorbar": {
              "outlinewidth": 0,
              "ticks": ""
             }
            },
            "type": "histogram"
           }
          ],
          "histogram2d": [
           {
            "colorbar": {
             "outlinewidth": 0,
             "ticks": ""
            },
            "colorscale": [
             [
              0,
              "#0d0887"
             ],
             [
              0.1111111111111111,
              "#46039f"
             ],
             [
              0.2222222222222222,
              "#7201a8"
             ],
             [
              0.3333333333333333,
              "#9c179e"
             ],
             [
              0.4444444444444444,
              "#bd3786"
             ],
             [
              0.5555555555555556,
              "#d8576b"
             ],
             [
              0.6666666666666666,
              "#ed7953"
             ],
             [
              0.7777777777777778,
              "#fb9f3a"
             ],
             [
              0.8888888888888888,
              "#fdca26"
             ],
             [
              1,
              "#f0f921"
             ]
            ],
            "type": "histogram2d"
           }
          ],
          "histogram2dcontour": [
           {
            "colorbar": {
             "outlinewidth": 0,
             "ticks": ""
            },
            "colorscale": [
             [
              0,
              "#0d0887"
             ],
             [
              0.1111111111111111,
              "#46039f"
             ],
             [
              0.2222222222222222,
              "#7201a8"
             ],
             [
              0.3333333333333333,
              "#9c179e"
             ],
             [
              0.4444444444444444,
              "#bd3786"
             ],
             [
              0.5555555555555556,
              "#d8576b"
             ],
             [
              0.6666666666666666,
              "#ed7953"
             ],
             [
              0.7777777777777778,
              "#fb9f3a"
             ],
             [
              0.8888888888888888,
              "#fdca26"
             ],
             [
              1,
              "#f0f921"
             ]
            ],
            "type": "histogram2dcontour"
           }
          ],
          "mesh3d": [
           {
            "colorbar": {
             "outlinewidth": 0,
             "ticks": ""
            },
            "type": "mesh3d"
           }
          ],
          "parcoords": [
           {
            "line": {
             "colorbar": {
              "outlinewidth": 0,
              "ticks": ""
             }
            },
            "type": "parcoords"
           }
          ],
          "pie": [
           {
            "automargin": true,
            "type": "pie"
           }
          ],
          "scatter": [
           {
            "marker": {
             "colorbar": {
              "outlinewidth": 0,
              "ticks": ""
             }
            },
            "type": "scatter"
           }
          ],
          "scatter3d": [
           {
            "line": {
             "colorbar": {
              "outlinewidth": 0,
              "ticks": ""
             }
            },
            "marker": {
             "colorbar": {
              "outlinewidth": 0,
              "ticks": ""
             }
            },
            "type": "scatter3d"
           }
          ],
          "scattercarpet": [
           {
            "marker": {
             "colorbar": {
              "outlinewidth": 0,
              "ticks": ""
             }
            },
            "type": "scattercarpet"
           }
          ],
          "scattergeo": [
           {
            "marker": {
             "colorbar": {
              "outlinewidth": 0,
              "ticks": ""
             }
            },
            "type": "scattergeo"
           }
          ],
          "scattergl": [
           {
            "marker": {
             "colorbar": {
              "outlinewidth": 0,
              "ticks": ""
             }
            },
            "type": "scattergl"
           }
          ],
          "scattermapbox": [
           {
            "marker": {
             "colorbar": {
              "outlinewidth": 0,
              "ticks": ""
             }
            },
            "type": "scattermapbox"
           }
          ],
          "scatterpolar": [
           {
            "marker": {
             "colorbar": {
              "outlinewidth": 0,
              "ticks": ""
             }
            },
            "type": "scatterpolar"
           }
          ],
          "scatterpolargl": [
           {
            "marker": {
             "colorbar": {
              "outlinewidth": 0,
              "ticks": ""
             }
            },
            "type": "scatterpolargl"
           }
          ],
          "scatterternary": [
           {
            "marker": {
             "colorbar": {
              "outlinewidth": 0,
              "ticks": ""
             }
            },
            "type": "scatterternary"
           }
          ],
          "surface": [
           {
            "colorbar": {
             "outlinewidth": 0,
             "ticks": ""
            },
            "colorscale": [
             [
              0,
              "#0d0887"
             ],
             [
              0.1111111111111111,
              "#46039f"
             ],
             [
              0.2222222222222222,
              "#7201a8"
             ],
             [
              0.3333333333333333,
              "#9c179e"
             ],
             [
              0.4444444444444444,
              "#bd3786"
             ],
             [
              0.5555555555555556,
              "#d8576b"
             ],
             [
              0.6666666666666666,
              "#ed7953"
             ],
             [
              0.7777777777777778,
              "#fb9f3a"
             ],
             [
              0.8888888888888888,
              "#fdca26"
             ],
             [
              1,
              "#f0f921"
             ]
            ],
            "type": "surface"
           }
          ],
          "table": [
           {
            "cells": {
             "fill": {
              "color": "#EBF0F8"
             },
             "line": {
              "color": "white"
             }
            },
            "header": {
             "fill": {
              "color": "#C8D4E3"
             },
             "line": {
              "color": "white"
             }
            },
            "type": "table"
           }
          ]
         },
         "layout": {
          "annotationdefaults": {
           "arrowcolor": "#2a3f5f",
           "arrowhead": 0,
           "arrowwidth": 1
          },
          "coloraxis": {
           "colorbar": {
            "outlinewidth": 0,
            "ticks": ""
           }
          },
          "colorscale": {
           "diverging": [
            [
             0,
             "#8e0152"
            ],
            [
             0.1,
             "#c51b7d"
            ],
            [
             0.2,
             "#de77ae"
            ],
            [
             0.3,
             "#f1b6da"
            ],
            [
             0.4,
             "#fde0ef"
            ],
            [
             0.5,
             "#f7f7f7"
            ],
            [
             0.6,
             "#e6f5d0"
            ],
            [
             0.7,
             "#b8e186"
            ],
            [
             0.8,
             "#7fbc41"
            ],
            [
             0.9,
             "#4d9221"
            ],
            [
             1,
             "#276419"
            ]
           ],
           "sequential": [
            [
             0,
             "#0d0887"
            ],
            [
             0.1111111111111111,
             "#46039f"
            ],
            [
             0.2222222222222222,
             "#7201a8"
            ],
            [
             0.3333333333333333,
             "#9c179e"
            ],
            [
             0.4444444444444444,
             "#bd3786"
            ],
            [
             0.5555555555555556,
             "#d8576b"
            ],
            [
             0.6666666666666666,
             "#ed7953"
            ],
            [
             0.7777777777777778,
             "#fb9f3a"
            ],
            [
             0.8888888888888888,
             "#fdca26"
            ],
            [
             1,
             "#f0f921"
            ]
           ],
           "sequentialminus": [
            [
             0,
             "#0d0887"
            ],
            [
             0.1111111111111111,
             "#46039f"
            ],
            [
             0.2222222222222222,
             "#7201a8"
            ],
            [
             0.3333333333333333,
             "#9c179e"
            ],
            [
             0.4444444444444444,
             "#bd3786"
            ],
            [
             0.5555555555555556,
             "#d8576b"
            ],
            [
             0.6666666666666666,
             "#ed7953"
            ],
            [
             0.7777777777777778,
             "#fb9f3a"
            ],
            [
             0.8888888888888888,
             "#fdca26"
            ],
            [
             1,
             "#f0f921"
            ]
           ]
          },
          "colorway": [
           "#636efa",
           "#EF553B",
           "#00cc96",
           "#ab63fa",
           "#FFA15A",
           "#19d3f3",
           "#FF6692",
           "#B6E880",
           "#FF97FF",
           "#FECB52"
          ],
          "font": {
           "color": "#2a3f5f"
          },
          "geo": {
           "bgcolor": "white",
           "lakecolor": "white",
           "landcolor": "#E5ECF6",
           "showlakes": true,
           "showland": true,
           "subunitcolor": "white"
          },
          "hoverlabel": {
           "align": "left"
          },
          "hovermode": "closest",
          "mapbox": {
           "style": "light"
          },
          "paper_bgcolor": "white",
          "plot_bgcolor": "#E5ECF6",
          "polar": {
           "angularaxis": {
            "gridcolor": "white",
            "linecolor": "white",
            "ticks": ""
           },
           "bgcolor": "#E5ECF6",
           "radialaxis": {
            "gridcolor": "white",
            "linecolor": "white",
            "ticks": ""
           }
          },
          "scene": {
           "xaxis": {
            "backgroundcolor": "#E5ECF6",
            "gridcolor": "white",
            "gridwidth": 2,
            "linecolor": "white",
            "showbackground": true,
            "ticks": "",
            "zerolinecolor": "white"
           },
           "yaxis": {
            "backgroundcolor": "#E5ECF6",
            "gridcolor": "white",
            "gridwidth": 2,
            "linecolor": "white",
            "showbackground": true,
            "ticks": "",
            "zerolinecolor": "white"
           },
           "zaxis": {
            "backgroundcolor": "#E5ECF6",
            "gridcolor": "white",
            "gridwidth": 2,
            "linecolor": "white",
            "showbackground": true,
            "ticks": "",
            "zerolinecolor": "white"
           }
          },
          "shapedefaults": {
           "line": {
            "color": "#2a3f5f"
           }
          },
          "ternary": {
           "aaxis": {
            "gridcolor": "white",
            "linecolor": "white",
            "ticks": ""
           },
           "baxis": {
            "gridcolor": "white",
            "linecolor": "white",
            "ticks": ""
           },
           "bgcolor": "#E5ECF6",
           "caxis": {
            "gridcolor": "white",
            "linecolor": "white",
            "ticks": ""
           }
          },
          "title": {
           "x": 0.05
          },
          "xaxis": {
           "automargin": true,
           "gridcolor": "white",
           "linecolor": "white",
           "ticks": "",
           "title": {
            "standoff": 15
           },
           "zerolinecolor": "white",
           "zerolinewidth": 2
          },
          "yaxis": {
           "automargin": true,
           "gridcolor": "white",
           "linecolor": "white",
           "ticks": "",
           "title": {
            "standoff": 15
           },
           "zerolinecolor": "white",
           "zerolinewidth": 2
          }
         }
        },
        "title": {
         "font": {
          "color": "#4D5663"
         },
         "text": "Total Wind Power"
        },
        "xaxis": {
         "gridcolor": "#E1E5ED",
         "showgrid": true,
         "tickfont": {
          "color": "#4D5663"
         },
         "title": {
          "font": {
           "color": "#4D5663"
          },
          "text": "Time"
         },
         "zerolinecolor": "#E1E5ED"
        },
        "yaxis": {
         "gridcolor": "#E1E5ED",
         "showgrid": true,
         "tickfont": {
          "color": "#4D5663"
         },
         "title": {
          "font": {
           "color": "#4D5663"
          },
          "text": "MW"
         },
         "zerolinecolor": "#E1E5ED"
        }
       }
      },
      "text/html": [
       "<div>\n",
       "        \n",
       "        \n",
       "            <div id=\"b8722899-0249-4793-8f15-afea4479c8ed\" class=\"plotly-graph-div\" style=\"height:525px; width:100%;\"></div>\n",
       "            <script type=\"text/javascript\">\n",
       "                require([\"plotly\"], function(Plotly) {\n",
       "                    window.PLOTLYENV=window.PLOTLYENV || {};\n",
       "                    window.PLOTLYENV.BASE_URL='https://plot.ly';\n",
       "                    \n",
       "                if (document.getElementById(\"b8722899-0249-4793-8f15-afea4479c8ed\")) {\n",
       "                    Plotly.newPlot(\n",
       "                        'b8722899-0249-4793-8f15-afea4479c8ed',\n",
       "                        [{\"line\": {\"color\": \"rgba(255, 153, 51, 1.0)\", \"dash\": \"solid\", \"shape\": \"linear\", \"width\": 1.3}, \"mode\": \"lines\", \"name\": \"1\", \"text\": \"\", \"type\": \"scatter\", \"x\": [\"2020-07-01 00:10:00+00:00\", \"2020-07-01 00:15:00+00:00\", \"2020-07-01 00:20:00+00:00\"], \"y\": [97.41927482187748, 77.0490080267191, 60.236393824219704]}, {\"line\": {\"color\": \"rgba(55, 128, 191, 1.0)\", \"dash\": \"solid\", \"shape\": \"linear\", \"width\": 1.3}, \"mode\": \"lines\", \"name\": \"2\", \"text\": \"\", \"type\": \"scatter\", \"x\": [\"2020-07-01 00:10:00+00:00\", \"2020-07-01 00:15:00+00:00\", \"2020-07-01 00:20:00+00:00\"], \"y\": [97.41927482187748, 77.35184408724308, 55.11289454996586]}, {\"line\": {\"color\": \"rgba(50, 171, 96, 1.0)\", \"dash\": \"solid\", \"shape\": \"linear\", \"width\": 1.3}, \"mode\": \"lines\", \"name\": \"3\", \"text\": \"\", \"type\": \"scatter\", \"x\": [\"2020-07-01 00:10:00+00:00\", \"2020-07-01 00:15:00+00:00\", \"2020-07-01 00:20:00+00:00\"], \"y\": [97.41927482187748, 87.55846990644932, 69.82450093328953]}],\n",
       "                        {\"legend\": {\"bgcolor\": \"#F5F6F9\", \"font\": {\"color\": \"#4D5663\"}}, \"paper_bgcolor\": \"#F5F6F9\", \"plot_bgcolor\": \"#F5F6F9\", \"template\": {\"data\": {\"bar\": [{\"error_x\": {\"color\": \"#2a3f5f\"}, \"error_y\": {\"color\": \"#2a3f5f\"}, \"marker\": {\"line\": {\"color\": \"#E5ECF6\", \"width\": 0.5}}, \"type\": \"bar\"}], \"barpolar\": [{\"marker\": {\"line\": {\"color\": \"#E5ECF6\", \"width\": 0.5}}, \"type\": \"barpolar\"}], \"carpet\": [{\"aaxis\": {\"endlinecolor\": \"#2a3f5f\", \"gridcolor\": \"white\", \"linecolor\": \"white\", \"minorgridcolor\": \"white\", \"startlinecolor\": \"#2a3f5f\"}, \"baxis\": {\"endlinecolor\": \"#2a3f5f\", \"gridcolor\": \"white\", \"linecolor\": \"white\", \"minorgridcolor\": \"white\", \"startlinecolor\": \"#2a3f5f\"}, \"type\": \"carpet\"}], \"choropleth\": [{\"colorbar\": {\"outlinewidth\": 0, \"ticks\": \"\"}, \"type\": \"choropleth\"}], \"contour\": [{\"colorbar\": {\"outlinewidth\": 0, \"ticks\": \"\"}, \"colorscale\": [[0.0, \"#0d0887\"], [0.1111111111111111, \"#46039f\"], [0.2222222222222222, \"#7201a8\"], [0.3333333333333333, \"#9c179e\"], [0.4444444444444444, \"#bd3786\"], [0.5555555555555556, \"#d8576b\"], [0.6666666666666666, \"#ed7953\"], [0.7777777777777778, \"#fb9f3a\"], [0.8888888888888888, \"#fdca26\"], [1.0, \"#f0f921\"]], \"type\": \"contour\"}], \"contourcarpet\": [{\"colorbar\": {\"outlinewidth\": 0, \"ticks\": \"\"}, \"type\": \"contourcarpet\"}], \"heatmap\": [{\"colorbar\": {\"outlinewidth\": 0, \"ticks\": \"\"}, \"colorscale\": [[0.0, \"#0d0887\"], [0.1111111111111111, \"#46039f\"], [0.2222222222222222, \"#7201a8\"], [0.3333333333333333, \"#9c179e\"], [0.4444444444444444, \"#bd3786\"], [0.5555555555555556, \"#d8576b\"], [0.6666666666666666, \"#ed7953\"], [0.7777777777777778, \"#fb9f3a\"], [0.8888888888888888, \"#fdca26\"], [1.0, \"#f0f921\"]], \"type\": \"heatmap\"}], \"heatmapgl\": [{\"colorbar\": {\"outlinewidth\": 0, \"ticks\": \"\"}, \"colorscale\": [[0.0, \"#0d0887\"], [0.1111111111111111, \"#46039f\"], [0.2222222222222222, \"#7201a8\"], [0.3333333333333333, \"#9c179e\"], [0.4444444444444444, \"#bd3786\"], [0.5555555555555556, \"#d8576b\"], [0.6666666666666666, \"#ed7953\"], [0.7777777777777778, \"#fb9f3a\"], [0.8888888888888888, \"#fdca26\"], [1.0, \"#f0f921\"]], \"type\": \"heatmapgl\"}], \"histogram\": [{\"marker\": {\"colorbar\": {\"outlinewidth\": 0, \"ticks\": \"\"}}, \"type\": \"histogram\"}], \"histogram2d\": [{\"colorbar\": {\"outlinewidth\": 0, \"ticks\": \"\"}, \"colorscale\": [[0.0, \"#0d0887\"], [0.1111111111111111, \"#46039f\"], [0.2222222222222222, \"#7201a8\"], [0.3333333333333333, \"#9c179e\"], [0.4444444444444444, \"#bd3786\"], [0.5555555555555556, \"#d8576b\"], [0.6666666666666666, \"#ed7953\"], [0.7777777777777778, \"#fb9f3a\"], [0.8888888888888888, \"#fdca26\"], [1.0, \"#f0f921\"]], \"type\": \"histogram2d\"}], \"histogram2dcontour\": [{\"colorbar\": {\"outlinewidth\": 0, \"ticks\": \"\"}, \"colorscale\": [[0.0, \"#0d0887\"], [0.1111111111111111, \"#46039f\"], [0.2222222222222222, \"#7201a8\"], [0.3333333333333333, \"#9c179e\"], [0.4444444444444444, \"#bd3786\"], [0.5555555555555556, \"#d8576b\"], [0.6666666666666666, \"#ed7953\"], [0.7777777777777778, \"#fb9f3a\"], [0.8888888888888888, \"#fdca26\"], [1.0, \"#f0f921\"]], \"type\": \"histogram2dcontour\"}], \"mesh3d\": [{\"colorbar\": {\"outlinewidth\": 0, \"ticks\": \"\"}, \"type\": \"mesh3d\"}], \"parcoords\": [{\"line\": {\"colorbar\": {\"outlinewidth\": 0, \"ticks\": \"\"}}, \"type\": \"parcoords\"}], \"pie\": [{\"automargin\": true, \"type\": \"pie\"}], \"scatter\": [{\"marker\": {\"colorbar\": {\"outlinewidth\": 0, \"ticks\": \"\"}}, \"type\": \"scatter\"}], \"scatter3d\": [{\"line\": {\"colorbar\": {\"outlinewidth\": 0, \"ticks\": \"\"}}, \"marker\": {\"colorbar\": {\"outlinewidth\": 0, \"ticks\": \"\"}}, \"type\": \"scatter3d\"}], \"scattercarpet\": [{\"marker\": {\"colorbar\": {\"outlinewidth\": 0, \"ticks\": \"\"}}, \"type\": \"scattercarpet\"}], \"scattergeo\": [{\"marker\": {\"colorbar\": {\"outlinewidth\": 0, \"ticks\": \"\"}}, \"type\": \"scattergeo\"}], \"scattergl\": [{\"marker\": {\"colorbar\": {\"outlinewidth\": 0, \"ticks\": \"\"}}, \"type\": \"scattergl\"}], \"scattermapbox\": [{\"marker\": {\"colorbar\": {\"outlinewidth\": 0, \"ticks\": \"\"}}, \"type\": \"scattermapbox\"}], \"scatterpolar\": [{\"marker\": {\"colorbar\": {\"outlinewidth\": 0, \"ticks\": \"\"}}, \"type\": \"scatterpolar\"}], \"scatterpolargl\": [{\"marker\": {\"colorbar\": {\"outlinewidth\": 0, \"ticks\": \"\"}}, \"type\": \"scatterpolargl\"}], \"scatterternary\": [{\"marker\": {\"colorbar\": {\"outlinewidth\": 0, \"ticks\": \"\"}}, \"type\": \"scatterternary\"}], \"surface\": [{\"colorbar\": {\"outlinewidth\": 0, \"ticks\": \"\"}, \"colorscale\": [[0.0, \"#0d0887\"], [0.1111111111111111, \"#46039f\"], [0.2222222222222222, \"#7201a8\"], [0.3333333333333333, \"#9c179e\"], [0.4444444444444444, \"#bd3786\"], [0.5555555555555556, \"#d8576b\"], [0.6666666666666666, \"#ed7953\"], [0.7777777777777778, \"#fb9f3a\"], [0.8888888888888888, \"#fdca26\"], [1.0, \"#f0f921\"]], \"type\": \"surface\"}], \"table\": [{\"cells\": {\"fill\": {\"color\": \"#EBF0F8\"}, \"line\": {\"color\": \"white\"}}, \"header\": {\"fill\": {\"color\": \"#C8D4E3\"}, \"line\": {\"color\": \"white\"}}, \"type\": \"table\"}]}, \"layout\": {\"annotationdefaults\": {\"arrowcolor\": \"#2a3f5f\", \"arrowhead\": 0, \"arrowwidth\": 1}, \"coloraxis\": {\"colorbar\": {\"outlinewidth\": 0, \"ticks\": \"\"}}, \"colorscale\": {\"diverging\": [[0, \"#8e0152\"], [0.1, \"#c51b7d\"], [0.2, \"#de77ae\"], [0.3, \"#f1b6da\"], [0.4, \"#fde0ef\"], [0.5, \"#f7f7f7\"], [0.6, \"#e6f5d0\"], [0.7, \"#b8e186\"], [0.8, \"#7fbc41\"], [0.9, \"#4d9221\"], [1, \"#276419\"]], \"sequential\": [[0.0, \"#0d0887\"], [0.1111111111111111, \"#46039f\"], [0.2222222222222222, \"#7201a8\"], [0.3333333333333333, \"#9c179e\"], [0.4444444444444444, \"#bd3786\"], [0.5555555555555556, \"#d8576b\"], [0.6666666666666666, \"#ed7953\"], [0.7777777777777778, \"#fb9f3a\"], [0.8888888888888888, \"#fdca26\"], [1.0, \"#f0f921\"]], \"sequentialminus\": [[0.0, \"#0d0887\"], [0.1111111111111111, \"#46039f\"], [0.2222222222222222, \"#7201a8\"], [0.3333333333333333, \"#9c179e\"], [0.4444444444444444, \"#bd3786\"], [0.5555555555555556, \"#d8576b\"], [0.6666666666666666, \"#ed7953\"], [0.7777777777777778, \"#fb9f3a\"], [0.8888888888888888, \"#fdca26\"], [1.0, \"#f0f921\"]]}, \"colorway\": [\"#636efa\", \"#EF553B\", \"#00cc96\", \"#ab63fa\", \"#FFA15A\", \"#19d3f3\", \"#FF6692\", \"#B6E880\", \"#FF97FF\", \"#FECB52\"], \"font\": {\"color\": \"#2a3f5f\"}, \"geo\": {\"bgcolor\": \"white\", \"lakecolor\": \"white\", \"landcolor\": \"#E5ECF6\", \"showlakes\": true, \"showland\": true, \"subunitcolor\": \"white\"}, \"hoverlabel\": {\"align\": \"left\"}, \"hovermode\": \"closest\", \"mapbox\": {\"style\": \"light\"}, \"paper_bgcolor\": \"white\", \"plot_bgcolor\": \"#E5ECF6\", \"polar\": {\"angularaxis\": {\"gridcolor\": \"white\", \"linecolor\": \"white\", \"ticks\": \"\"}, \"bgcolor\": \"#E5ECF6\", \"radialaxis\": {\"gridcolor\": \"white\", \"linecolor\": \"white\", \"ticks\": \"\"}}, \"scene\": {\"xaxis\": {\"backgroundcolor\": \"#E5ECF6\", \"gridcolor\": \"white\", \"gridwidth\": 2, \"linecolor\": \"white\", \"showbackground\": true, \"ticks\": \"\", \"zerolinecolor\": \"white\"}, \"yaxis\": {\"backgroundcolor\": \"#E5ECF6\", \"gridcolor\": \"white\", \"gridwidth\": 2, \"linecolor\": \"white\", \"showbackground\": true, \"ticks\": \"\", \"zerolinecolor\": \"white\"}, \"zaxis\": {\"backgroundcolor\": \"#E5ECF6\", \"gridcolor\": \"white\", \"gridwidth\": 2, \"linecolor\": \"white\", \"showbackground\": true, \"ticks\": \"\", \"zerolinecolor\": \"white\"}}, \"shapedefaults\": {\"line\": {\"color\": \"#2a3f5f\"}}, \"ternary\": {\"aaxis\": {\"gridcolor\": \"white\", \"linecolor\": \"white\", \"ticks\": \"\"}, \"baxis\": {\"gridcolor\": \"white\", \"linecolor\": \"white\", \"ticks\": \"\"}, \"bgcolor\": \"#E5ECF6\", \"caxis\": {\"gridcolor\": \"white\", \"linecolor\": \"white\", \"ticks\": \"\"}}, \"title\": {\"x\": 0.05}, \"xaxis\": {\"automargin\": true, \"gridcolor\": \"white\", \"linecolor\": \"white\", \"ticks\": \"\", \"title\": {\"standoff\": 15}, \"zerolinecolor\": \"white\", \"zerolinewidth\": 2}, \"yaxis\": {\"automargin\": true, \"gridcolor\": \"white\", \"linecolor\": \"white\", \"ticks\": \"\", \"title\": {\"standoff\": 15}, \"zerolinecolor\": \"white\", \"zerolinewidth\": 2}}}, \"title\": {\"font\": {\"color\": \"#4D5663\"}, \"text\": \"Total Wind Power\"}, \"xaxis\": {\"gridcolor\": \"#E1E5ED\", \"showgrid\": true, \"tickfont\": {\"color\": \"#4D5663\"}, \"title\": {\"font\": {\"color\": \"#4D5663\"}, \"text\": \"Time\"}, \"zerolinecolor\": \"#E1E5ED\"}, \"yaxis\": {\"gridcolor\": \"#E1E5ED\", \"showgrid\": true, \"tickfont\": {\"color\": \"#4D5663\"}, \"title\": {\"font\": {\"color\": \"#4D5663\"}, \"text\": \"MW\"}, \"zerolinecolor\": \"#E1E5ED\"}},\n",
       "                        {\"showLink\": true, \"linkText\": \"Export to plot.ly\", \"plotlyServerURL\": \"https://plot.ly\", \"responsive\": true}\n",
       "                    ).then(function(){\n",
       "                            \n",
       "var gd = document.getElementById('b8722899-0249-4793-8f15-afea4479c8ed');\n",
       "var x = new MutationObserver(function (mutations, observer) {{\n",
       "        var display = window.getComputedStyle(gd).display;\n",
       "        if (!display || display === 'none') {{\n",
       "            console.log([gd, 'removed!']);\n",
       "            Plotly.purge(gd);\n",
       "            observer.disconnect();\n",
       "        }}\n",
       "}});\n",
       "\n",
       "// Listen for the removal of the full notebook cells\n",
       "var notebookContainer = gd.closest('#notebook-container');\n",
       "if (notebookContainer) {{\n",
       "    x.observe(notebookContainer, {childList: true});\n",
       "}}\n",
       "\n",
       "// Listen for the clearing of the current output cell\n",
       "var outputEl = gd.closest('.output');\n",
       "if (outputEl) {{\n",
       "    x.observe(outputEl, {childList: true});\n",
       "}}\n",
       "\n",
       "                        })\n",
       "                };\n",
       "                });\n",
       "            </script>\n",
       "        </div>"
      ]
     },
     "metadata": {},
     "output_type": "display_data"
    },
    {
     "data": {
      "application/javascript": [
       "\n",
       "            setTimeout(function() {\n",
       "                var nbb_cell_id = 50;\n",
       "                var nbb_unformatted_code = \"# total power\\n# choose sim_timestamp for which to plot all scenarios\\nsim_timestamp = sim_timestamps[0]\\n\\n# all needed period timestamps: t0,t1,...\\ntimestamps = pd.date_range(\\n    start=sim_timestamp - pd.Timedelta(\\\"5min\\\"), periods=n_periods + 1, freq=\\\"5min\\\"\\n)\\nplot_df = pd.DataFrame(index=timestamps, columns=range(1, n_scenarios + 1),)\\nfor scenario_nr in range(1, n_scenarios + 1):\\n    s = all_scenarios_df.loc[(sim_timestamp, scenario_nr,)].sum(axis=1)\\n    s.loc[timestamps[0]] = grid.actuals.loc[timestamps[0]].loc[\\\"TotalPower\\\"]\\n\\n    plot_df[scenario_nr] = s\\n\\n#plot_df.iplot()\\n#plot_df.iplot(xTitle=\\\"Time\\\", yTitle=\\\"MW\\\", title=\\\"Total Wind Power\\\", asImage=True,)\\nplot_df.iplot(xTitle=\\\"Time\\\", yTitle=\\\"MW\\\", title=\\\"Total Wind Power\\\")\";\n",
       "                var nbb_formatted_code = \"# total power\\n# choose sim_timestamp for which to plot all scenarios\\nsim_timestamp = sim_timestamps[0]\\n\\n# all needed period timestamps: t0,t1,...\\ntimestamps = pd.date_range(\\n    start=sim_timestamp - pd.Timedelta(\\\"5min\\\"), periods=n_periods + 1, freq=\\\"5min\\\"\\n)\\nplot_df = pd.DataFrame(index=timestamps, columns=range(1, n_scenarios + 1),)\\nfor scenario_nr in range(1, n_scenarios + 1):\\n    s = all_scenarios_df.loc[(sim_timestamp, scenario_nr,)].sum(axis=1)\\n    s.loc[timestamps[0]] = grid.actuals.loc[timestamps[0]].loc[\\\"TotalPower\\\"]\\n\\n    plot_df[scenario_nr] = s\\n\\n# plot_df.iplot()\\n# plot_df.iplot(xTitle=\\\"Time\\\", yTitle=\\\"MW\\\", title=\\\"Total Wind Power\\\", asImage=True,)\\nplot_df.iplot(xTitle=\\\"Time\\\", yTitle=\\\"MW\\\", title=\\\"Total Wind Power\\\")\";\n",
       "                var nbb_cells = Jupyter.notebook.get_cells();\n",
       "                for (var i = 0; i < nbb_cells.length; ++i) {\n",
       "                    if (nbb_cells[i].input_prompt_number == nbb_cell_id) {\n",
       "                        if (nbb_cells[i].get_text() == nbb_unformatted_code) {\n",
       "                             nbb_cells[i].set_text(nbb_formatted_code);\n",
       "                        }\n",
       "                        break;\n",
       "                    }\n",
       "                }\n",
       "            }, 500);\n",
       "            "
      ],
      "text/plain": [
       "<IPython.core.display.Javascript object>"
      ]
     },
     "metadata": {},
     "output_type": "display_data"
    }
   ],
   "source": [
    "# total power\n",
    "# choose sim_timestamp for which to plot all scenarios\n",
    "sim_timestamp = sim_timestamps[0]\n",
    "\n",
    "# all needed period timestamps: t0,t1,...\n",
    "timestamps = pd.date_range(\n",
    "    start=sim_timestamp - pd.Timedelta(\"5min\"), periods=n_periods + 1, freq=\"5min\"\n",
    ")\n",
    "plot_df = pd.DataFrame(index=timestamps, columns=range(1, n_scenarios + 1),)\n",
    "for scenario_nr in range(1, n_scenarios + 1):\n",
    "    s = all_scenarios_df.loc[(sim_timestamp, scenario_nr,)].sum(axis=1)\n",
    "    s.loc[timestamps[0]] = grid.actuals.loc[timestamps[0]].loc[\"TotalPower\"]\n",
    "\n",
    "    plot_df[scenario_nr] = s\n",
    "\n",
    "#plot_df.iplot()\n",
    "#plot_df.iplot(xTitle=\"Time\", yTitle=\"MW\", title=\"Total Wind Power\", asImage=True,)\n",
    "plot_df.iplot(xTitle=\"Time\", yTitle=\"MW\", title=\"Total Wind Power\")\n",
    "\n",
    "\n"
   ]
  },
  {
   "cell_type": "code",
   "execution_count": 51,
   "metadata": {
    "scrolled": true
   },
   "outputs": [
    {
     "data": {
      "application/vnd.plotly.v1+json": {
       "config": {
        "linkText": "Export to plot.ly",
        "plotlyServerURL": "https://plot.ly",
        "showLink": true
       },
       "data": [
        {
         "line": {
          "color": "rgba(255, 153, 51, 1.0)",
          "dash": "solid",
          "shape": "linear",
          "width": 1.3
         },
         "mode": "lines",
         "name": "65_Wind_1",
         "text": "",
         "type": "scatter",
         "x": [
          "2020-07-01 00:10:00+00:00",
          "2020-07-01 00:15:00+00:00",
          "2020-07-01 00:20:00+00:00"
         ],
         "y": [
          31.520355939865112,
          32.10604166984558,
          30.35518479347229
         ]
        },
        {
         "line": {
          "color": "rgba(55, 128, 191, 1.0)",
          "dash": "solid",
          "shape": "linear",
          "width": 1.3
         },
         "mode": "lines",
         "name": "104_Wind_1",
         "text": "",
         "type": "scatter",
         "x": [
          "2020-07-01 00:10:00+00:00",
          "2020-07-01 00:15:00+00:00",
          "2020-07-01 00:20:00+00:00"
         ],
         "y": [
          10.366319715976715,
          5.36549574136734,
          2.9842835068702698
         ]
        },
        {
         "line": {
          "color": "rgba(50, 171, 96, 1.0)",
          "dash": "solid",
          "shape": "linear",
          "width": 1.3
         },
         "mode": "lines",
         "name": "105_Wind_1",
         "text": "",
         "type": "scatter",
         "x": [
          "2020-07-01 00:10:00+00:00",
          "2020-07-01 00:15:00+00:00",
          "2020-07-01 00:20:00+00:00"
         ],
         "y": [
          26.36486655473709,
          16.744774162769318,
          11.216352760791779
         ]
        },
        {
         "line": {
          "color": "rgba(128, 0, 128, 1.0)",
          "dash": "solid",
          "shape": "linear",
          "width": 1.3
         },
         "mode": "lines",
         "name": "114_Wind_1",
         "text": "",
         "type": "scatter",
         "x": [
          "2020-07-01 00:10:00+00:00",
          "2020-07-01 00:15:00+00:00",
          "2020-07-01 00:20:00+00:00"
         ],
         "y": [
          1.2297344207763672,
          1.2297344207763672,
          1.2297344207763672
         ]
        },
        {
         "line": {
          "color": "rgba(219, 64, 82, 1.0)",
          "dash": "solid",
          "shape": "linear",
          "width": 1.3
         },
         "mode": "lines",
         "name": "115_Wind_1",
         "text": "",
         "type": "scatter",
         "x": [
          "2020-07-01 00:10:00+00:00",
          "2020-07-01 00:15:00+00:00",
          "2020-07-01 00:20:00+00:00"
         ],
         "y": [
          14.954336062073708,
          10.39849092066288,
          4.131424680352211
         ]
        },
        {
         "line": {
          "color": "rgba(0, 128, 128, 1.0)",
          "dash": "solid",
          "shape": "linear",
          "width": 1.3
         },
         "mode": "lines",
         "name": "147_Wind_1",
         "text": "",
         "type": "scatter",
         "x": [
          "2020-07-01 00:10:00+00:00",
          "2020-07-01 00:15:00+00:00",
          "2020-07-01 00:20:00+00:00"
         ],
         "y": [
          12.983662128448486,
          11.204471111297607,
          10.319413661956787
         ]
        }
       ],
       "layout": {
        "legend": {
         "bgcolor": "#F5F6F9",
         "font": {
          "color": "#4D5663"
         }
        },
        "paper_bgcolor": "#F5F6F9",
        "plot_bgcolor": "#F5F6F9",
        "template": {
         "data": {
          "bar": [
           {
            "error_x": {
             "color": "#2a3f5f"
            },
            "error_y": {
             "color": "#2a3f5f"
            },
            "marker": {
             "line": {
              "color": "#E5ECF6",
              "width": 0.5
             }
            },
            "type": "bar"
           }
          ],
          "barpolar": [
           {
            "marker": {
             "line": {
              "color": "#E5ECF6",
              "width": 0.5
             }
            },
            "type": "barpolar"
           }
          ],
          "carpet": [
           {
            "aaxis": {
             "endlinecolor": "#2a3f5f",
             "gridcolor": "white",
             "linecolor": "white",
             "minorgridcolor": "white",
             "startlinecolor": "#2a3f5f"
            },
            "baxis": {
             "endlinecolor": "#2a3f5f",
             "gridcolor": "white",
             "linecolor": "white",
             "minorgridcolor": "white",
             "startlinecolor": "#2a3f5f"
            },
            "type": "carpet"
           }
          ],
          "choropleth": [
           {
            "colorbar": {
             "outlinewidth": 0,
             "ticks": ""
            },
            "type": "choropleth"
           }
          ],
          "contour": [
           {
            "colorbar": {
             "outlinewidth": 0,
             "ticks": ""
            },
            "colorscale": [
             [
              0,
              "#0d0887"
             ],
             [
              0.1111111111111111,
              "#46039f"
             ],
             [
              0.2222222222222222,
              "#7201a8"
             ],
             [
              0.3333333333333333,
              "#9c179e"
             ],
             [
              0.4444444444444444,
              "#bd3786"
             ],
             [
              0.5555555555555556,
              "#d8576b"
             ],
             [
              0.6666666666666666,
              "#ed7953"
             ],
             [
              0.7777777777777778,
              "#fb9f3a"
             ],
             [
              0.8888888888888888,
              "#fdca26"
             ],
             [
              1,
              "#f0f921"
             ]
            ],
            "type": "contour"
           }
          ],
          "contourcarpet": [
           {
            "colorbar": {
             "outlinewidth": 0,
             "ticks": ""
            },
            "type": "contourcarpet"
           }
          ],
          "heatmap": [
           {
            "colorbar": {
             "outlinewidth": 0,
             "ticks": ""
            },
            "colorscale": [
             [
              0,
              "#0d0887"
             ],
             [
              0.1111111111111111,
              "#46039f"
             ],
             [
              0.2222222222222222,
              "#7201a8"
             ],
             [
              0.3333333333333333,
              "#9c179e"
             ],
             [
              0.4444444444444444,
              "#bd3786"
             ],
             [
              0.5555555555555556,
              "#d8576b"
             ],
             [
              0.6666666666666666,
              "#ed7953"
             ],
             [
              0.7777777777777778,
              "#fb9f3a"
             ],
             [
              0.8888888888888888,
              "#fdca26"
             ],
             [
              1,
              "#f0f921"
             ]
            ],
            "type": "heatmap"
           }
          ],
          "heatmapgl": [
           {
            "colorbar": {
             "outlinewidth": 0,
             "ticks": ""
            },
            "colorscale": [
             [
              0,
              "#0d0887"
             ],
             [
              0.1111111111111111,
              "#46039f"
             ],
             [
              0.2222222222222222,
              "#7201a8"
             ],
             [
              0.3333333333333333,
              "#9c179e"
             ],
             [
              0.4444444444444444,
              "#bd3786"
             ],
             [
              0.5555555555555556,
              "#d8576b"
             ],
             [
              0.6666666666666666,
              "#ed7953"
             ],
             [
              0.7777777777777778,
              "#fb9f3a"
             ],
             [
              0.8888888888888888,
              "#fdca26"
             ],
             [
              1,
              "#f0f921"
             ]
            ],
            "type": "heatmapgl"
           }
          ],
          "histogram": [
           {
            "marker": {
             "colorbar": {
              "outlinewidth": 0,
              "ticks": ""
             }
            },
            "type": "histogram"
           }
          ],
          "histogram2d": [
           {
            "colorbar": {
             "outlinewidth": 0,
             "ticks": ""
            },
            "colorscale": [
             [
              0,
              "#0d0887"
             ],
             [
              0.1111111111111111,
              "#46039f"
             ],
             [
              0.2222222222222222,
              "#7201a8"
             ],
             [
              0.3333333333333333,
              "#9c179e"
             ],
             [
              0.4444444444444444,
              "#bd3786"
             ],
             [
              0.5555555555555556,
              "#d8576b"
             ],
             [
              0.6666666666666666,
              "#ed7953"
             ],
             [
              0.7777777777777778,
              "#fb9f3a"
             ],
             [
              0.8888888888888888,
              "#fdca26"
             ],
             [
              1,
              "#f0f921"
             ]
            ],
            "type": "histogram2d"
           }
          ],
          "histogram2dcontour": [
           {
            "colorbar": {
             "outlinewidth": 0,
             "ticks": ""
            },
            "colorscale": [
             [
              0,
              "#0d0887"
             ],
             [
              0.1111111111111111,
              "#46039f"
             ],
             [
              0.2222222222222222,
              "#7201a8"
             ],
             [
              0.3333333333333333,
              "#9c179e"
             ],
             [
              0.4444444444444444,
              "#bd3786"
             ],
             [
              0.5555555555555556,
              "#d8576b"
             ],
             [
              0.6666666666666666,
              "#ed7953"
             ],
             [
              0.7777777777777778,
              "#fb9f3a"
             ],
             [
              0.8888888888888888,
              "#fdca26"
             ],
             [
              1,
              "#f0f921"
             ]
            ],
            "type": "histogram2dcontour"
           }
          ],
          "mesh3d": [
           {
            "colorbar": {
             "outlinewidth": 0,
             "ticks": ""
            },
            "type": "mesh3d"
           }
          ],
          "parcoords": [
           {
            "line": {
             "colorbar": {
              "outlinewidth": 0,
              "ticks": ""
             }
            },
            "type": "parcoords"
           }
          ],
          "pie": [
           {
            "automargin": true,
            "type": "pie"
           }
          ],
          "scatter": [
           {
            "marker": {
             "colorbar": {
              "outlinewidth": 0,
              "ticks": ""
             }
            },
            "type": "scatter"
           }
          ],
          "scatter3d": [
           {
            "line": {
             "colorbar": {
              "outlinewidth": 0,
              "ticks": ""
             }
            },
            "marker": {
             "colorbar": {
              "outlinewidth": 0,
              "ticks": ""
             }
            },
            "type": "scatter3d"
           }
          ],
          "scattercarpet": [
           {
            "marker": {
             "colorbar": {
              "outlinewidth": 0,
              "ticks": ""
             }
            },
            "type": "scattercarpet"
           }
          ],
          "scattergeo": [
           {
            "marker": {
             "colorbar": {
              "outlinewidth": 0,
              "ticks": ""
             }
            },
            "type": "scattergeo"
           }
          ],
          "scattergl": [
           {
            "marker": {
             "colorbar": {
              "outlinewidth": 0,
              "ticks": ""
             }
            },
            "type": "scattergl"
           }
          ],
          "scattermapbox": [
           {
            "marker": {
             "colorbar": {
              "outlinewidth": 0,
              "ticks": ""
             }
            },
            "type": "scattermapbox"
           }
          ],
          "scatterpolar": [
           {
            "marker": {
             "colorbar": {
              "outlinewidth": 0,
              "ticks": ""
             }
            },
            "type": "scatterpolar"
           }
          ],
          "scatterpolargl": [
           {
            "marker": {
             "colorbar": {
              "outlinewidth": 0,
              "ticks": ""
             }
            },
            "type": "scatterpolargl"
           }
          ],
          "scatterternary": [
           {
            "marker": {
             "colorbar": {
              "outlinewidth": 0,
              "ticks": ""
             }
            },
            "type": "scatterternary"
           }
          ],
          "surface": [
           {
            "colorbar": {
             "outlinewidth": 0,
             "ticks": ""
            },
            "colorscale": [
             [
              0,
              "#0d0887"
             ],
             [
              0.1111111111111111,
              "#46039f"
             ],
             [
              0.2222222222222222,
              "#7201a8"
             ],
             [
              0.3333333333333333,
              "#9c179e"
             ],
             [
              0.4444444444444444,
              "#bd3786"
             ],
             [
              0.5555555555555556,
              "#d8576b"
             ],
             [
              0.6666666666666666,
              "#ed7953"
             ],
             [
              0.7777777777777778,
              "#fb9f3a"
             ],
             [
              0.8888888888888888,
              "#fdca26"
             ],
             [
              1,
              "#f0f921"
             ]
            ],
            "type": "surface"
           }
          ],
          "table": [
           {
            "cells": {
             "fill": {
              "color": "#EBF0F8"
             },
             "line": {
              "color": "white"
             }
            },
            "header": {
             "fill": {
              "color": "#C8D4E3"
             },
             "line": {
              "color": "white"
             }
            },
            "type": "table"
           }
          ]
         },
         "layout": {
          "annotationdefaults": {
           "arrowcolor": "#2a3f5f",
           "arrowhead": 0,
           "arrowwidth": 1
          },
          "coloraxis": {
           "colorbar": {
            "outlinewidth": 0,
            "ticks": ""
           }
          },
          "colorscale": {
           "diverging": [
            [
             0,
             "#8e0152"
            ],
            [
             0.1,
             "#c51b7d"
            ],
            [
             0.2,
             "#de77ae"
            ],
            [
             0.3,
             "#f1b6da"
            ],
            [
             0.4,
             "#fde0ef"
            ],
            [
             0.5,
             "#f7f7f7"
            ],
            [
             0.6,
             "#e6f5d0"
            ],
            [
             0.7,
             "#b8e186"
            ],
            [
             0.8,
             "#7fbc41"
            ],
            [
             0.9,
             "#4d9221"
            ],
            [
             1,
             "#276419"
            ]
           ],
           "sequential": [
            [
             0,
             "#0d0887"
            ],
            [
             0.1111111111111111,
             "#46039f"
            ],
            [
             0.2222222222222222,
             "#7201a8"
            ],
            [
             0.3333333333333333,
             "#9c179e"
            ],
            [
             0.4444444444444444,
             "#bd3786"
            ],
            [
             0.5555555555555556,
             "#d8576b"
            ],
            [
             0.6666666666666666,
             "#ed7953"
            ],
            [
             0.7777777777777778,
             "#fb9f3a"
            ],
            [
             0.8888888888888888,
             "#fdca26"
            ],
            [
             1,
             "#f0f921"
            ]
           ],
           "sequentialminus": [
            [
             0,
             "#0d0887"
            ],
            [
             0.1111111111111111,
             "#46039f"
            ],
            [
             0.2222222222222222,
             "#7201a8"
            ],
            [
             0.3333333333333333,
             "#9c179e"
            ],
            [
             0.4444444444444444,
             "#bd3786"
            ],
            [
             0.5555555555555556,
             "#d8576b"
            ],
            [
             0.6666666666666666,
             "#ed7953"
            ],
            [
             0.7777777777777778,
             "#fb9f3a"
            ],
            [
             0.8888888888888888,
             "#fdca26"
            ],
            [
             1,
             "#f0f921"
            ]
           ]
          },
          "colorway": [
           "#636efa",
           "#EF553B",
           "#00cc96",
           "#ab63fa",
           "#FFA15A",
           "#19d3f3",
           "#FF6692",
           "#B6E880",
           "#FF97FF",
           "#FECB52"
          ],
          "font": {
           "color": "#2a3f5f"
          },
          "geo": {
           "bgcolor": "white",
           "lakecolor": "white",
           "landcolor": "#E5ECF6",
           "showlakes": true,
           "showland": true,
           "subunitcolor": "white"
          },
          "hoverlabel": {
           "align": "left"
          },
          "hovermode": "closest",
          "mapbox": {
           "style": "light"
          },
          "paper_bgcolor": "white",
          "plot_bgcolor": "#E5ECF6",
          "polar": {
           "angularaxis": {
            "gridcolor": "white",
            "linecolor": "white",
            "ticks": ""
           },
           "bgcolor": "#E5ECF6",
           "radialaxis": {
            "gridcolor": "white",
            "linecolor": "white",
            "ticks": ""
           }
          },
          "scene": {
           "xaxis": {
            "backgroundcolor": "#E5ECF6",
            "gridcolor": "white",
            "gridwidth": 2,
            "linecolor": "white",
            "showbackground": true,
            "ticks": "",
            "zerolinecolor": "white"
           },
           "yaxis": {
            "backgroundcolor": "#E5ECF6",
            "gridcolor": "white",
            "gridwidth": 2,
            "linecolor": "white",
            "showbackground": true,
            "ticks": "",
            "zerolinecolor": "white"
           },
           "zaxis": {
            "backgroundcolor": "#E5ECF6",
            "gridcolor": "white",
            "gridwidth": 2,
            "linecolor": "white",
            "showbackground": true,
            "ticks": "",
            "zerolinecolor": "white"
           }
          },
          "shapedefaults": {
           "line": {
            "color": "#2a3f5f"
           }
          },
          "ternary": {
           "aaxis": {
            "gridcolor": "white",
            "linecolor": "white",
            "ticks": ""
           },
           "baxis": {
            "gridcolor": "white",
            "linecolor": "white",
            "ticks": ""
           },
           "bgcolor": "#E5ECF6",
           "caxis": {
            "gridcolor": "white",
            "linecolor": "white",
            "ticks": ""
           }
          },
          "title": {
           "x": 0.05
          },
          "xaxis": {
           "automargin": true,
           "gridcolor": "white",
           "linecolor": "white",
           "ticks": "",
           "title": {
            "standoff": 15
           },
           "zerolinecolor": "white",
           "zerolinewidth": 2
          },
          "yaxis": {
           "automargin": true,
           "gridcolor": "white",
           "linecolor": "white",
           "ticks": "",
           "title": {
            "standoff": 15
           },
           "zerolinecolor": "white",
           "zerolinewidth": 2
          }
         }
        },
        "title": {
         "font": {
          "color": "#4D5663"
         },
         "text": "Power at generators when scenario_nr=1"
        },
        "xaxis": {
         "gridcolor": "#E1E5ED",
         "showgrid": true,
         "tickfont": {
          "color": "#4D5663"
         },
         "title": {
          "font": {
           "color": "#4D5663"
          },
          "text": "Time"
         },
         "zerolinecolor": "#E1E5ED"
        },
        "yaxis": {
         "gridcolor": "#E1E5ED",
         "showgrid": true,
         "tickfont": {
          "color": "#4D5663"
         },
         "title": {
          "font": {
           "color": "#4D5663"
          },
          "text": "MW"
         },
         "zerolinecolor": "#E1E5ED"
        }
       }
      },
      "text/html": [
       "<div>\n",
       "        \n",
       "        \n",
       "            <div id=\"6b8575e1-5574-4eff-b12a-a4707a3ce38b\" class=\"plotly-graph-div\" style=\"height:525px; width:100%;\"></div>\n",
       "            <script type=\"text/javascript\">\n",
       "                require([\"plotly\"], function(Plotly) {\n",
       "                    window.PLOTLYENV=window.PLOTLYENV || {};\n",
       "                    window.PLOTLYENV.BASE_URL='https://plot.ly';\n",
       "                    \n",
       "                if (document.getElementById(\"6b8575e1-5574-4eff-b12a-a4707a3ce38b\")) {\n",
       "                    Plotly.newPlot(\n",
       "                        '6b8575e1-5574-4eff-b12a-a4707a3ce38b',\n",
       "                        [{\"line\": {\"color\": \"rgba(255, 153, 51, 1.0)\", \"dash\": \"solid\", \"shape\": \"linear\", \"width\": 1.3}, \"mode\": \"lines\", \"name\": \"65_Wind_1\", \"text\": \"\", \"type\": \"scatter\", \"x\": [\"2020-07-01 00:10:00+00:00\", \"2020-07-01 00:15:00+00:00\", \"2020-07-01 00:20:00+00:00\"], \"y\": [31.520355939865112, 32.10604166984558, 30.35518479347229]}, {\"line\": {\"color\": \"rgba(55, 128, 191, 1.0)\", \"dash\": \"solid\", \"shape\": \"linear\", \"width\": 1.3}, \"mode\": \"lines\", \"name\": \"104_Wind_1\", \"text\": \"\", \"type\": \"scatter\", \"x\": [\"2020-07-01 00:10:00+00:00\", \"2020-07-01 00:15:00+00:00\", \"2020-07-01 00:20:00+00:00\"], \"y\": [10.366319715976715, 5.36549574136734, 2.9842835068702698]}, {\"line\": {\"color\": \"rgba(50, 171, 96, 1.0)\", \"dash\": \"solid\", \"shape\": \"linear\", \"width\": 1.3}, \"mode\": \"lines\", \"name\": \"105_Wind_1\", \"text\": \"\", \"type\": \"scatter\", \"x\": [\"2020-07-01 00:10:00+00:00\", \"2020-07-01 00:15:00+00:00\", \"2020-07-01 00:20:00+00:00\"], \"y\": [26.36486655473709, 16.744774162769318, 11.216352760791779]}, {\"line\": {\"color\": \"rgba(128, 0, 128, 1.0)\", \"dash\": \"solid\", \"shape\": \"linear\", \"width\": 1.3}, \"mode\": \"lines\", \"name\": \"114_Wind_1\", \"text\": \"\", \"type\": \"scatter\", \"x\": [\"2020-07-01 00:10:00+00:00\", \"2020-07-01 00:15:00+00:00\", \"2020-07-01 00:20:00+00:00\"], \"y\": [1.2297344207763672, 1.2297344207763672, 1.2297344207763672]}, {\"line\": {\"color\": \"rgba(219, 64, 82, 1.0)\", \"dash\": \"solid\", \"shape\": \"linear\", \"width\": 1.3}, \"mode\": \"lines\", \"name\": \"115_Wind_1\", \"text\": \"\", \"type\": \"scatter\", \"x\": [\"2020-07-01 00:10:00+00:00\", \"2020-07-01 00:15:00+00:00\", \"2020-07-01 00:20:00+00:00\"], \"y\": [14.954336062073708, 10.39849092066288, 4.131424680352211]}, {\"line\": {\"color\": \"rgba(0, 128, 128, 1.0)\", \"dash\": \"solid\", \"shape\": \"linear\", \"width\": 1.3}, \"mode\": \"lines\", \"name\": \"147_Wind_1\", \"text\": \"\", \"type\": \"scatter\", \"x\": [\"2020-07-01 00:10:00+00:00\", \"2020-07-01 00:15:00+00:00\", \"2020-07-01 00:20:00+00:00\"], \"y\": [12.983662128448486, 11.204471111297607, 10.319413661956787]}],\n",
       "                        {\"legend\": {\"bgcolor\": \"#F5F6F9\", \"font\": {\"color\": \"#4D5663\"}}, \"paper_bgcolor\": \"#F5F6F9\", \"plot_bgcolor\": \"#F5F6F9\", \"template\": {\"data\": {\"bar\": [{\"error_x\": {\"color\": \"#2a3f5f\"}, \"error_y\": {\"color\": \"#2a3f5f\"}, \"marker\": {\"line\": {\"color\": \"#E5ECF6\", \"width\": 0.5}}, \"type\": \"bar\"}], \"barpolar\": [{\"marker\": {\"line\": {\"color\": \"#E5ECF6\", \"width\": 0.5}}, \"type\": \"barpolar\"}], \"carpet\": [{\"aaxis\": {\"endlinecolor\": \"#2a3f5f\", \"gridcolor\": \"white\", \"linecolor\": \"white\", \"minorgridcolor\": \"white\", \"startlinecolor\": \"#2a3f5f\"}, \"baxis\": {\"endlinecolor\": \"#2a3f5f\", \"gridcolor\": \"white\", \"linecolor\": \"white\", \"minorgridcolor\": \"white\", \"startlinecolor\": \"#2a3f5f\"}, \"type\": \"carpet\"}], \"choropleth\": [{\"colorbar\": {\"outlinewidth\": 0, \"ticks\": \"\"}, \"type\": \"choropleth\"}], \"contour\": [{\"colorbar\": {\"outlinewidth\": 0, \"ticks\": \"\"}, \"colorscale\": [[0.0, \"#0d0887\"], [0.1111111111111111, \"#46039f\"], [0.2222222222222222, \"#7201a8\"], [0.3333333333333333, \"#9c179e\"], [0.4444444444444444, \"#bd3786\"], [0.5555555555555556, \"#d8576b\"], [0.6666666666666666, \"#ed7953\"], [0.7777777777777778, \"#fb9f3a\"], [0.8888888888888888, \"#fdca26\"], [1.0, \"#f0f921\"]], \"type\": \"contour\"}], \"contourcarpet\": [{\"colorbar\": {\"outlinewidth\": 0, \"ticks\": \"\"}, \"type\": \"contourcarpet\"}], \"heatmap\": [{\"colorbar\": {\"outlinewidth\": 0, \"ticks\": \"\"}, \"colorscale\": [[0.0, \"#0d0887\"], [0.1111111111111111, \"#46039f\"], [0.2222222222222222, \"#7201a8\"], [0.3333333333333333, \"#9c179e\"], [0.4444444444444444, \"#bd3786\"], [0.5555555555555556, \"#d8576b\"], [0.6666666666666666, \"#ed7953\"], [0.7777777777777778, \"#fb9f3a\"], [0.8888888888888888, \"#fdca26\"], [1.0, \"#f0f921\"]], \"type\": \"heatmap\"}], \"heatmapgl\": [{\"colorbar\": {\"outlinewidth\": 0, \"ticks\": \"\"}, \"colorscale\": [[0.0, \"#0d0887\"], [0.1111111111111111, \"#46039f\"], [0.2222222222222222, \"#7201a8\"], [0.3333333333333333, \"#9c179e\"], [0.4444444444444444, \"#bd3786\"], [0.5555555555555556, \"#d8576b\"], [0.6666666666666666, \"#ed7953\"], [0.7777777777777778, \"#fb9f3a\"], [0.8888888888888888, \"#fdca26\"], [1.0, \"#f0f921\"]], \"type\": \"heatmapgl\"}], \"histogram\": [{\"marker\": {\"colorbar\": {\"outlinewidth\": 0, \"ticks\": \"\"}}, \"type\": \"histogram\"}], \"histogram2d\": [{\"colorbar\": {\"outlinewidth\": 0, \"ticks\": \"\"}, \"colorscale\": [[0.0, \"#0d0887\"], [0.1111111111111111, \"#46039f\"], [0.2222222222222222, \"#7201a8\"], [0.3333333333333333, \"#9c179e\"], [0.4444444444444444, \"#bd3786\"], [0.5555555555555556, \"#d8576b\"], [0.6666666666666666, \"#ed7953\"], [0.7777777777777778, \"#fb9f3a\"], [0.8888888888888888, \"#fdca26\"], [1.0, \"#f0f921\"]], \"type\": \"histogram2d\"}], \"histogram2dcontour\": [{\"colorbar\": {\"outlinewidth\": 0, \"ticks\": \"\"}, \"colorscale\": [[0.0, \"#0d0887\"], [0.1111111111111111, \"#46039f\"], [0.2222222222222222, \"#7201a8\"], [0.3333333333333333, \"#9c179e\"], [0.4444444444444444, \"#bd3786\"], [0.5555555555555556, \"#d8576b\"], [0.6666666666666666, \"#ed7953\"], [0.7777777777777778, \"#fb9f3a\"], [0.8888888888888888, \"#fdca26\"], [1.0, \"#f0f921\"]], \"type\": \"histogram2dcontour\"}], \"mesh3d\": [{\"colorbar\": {\"outlinewidth\": 0, \"ticks\": \"\"}, \"type\": \"mesh3d\"}], \"parcoords\": [{\"line\": {\"colorbar\": {\"outlinewidth\": 0, \"ticks\": \"\"}}, \"type\": \"parcoords\"}], \"pie\": [{\"automargin\": true, \"type\": \"pie\"}], \"scatter\": [{\"marker\": {\"colorbar\": {\"outlinewidth\": 0, \"ticks\": \"\"}}, \"type\": \"scatter\"}], \"scatter3d\": [{\"line\": {\"colorbar\": {\"outlinewidth\": 0, \"ticks\": \"\"}}, \"marker\": {\"colorbar\": {\"outlinewidth\": 0, \"ticks\": \"\"}}, \"type\": \"scatter3d\"}], \"scattercarpet\": [{\"marker\": {\"colorbar\": {\"outlinewidth\": 0, \"ticks\": \"\"}}, \"type\": \"scattercarpet\"}], \"scattergeo\": [{\"marker\": {\"colorbar\": {\"outlinewidth\": 0, \"ticks\": \"\"}}, \"type\": \"scattergeo\"}], \"scattergl\": [{\"marker\": {\"colorbar\": {\"outlinewidth\": 0, \"ticks\": \"\"}}, \"type\": \"scattergl\"}], \"scattermapbox\": [{\"marker\": {\"colorbar\": {\"outlinewidth\": 0, \"ticks\": \"\"}}, \"type\": \"scattermapbox\"}], \"scatterpolar\": [{\"marker\": {\"colorbar\": {\"outlinewidth\": 0, \"ticks\": \"\"}}, \"type\": \"scatterpolar\"}], \"scatterpolargl\": [{\"marker\": {\"colorbar\": {\"outlinewidth\": 0, \"ticks\": \"\"}}, \"type\": \"scatterpolargl\"}], \"scatterternary\": [{\"marker\": {\"colorbar\": {\"outlinewidth\": 0, \"ticks\": \"\"}}, \"type\": \"scatterternary\"}], \"surface\": [{\"colorbar\": {\"outlinewidth\": 0, \"ticks\": \"\"}, \"colorscale\": [[0.0, \"#0d0887\"], [0.1111111111111111, \"#46039f\"], [0.2222222222222222, \"#7201a8\"], [0.3333333333333333, \"#9c179e\"], [0.4444444444444444, \"#bd3786\"], [0.5555555555555556, \"#d8576b\"], [0.6666666666666666, \"#ed7953\"], [0.7777777777777778, \"#fb9f3a\"], [0.8888888888888888, \"#fdca26\"], [1.0, \"#f0f921\"]], \"type\": \"surface\"}], \"table\": [{\"cells\": {\"fill\": {\"color\": \"#EBF0F8\"}, \"line\": {\"color\": \"white\"}}, \"header\": {\"fill\": {\"color\": \"#C8D4E3\"}, \"line\": {\"color\": \"white\"}}, \"type\": \"table\"}]}, \"layout\": {\"annotationdefaults\": {\"arrowcolor\": \"#2a3f5f\", \"arrowhead\": 0, \"arrowwidth\": 1}, \"coloraxis\": {\"colorbar\": {\"outlinewidth\": 0, \"ticks\": \"\"}}, \"colorscale\": {\"diverging\": [[0, \"#8e0152\"], [0.1, \"#c51b7d\"], [0.2, \"#de77ae\"], [0.3, \"#f1b6da\"], [0.4, \"#fde0ef\"], [0.5, \"#f7f7f7\"], [0.6, \"#e6f5d0\"], [0.7, \"#b8e186\"], [0.8, \"#7fbc41\"], [0.9, \"#4d9221\"], [1, \"#276419\"]], \"sequential\": [[0.0, \"#0d0887\"], [0.1111111111111111, \"#46039f\"], [0.2222222222222222, \"#7201a8\"], [0.3333333333333333, \"#9c179e\"], [0.4444444444444444, \"#bd3786\"], [0.5555555555555556, \"#d8576b\"], [0.6666666666666666, \"#ed7953\"], [0.7777777777777778, \"#fb9f3a\"], [0.8888888888888888, \"#fdca26\"], [1.0, \"#f0f921\"]], \"sequentialminus\": [[0.0, \"#0d0887\"], [0.1111111111111111, \"#46039f\"], [0.2222222222222222, \"#7201a8\"], [0.3333333333333333, \"#9c179e\"], [0.4444444444444444, \"#bd3786\"], [0.5555555555555556, \"#d8576b\"], [0.6666666666666666, \"#ed7953\"], [0.7777777777777778, \"#fb9f3a\"], [0.8888888888888888, \"#fdca26\"], [1.0, \"#f0f921\"]]}, \"colorway\": [\"#636efa\", \"#EF553B\", \"#00cc96\", \"#ab63fa\", \"#FFA15A\", \"#19d3f3\", \"#FF6692\", \"#B6E880\", \"#FF97FF\", \"#FECB52\"], \"font\": {\"color\": \"#2a3f5f\"}, \"geo\": {\"bgcolor\": \"white\", \"lakecolor\": \"white\", \"landcolor\": \"#E5ECF6\", \"showlakes\": true, \"showland\": true, \"subunitcolor\": \"white\"}, \"hoverlabel\": {\"align\": \"left\"}, \"hovermode\": \"closest\", \"mapbox\": {\"style\": \"light\"}, \"paper_bgcolor\": \"white\", \"plot_bgcolor\": \"#E5ECF6\", \"polar\": {\"angularaxis\": {\"gridcolor\": \"white\", \"linecolor\": \"white\", \"ticks\": \"\"}, \"bgcolor\": \"#E5ECF6\", \"radialaxis\": {\"gridcolor\": \"white\", \"linecolor\": \"white\", \"ticks\": \"\"}}, \"scene\": {\"xaxis\": {\"backgroundcolor\": \"#E5ECF6\", \"gridcolor\": \"white\", \"gridwidth\": 2, \"linecolor\": \"white\", \"showbackground\": true, \"ticks\": \"\", \"zerolinecolor\": \"white\"}, \"yaxis\": {\"backgroundcolor\": \"#E5ECF6\", \"gridcolor\": \"white\", \"gridwidth\": 2, \"linecolor\": \"white\", \"showbackground\": true, \"ticks\": \"\", \"zerolinecolor\": \"white\"}, \"zaxis\": {\"backgroundcolor\": \"#E5ECF6\", \"gridcolor\": \"white\", \"gridwidth\": 2, \"linecolor\": \"white\", \"showbackground\": true, \"ticks\": \"\", \"zerolinecolor\": \"white\"}}, \"shapedefaults\": {\"line\": {\"color\": \"#2a3f5f\"}}, \"ternary\": {\"aaxis\": {\"gridcolor\": \"white\", \"linecolor\": \"white\", \"ticks\": \"\"}, \"baxis\": {\"gridcolor\": \"white\", \"linecolor\": \"white\", \"ticks\": \"\"}, \"bgcolor\": \"#E5ECF6\", \"caxis\": {\"gridcolor\": \"white\", \"linecolor\": \"white\", \"ticks\": \"\"}}, \"title\": {\"x\": 0.05}, \"xaxis\": {\"automargin\": true, \"gridcolor\": \"white\", \"linecolor\": \"white\", \"ticks\": \"\", \"title\": {\"standoff\": 15}, \"zerolinecolor\": \"white\", \"zerolinewidth\": 2}, \"yaxis\": {\"automargin\": true, \"gridcolor\": \"white\", \"linecolor\": \"white\", \"ticks\": \"\", \"title\": {\"standoff\": 15}, \"zerolinecolor\": \"white\", \"zerolinewidth\": 2}}}, \"title\": {\"font\": {\"color\": \"#4D5663\"}, \"text\": \"Power at generators when scenario_nr=1\"}, \"xaxis\": {\"gridcolor\": \"#E1E5ED\", \"showgrid\": true, \"tickfont\": {\"color\": \"#4D5663\"}, \"title\": {\"font\": {\"color\": \"#4D5663\"}, \"text\": \"Time\"}, \"zerolinecolor\": \"#E1E5ED\"}, \"yaxis\": {\"gridcolor\": \"#E1E5ED\", \"showgrid\": true, \"tickfont\": {\"color\": \"#4D5663\"}, \"title\": {\"font\": {\"color\": \"#4D5663\"}, \"text\": \"MW\"}, \"zerolinecolor\": \"#E1E5ED\"}},\n",
       "                        {\"showLink\": true, \"linkText\": \"Export to plot.ly\", \"plotlyServerURL\": \"https://plot.ly\", \"responsive\": true}\n",
       "                    ).then(function(){\n",
       "                            \n",
       "var gd = document.getElementById('6b8575e1-5574-4eff-b12a-a4707a3ce38b');\n",
       "var x = new MutationObserver(function (mutations, observer) {{\n",
       "        var display = window.getComputedStyle(gd).display;\n",
       "        if (!display || display === 'none') {{\n",
       "            console.log([gd, 'removed!']);\n",
       "            Plotly.purge(gd);\n",
       "            observer.disconnect();\n",
       "        }}\n",
       "}});\n",
       "\n",
       "// Listen for the removal of the full notebook cells\n",
       "var notebookContainer = gd.closest('#notebook-container');\n",
       "if (notebookContainer) {{\n",
       "    x.observe(notebookContainer, {childList: true});\n",
       "}}\n",
       "\n",
       "// Listen for the clearing of the current output cell\n",
       "var outputEl = gd.closest('.output');\n",
       "if (outputEl) {{\n",
       "    x.observe(outputEl, {childList: true});\n",
       "}}\n",
       "\n",
       "                        })\n",
       "                };\n",
       "                });\n",
       "            </script>\n",
       "        </div>"
      ]
     },
     "metadata": {},
     "output_type": "display_data"
    },
    {
     "data": {
      "application/javascript": [
       "\n",
       "            setTimeout(function() {\n",
       "                var nbb_cell_id = 51;\n",
       "                var nbb_unformatted_code = \"# power at generators\\n# choose sim_timestamp and scenario nr for which to plot power at generators\\nsim_timestamp = sim_timestamps[0]\\nscenario_nr = 1\\n\\n# all needed period timestamps: t0,t1,...\\ntimestamps = pd.date_range(\\n    start=sim_timestamp - pd.Timedelta(\\\"5min\\\"), periods=n_periods + 1, freq=\\\"5min\\\"\\n)\\n\\nplot_df = all_scenarios_df.loc[(sim_timestamp, 1)]\\nplot_df.loc[timestamps[0]] = grid.actuals.loc[timestamps[0]]\\nplot_df.sort_index(inplace=True)\\n\\n# plot_df.iplot()\\n# plot_df.iplot(xTitle=\\\"Time\\\", yTitle=\\\"MW\\\", title=\\\"scenario_nr={}\\\".format(scenario_nr), asImage=True,)\\nplot_df.iplot(\\n    xTitle=\\\"Time\\\",\\n    yTitle=\\\"MW\\\",\\n    title=\\\"Power at generators when scenario_nr={}\\\".format(scenario_nr),\\n)\";\n",
       "                var nbb_formatted_code = \"# power at generators\\n# choose sim_timestamp and scenario nr for which to plot power at generators\\nsim_timestamp = sim_timestamps[0]\\nscenario_nr = 1\\n\\n# all needed period timestamps: t0,t1,...\\ntimestamps = pd.date_range(\\n    start=sim_timestamp - pd.Timedelta(\\\"5min\\\"), periods=n_periods + 1, freq=\\\"5min\\\"\\n)\\n\\nplot_df = all_scenarios_df.loc[(sim_timestamp, 1)]\\nplot_df.loc[timestamps[0]] = grid.actuals.loc[timestamps[0]]\\nplot_df.sort_index(inplace=True)\\n\\n# plot_df.iplot()\\n# plot_df.iplot(xTitle=\\\"Time\\\", yTitle=\\\"MW\\\", title=\\\"scenario_nr={}\\\".format(scenario_nr), asImage=True,)\\nplot_df.iplot(\\n    xTitle=\\\"Time\\\",\\n    yTitle=\\\"MW\\\",\\n    title=\\\"Power at generators when scenario_nr={}\\\".format(scenario_nr),\\n)\";\n",
       "                var nbb_cells = Jupyter.notebook.get_cells();\n",
       "                for (var i = 0; i < nbb_cells.length; ++i) {\n",
       "                    if (nbb_cells[i].input_prompt_number == nbb_cell_id) {\n",
       "                        if (nbb_cells[i].get_text() == nbb_unformatted_code) {\n",
       "                             nbb_cells[i].set_text(nbb_formatted_code);\n",
       "                        }\n",
       "                        break;\n",
       "                    }\n",
       "                }\n",
       "            }, 500);\n",
       "            "
      ],
      "text/plain": [
       "<IPython.core.display.Javascript object>"
      ]
     },
     "metadata": {},
     "output_type": "display_data"
    }
   ],
   "source": [
    "# power at generators\n",
    "# choose sim_timestamp and scenario nr for which to plot power at generators\n",
    "sim_timestamp = sim_timestamps[0]\n",
    "scenario_nr = 1\n",
    "\n",
    "# all needed period timestamps: t0,t1,...\n",
    "timestamps = pd.date_range(\n",
    "    start=sim_timestamp - pd.Timedelta(\"5min\"), periods=n_periods + 1, freq=\"5min\"\n",
    ")\n",
    "\n",
    "plot_df = all_scenarios_df.loc[(sim_timestamp, 1)]\n",
    "plot_df.loc[timestamps[0]] = grid.actuals.loc[timestamps[0]]\n",
    "plot_df.sort_index(inplace=True)\n",
    "\n",
    "# plot_df.iplot()\n",
    "# plot_df.iplot(xTitle=\"Time\", yTitle=\"MW\", title=\"scenario_nr={}\".format(scenario_nr), asImage=True,)\n",
    "plot_df.iplot(\n",
    "    xTitle=\"Time\",\n",
    "    yTitle=\"MW\",\n",
    "    title=\"Power at generators when scenario_nr={}\".format(scenario_nr),\n",
    ")"
   ]
  },
  {
   "cell_type": "markdown",
   "metadata": {},
   "source": [
    "# Importance sampling weights\n",
    "\n",
    "$E_{f}\\left[y\\left(X\\right)\\right]=\\int y\\left(x\\right)f(x)dx=\\int y\\left(x\\right)\\frac{f(x)}{g(x)}g(x)dx=E_{g}\\left[y\\left(X\\right)\\frac{f(X)}{g(X)}\\right]$\n",
    "\n",
    "\n",
    "$E\\left[y\\left(X\\right)\\right]\\approx\\frac{1}{N_{s}}{\\displaystyle \\sum_{i=1}^{N_{s}}y\\left(X_{i}\\right)} \\;\\;\\; \\textrm{with} \\;\\; X_i \\; \\textrm{from} \\;\\;f$\n",
    "\n",
    "\n",
    "$E\\left[y\\left(X\\right)\\frac{f(X)}{g(X)}\\right]\\approx\\frac{1}{N_{s}}{\\displaystyle \\sum_{i=1}^{N_{s}}y\\left(X_{i}\\right)\\frac{f(X_i)}{g(X_i)}} \\;\\;\\; \\textrm{with} \\;\\; X_i \\; \\textrm{from} \\;\\;g$\n",
    "\n",
    "$\\frac{f(X_i)}{g(X_i)} = w_i \\;\\; \\textrm{are importance sampling weights} $"
   ]
  },
  {
   "cell_type": "markdown",
   "metadata": {},
   "source": [
    "# aggregate by bus (occasionally needed) "
   ]
  },
  {
   "cell_type": "code",
   "execution_count": 29,
   "metadata": {
    "scrolled": true
   },
   "outputs": [
    {
     "data": {
      "text/html": [
       "<div>\n",
       "<style scoped>\n",
       "    .dataframe tbody tr th:only-of-type {\n",
       "        vertical-align: middle;\n",
       "    }\n",
       "\n",
       "    .dataframe tbody tr th {\n",
       "        vertical-align: top;\n",
       "    }\n",
       "\n",
       "    .dataframe thead th {\n",
       "        text-align: right;\n",
       "    }\n",
       "</style>\n",
       "<table border=\"1\" class=\"dataframe\">\n",
       "  <thead>\n",
       "    <tr style=\"text-align: right;\">\n",
       "      <th></th>\n",
       "      <th>104</th>\n",
       "      <th>105</th>\n",
       "      <th>114</th>\n",
       "      <th>115</th>\n",
       "      <th>147</th>\n",
       "      <th>65</th>\n",
       "    </tr>\n",
       "    <tr>\n",
       "      <th>sim_timestamp</th>\n",
       "      <th></th>\n",
       "      <th></th>\n",
       "      <th></th>\n",
       "      <th></th>\n",
       "      <th></th>\n",
       "      <th></th>\n",
       "    </tr>\n",
       "  </thead>\n",
       "  <tbody>\n",
       "    <tr>\n",
       "      <th>2020-07-01 00:15:00+00:00</th>\n",
       "      <td>9.109061</td>\n",
       "      <td>27.283630</td>\n",
       "      <td>1.201169</td>\n",
       "      <td>17.069507</td>\n",
       "      <td>14.975642</td>\n",
       "      <td>31.596573</td>\n",
       "    </tr>\n",
       "    <tr>\n",
       "      <th>2020-07-01 00:20:00+00:00</th>\n",
       "      <td>8.061524</td>\n",
       "      <td>26.206658</td>\n",
       "      <td>1.294306</td>\n",
       "      <td>18.649613</td>\n",
       "      <td>21.055102</td>\n",
       "      <td>29.312569</td>\n",
       "    </tr>\n",
       "  </tbody>\n",
       "</table>\n",
       "</div>"
      ],
      "text/plain": [
       "                                104        105       114        115  \\\n",
       "sim_timestamp                                                         \n",
       "2020-07-01 00:15:00+00:00  9.109061  27.283630  1.201169  17.069507   \n",
       "2020-07-01 00:20:00+00:00  8.061524  26.206658  1.294306  18.649613   \n",
       "\n",
       "                                 147         65  \n",
       "sim_timestamp                                    \n",
       "2020-07-01 00:15:00+00:00  14.975642  31.596573  \n",
       "2020-07-01 00:20:00+00:00  21.055102  29.312569  "
      ]
     },
     "execution_count": 29,
     "metadata": {},
     "output_type": "execute_result"
    },
    {
     "data": {
      "text/html": [
       "<div>\n",
       "<style scoped>\n",
       "    .dataframe tbody tr th:only-of-type {\n",
       "        vertical-align: middle;\n",
       "    }\n",
       "\n",
       "    .dataframe tbody tr th {\n",
       "        vertical-align: top;\n",
       "    }\n",
       "\n",
       "    .dataframe thead th {\n",
       "        text-align: right;\n",
       "    }\n",
       "</style>\n",
       "<table border=\"1\" class=\"dataframe\">\n",
       "  <thead>\n",
       "    <tr style=\"text-align: right;\">\n",
       "      <th></th>\n",
       "      <th></th>\n",
       "      <th></th>\n",
       "      <th>104</th>\n",
       "      <th>105</th>\n",
       "      <th>114</th>\n",
       "      <th>115</th>\n",
       "      <th>147</th>\n",
       "      <th>65</th>\n",
       "    </tr>\n",
       "    <tr>\n",
       "      <th>sim_timestamp</th>\n",
       "      <th>scenario_nr</th>\n",
       "      <th>period_timestamp</th>\n",
       "      <th></th>\n",
       "      <th></th>\n",
       "      <th></th>\n",
       "      <th></th>\n",
       "      <th></th>\n",
       "      <th></th>\n",
       "    </tr>\n",
       "  </thead>\n",
       "  <tbody>\n",
       "    <tr>\n",
       "      <th rowspan=\"6\" valign=\"top\">2020-07-01 00:15:00+00:00</th>\n",
       "      <th rowspan=\"2\" valign=\"top\">1</th>\n",
       "      <th>2020-07-01 00:15:00+00:00</th>\n",
       "      <td>10.695160</td>\n",
       "      <td>26.922283</td>\n",
       "      <td>1.229734</td>\n",
       "      <td>15.340562</td>\n",
       "      <td>13.113439</td>\n",
       "      <td>31.164322</td>\n",
       "    </tr>\n",
       "    <tr>\n",
       "      <th>2020-07-01 00:20:00+00:00</th>\n",
       "      <td>10.578373</td>\n",
       "      <td>26.721285</td>\n",
       "      <td>1.229734</td>\n",
       "      <td>15.651463</td>\n",
       "      <td>12.922242</td>\n",
       "      <td>30.754297</td>\n",
       "    </tr>\n",
       "    <tr>\n",
       "      <th rowspan=\"2\" valign=\"top\">2</th>\n",
       "      <th>2020-07-01 00:15:00+00:00</th>\n",
       "      <td>10.366320</td>\n",
       "      <td>26.364867</td>\n",
       "      <td>1.229734</td>\n",
       "      <td>14.954336</td>\n",
       "      <td>12.983662</td>\n",
       "      <td>39.341528</td>\n",
       "    </tr>\n",
       "    <tr>\n",
       "      <th>2020-07-01 00:20:00+00:00</th>\n",
       "      <td>10.366320</td>\n",
       "      <td>26.364867</td>\n",
       "      <td>1.229734</td>\n",
       "      <td>14.954336</td>\n",
       "      <td>12.983662</td>\n",
       "      <td>52.694430</td>\n",
       "    </tr>\n",
       "    <tr>\n",
       "      <th rowspan=\"2\" valign=\"top\">3</th>\n",
       "      <th>2020-07-01 00:15:00+00:00</th>\n",
       "      <td>10.119271</td>\n",
       "      <td>25.338056</td>\n",
       "      <td>1.229734</td>\n",
       "      <td>13.296792</td>\n",
       "      <td>11.990472</td>\n",
       "      <td>23.054177</td>\n",
       "    </tr>\n",
       "    <tr>\n",
       "      <th>2020-07-01 00:20:00+00:00</th>\n",
       "      <td>10.942765</td>\n",
       "      <td>26.126871</td>\n",
       "      <td>1.229734</td>\n",
       "      <td>11.247424</td>\n",
       "      <td>10.749299</td>\n",
       "      <td>24.015596</td>\n",
       "    </tr>\n",
       "    <tr>\n",
       "      <th rowspan=\"6\" valign=\"top\">2020-07-01 00:20:00+00:00</th>\n",
       "      <th rowspan=\"2\" valign=\"top\">1</th>\n",
       "      <th>2020-07-01 00:20:00+00:00</th>\n",
       "      <td>11.245254</td>\n",
       "      <td>31.070699</td>\n",
       "      <td>1.201169</td>\n",
       "      <td>12.660302</td>\n",
       "      <td>21.754029</td>\n",
       "      <td>30.968426</td>\n",
       "    </tr>\n",
       "    <tr>\n",
       "      <th>2020-07-01 00:25:00+00:00</th>\n",
       "      <td>9.608326</td>\n",
       "      <td>29.417013</td>\n",
       "      <td>1.201169</td>\n",
       "      <td>7.768550</td>\n",
       "      <td>24.442175</td>\n",
       "      <td>30.879339</td>\n",
       "    </tr>\n",
       "    <tr>\n",
       "      <th rowspan=\"2\" valign=\"top\">2</th>\n",
       "      <th>2020-07-01 00:20:00+00:00</th>\n",
       "      <td>7.854863</td>\n",
       "      <td>28.110528</td>\n",
       "      <td>1.201169</td>\n",
       "      <td>17.580989</td>\n",
       "      <td>13.862096</td>\n",
       "      <td>27.436331</td>\n",
       "    </tr>\n",
       "    <tr>\n",
       "      <th>2020-07-01 00:25:00+00:00</th>\n",
       "      <td>8.658661</td>\n",
       "      <td>29.709680</td>\n",
       "      <td>1.201169</td>\n",
       "      <td>20.628202</td>\n",
       "      <td>7.141467</td>\n",
       "      <td>25.681523</td>\n",
       "    </tr>\n",
       "    <tr>\n",
       "      <th rowspan=\"2\" valign=\"top\">3</th>\n",
       "      <th>2020-07-01 00:20:00+00:00</th>\n",
       "      <td>7.813316</td>\n",
       "      <td>26.276222</td>\n",
       "      <td>1.201169</td>\n",
       "      <td>17.440131</td>\n",
       "      <td>16.297133</td>\n",
       "      <td>32.044342</td>\n",
       "    </tr>\n",
       "    <tr>\n",
       "      <th>2020-07-01 00:25:00+00:00</th>\n",
       "      <td>6.857720</td>\n",
       "      <td>25.504957</td>\n",
       "      <td>1.201169</td>\n",
       "      <td>17.962229</td>\n",
       "      <td>17.431545</td>\n",
       "      <td>32.271654</td>\n",
       "    </tr>\n",
       "  </tbody>\n",
       "</table>\n",
       "</div>"
      ],
      "text/plain": [
       "                                                                       104  \\\n",
       "sim_timestamp             scenario_nr period_timestamp                       \n",
       "2020-07-01 00:15:00+00:00 1           2020-07-01 00:15:00+00:00  10.695160   \n",
       "                                      2020-07-01 00:20:00+00:00  10.578373   \n",
       "                          2           2020-07-01 00:15:00+00:00  10.366320   \n",
       "                                      2020-07-01 00:20:00+00:00  10.366320   \n",
       "                          3           2020-07-01 00:15:00+00:00  10.119271   \n",
       "                                      2020-07-01 00:20:00+00:00  10.942765   \n",
       "2020-07-01 00:20:00+00:00 1           2020-07-01 00:20:00+00:00  11.245254   \n",
       "                                      2020-07-01 00:25:00+00:00   9.608326   \n",
       "                          2           2020-07-01 00:20:00+00:00   7.854863   \n",
       "                                      2020-07-01 00:25:00+00:00   8.658661   \n",
       "                          3           2020-07-01 00:20:00+00:00   7.813316   \n",
       "                                      2020-07-01 00:25:00+00:00   6.857720   \n",
       "\n",
       "                                                                       105  \\\n",
       "sim_timestamp             scenario_nr period_timestamp                       \n",
       "2020-07-01 00:15:00+00:00 1           2020-07-01 00:15:00+00:00  26.922283   \n",
       "                                      2020-07-01 00:20:00+00:00  26.721285   \n",
       "                          2           2020-07-01 00:15:00+00:00  26.364867   \n",
       "                                      2020-07-01 00:20:00+00:00  26.364867   \n",
       "                          3           2020-07-01 00:15:00+00:00  25.338056   \n",
       "                                      2020-07-01 00:20:00+00:00  26.126871   \n",
       "2020-07-01 00:20:00+00:00 1           2020-07-01 00:20:00+00:00  31.070699   \n",
       "                                      2020-07-01 00:25:00+00:00  29.417013   \n",
       "                          2           2020-07-01 00:20:00+00:00  28.110528   \n",
       "                                      2020-07-01 00:25:00+00:00  29.709680   \n",
       "                          3           2020-07-01 00:20:00+00:00  26.276222   \n",
       "                                      2020-07-01 00:25:00+00:00  25.504957   \n",
       "\n",
       "                                                                      114  \\\n",
       "sim_timestamp             scenario_nr period_timestamp                      \n",
       "2020-07-01 00:15:00+00:00 1           2020-07-01 00:15:00+00:00  1.229734   \n",
       "                                      2020-07-01 00:20:00+00:00  1.229734   \n",
       "                          2           2020-07-01 00:15:00+00:00  1.229734   \n",
       "                                      2020-07-01 00:20:00+00:00  1.229734   \n",
       "                          3           2020-07-01 00:15:00+00:00  1.229734   \n",
       "                                      2020-07-01 00:20:00+00:00  1.229734   \n",
       "2020-07-01 00:20:00+00:00 1           2020-07-01 00:20:00+00:00  1.201169   \n",
       "                                      2020-07-01 00:25:00+00:00  1.201169   \n",
       "                          2           2020-07-01 00:20:00+00:00  1.201169   \n",
       "                                      2020-07-01 00:25:00+00:00  1.201169   \n",
       "                          3           2020-07-01 00:20:00+00:00  1.201169   \n",
       "                                      2020-07-01 00:25:00+00:00  1.201169   \n",
       "\n",
       "                                                                       115  \\\n",
       "sim_timestamp             scenario_nr period_timestamp                       \n",
       "2020-07-01 00:15:00+00:00 1           2020-07-01 00:15:00+00:00  15.340562   \n",
       "                                      2020-07-01 00:20:00+00:00  15.651463   \n",
       "                          2           2020-07-01 00:15:00+00:00  14.954336   \n",
       "                                      2020-07-01 00:20:00+00:00  14.954336   \n",
       "                          3           2020-07-01 00:15:00+00:00  13.296792   \n",
       "                                      2020-07-01 00:20:00+00:00  11.247424   \n",
       "2020-07-01 00:20:00+00:00 1           2020-07-01 00:20:00+00:00  12.660302   \n",
       "                                      2020-07-01 00:25:00+00:00   7.768550   \n",
       "                          2           2020-07-01 00:20:00+00:00  17.580989   \n",
       "                                      2020-07-01 00:25:00+00:00  20.628202   \n",
       "                          3           2020-07-01 00:20:00+00:00  17.440131   \n",
       "                                      2020-07-01 00:25:00+00:00  17.962229   \n",
       "\n",
       "                                                                       147  \\\n",
       "sim_timestamp             scenario_nr period_timestamp                       \n",
       "2020-07-01 00:15:00+00:00 1           2020-07-01 00:15:00+00:00  13.113439   \n",
       "                                      2020-07-01 00:20:00+00:00  12.922242   \n",
       "                          2           2020-07-01 00:15:00+00:00  12.983662   \n",
       "                                      2020-07-01 00:20:00+00:00  12.983662   \n",
       "                          3           2020-07-01 00:15:00+00:00  11.990472   \n",
       "                                      2020-07-01 00:20:00+00:00  10.749299   \n",
       "2020-07-01 00:20:00+00:00 1           2020-07-01 00:20:00+00:00  21.754029   \n",
       "                                      2020-07-01 00:25:00+00:00  24.442175   \n",
       "                          2           2020-07-01 00:20:00+00:00  13.862096   \n",
       "                                      2020-07-01 00:25:00+00:00   7.141467   \n",
       "                          3           2020-07-01 00:20:00+00:00  16.297133   \n",
       "                                      2020-07-01 00:25:00+00:00  17.431545   \n",
       "\n",
       "                                                                        65  \n",
       "sim_timestamp             scenario_nr period_timestamp                      \n",
       "2020-07-01 00:15:00+00:00 1           2020-07-01 00:15:00+00:00  31.164322  \n",
       "                                      2020-07-01 00:20:00+00:00  30.754297  \n",
       "                          2           2020-07-01 00:15:00+00:00  39.341528  \n",
       "                                      2020-07-01 00:20:00+00:00  52.694430  \n",
       "                          3           2020-07-01 00:15:00+00:00  23.054177  \n",
       "                                      2020-07-01 00:20:00+00:00  24.015596  \n",
       "2020-07-01 00:20:00+00:00 1           2020-07-01 00:20:00+00:00  30.968426  \n",
       "                                      2020-07-01 00:25:00+00:00  30.879339  \n",
       "                          2           2020-07-01 00:20:00+00:00  27.436331  \n",
       "                                      2020-07-01 00:25:00+00:00  25.681523  \n",
       "                          3           2020-07-01 00:20:00+00:00  32.044342  \n",
       "                                      2020-07-01 00:25:00+00:00  32.271654  "
      ]
     },
     "execution_count": 29,
     "metadata": {},
     "output_type": "execute_result"
    },
    {
     "data": {
      "application/javascript": [
       "\n",
       "            setTimeout(function() {\n",
       "                var nbb_cell_id = 29;\n",
       "                var nbb_unformatted_code = \"all_actuals_df = all_actuals_df.groupby(lambda x: x.split(\\\"_\\\")[0], axis=1).sum()\\nall_scenarios_df = all_scenarios_df.groupby(lambda x: x.split(\\\"_\\\")[0], axis=1).sum()\\nall_actuals_df\\nall_scenarios_df\";\n",
       "                var nbb_formatted_code = \"all_actuals_df = all_actuals_df.groupby(lambda x: x.split(\\\"_\\\")[0], axis=1).sum()\\nall_scenarios_df = all_scenarios_df.groupby(lambda x: x.split(\\\"_\\\")[0], axis=1).sum()\\nall_actuals_df\\nall_scenarios_df\";\n",
       "                var nbb_cells = Jupyter.notebook.get_cells();\n",
       "                for (var i = 0; i < nbb_cells.length; ++i) {\n",
       "                    if (nbb_cells[i].input_prompt_number == nbb_cell_id) {\n",
       "                        if (nbb_cells[i].get_text() == nbb_unformatted_code) {\n",
       "                             nbb_cells[i].set_text(nbb_formatted_code);\n",
       "                        }\n",
       "                        break;\n",
       "                    }\n",
       "                }\n",
       "            }, 500);\n",
       "            "
      ],
      "text/plain": [
       "<IPython.core.display.Javascript object>"
      ]
     },
     "metadata": {},
     "output_type": "display_data"
    }
   ],
   "source": [
    "all_actuals_df = all_actuals_df.groupby(lambda x: x.split(\"_\")[0], axis=1).sum()\n",
    "all_scenarios_df = all_scenarios_df.groupby(lambda x: x.split(\"_\")[0], axis=1).sum()\n",
    "all_actuals_df\n",
    "all_scenarios_df"
   ]
  },
  {
   "cell_type": "markdown",
   "metadata": {},
   "source": [
    "# drop tz  (occasionally needed)"
   ]
  },
  {
   "cell_type": "code",
   "execution_count": 30,
   "metadata": {
    "scrolled": true
   },
   "outputs": [
    {
     "data": {
      "text/html": [
       "<div>\n",
       "<style scoped>\n",
       "    .dataframe tbody tr th:only-of-type {\n",
       "        vertical-align: middle;\n",
       "    }\n",
       "\n",
       "    .dataframe tbody tr th {\n",
       "        vertical-align: top;\n",
       "    }\n",
       "\n",
       "    .dataframe thead th {\n",
       "        text-align: right;\n",
       "    }\n",
       "</style>\n",
       "<table border=\"1\" class=\"dataframe\">\n",
       "  <thead>\n",
       "    <tr style=\"text-align: right;\">\n",
       "      <th></th>\n",
       "      <th>104</th>\n",
       "      <th>105</th>\n",
       "      <th>114</th>\n",
       "      <th>115</th>\n",
       "      <th>147</th>\n",
       "      <th>65</th>\n",
       "    </tr>\n",
       "    <tr>\n",
       "      <th>sim_timestamp</th>\n",
       "      <th></th>\n",
       "      <th></th>\n",
       "      <th></th>\n",
       "      <th></th>\n",
       "      <th></th>\n",
       "      <th></th>\n",
       "    </tr>\n",
       "  </thead>\n",
       "  <tbody>\n",
       "    <tr>\n",
       "      <th>2020-07-01 00:15:00</th>\n",
       "      <td>9.109061</td>\n",
       "      <td>27.283630</td>\n",
       "      <td>1.201169</td>\n",
       "      <td>17.069507</td>\n",
       "      <td>14.975642</td>\n",
       "      <td>31.596573</td>\n",
       "    </tr>\n",
       "    <tr>\n",
       "      <th>2020-07-01 00:20:00</th>\n",
       "      <td>8.061524</td>\n",
       "      <td>26.206658</td>\n",
       "      <td>1.294306</td>\n",
       "      <td>18.649613</td>\n",
       "      <td>21.055102</td>\n",
       "      <td>29.312569</td>\n",
       "    </tr>\n",
       "  </tbody>\n",
       "</table>\n",
       "</div>"
      ],
      "text/plain": [
       "                          104        105       114        115        147  \\\n",
       "sim_timestamp                                                              \n",
       "2020-07-01 00:15:00  9.109061  27.283630  1.201169  17.069507  14.975642   \n",
       "2020-07-01 00:20:00  8.061524  26.206658  1.294306  18.649613  21.055102   \n",
       "\n",
       "                            65  \n",
       "sim_timestamp                   \n",
       "2020-07-01 00:15:00  31.596573  \n",
       "2020-07-01 00:20:00  29.312569  "
      ]
     },
     "execution_count": 30,
     "metadata": {},
     "output_type": "execute_result"
    },
    {
     "data": {
      "text/html": [
       "<div>\n",
       "<style scoped>\n",
       "    .dataframe tbody tr th:only-of-type {\n",
       "        vertical-align: middle;\n",
       "    }\n",
       "\n",
       "    .dataframe tbody tr th {\n",
       "        vertical-align: top;\n",
       "    }\n",
       "\n",
       "    .dataframe thead th {\n",
       "        text-align: right;\n",
       "    }\n",
       "</style>\n",
       "<table border=\"1\" class=\"dataframe\">\n",
       "  <thead>\n",
       "    <tr style=\"text-align: right;\">\n",
       "      <th></th>\n",
       "      <th></th>\n",
       "      <th></th>\n",
       "      <th>104</th>\n",
       "      <th>105</th>\n",
       "      <th>114</th>\n",
       "      <th>115</th>\n",
       "      <th>147</th>\n",
       "      <th>65</th>\n",
       "    </tr>\n",
       "    <tr>\n",
       "      <th>sim_timestamp</th>\n",
       "      <th>scenario_nr</th>\n",
       "      <th>period_timestamp</th>\n",
       "      <th></th>\n",
       "      <th></th>\n",
       "      <th></th>\n",
       "      <th></th>\n",
       "      <th></th>\n",
       "      <th></th>\n",
       "    </tr>\n",
       "  </thead>\n",
       "  <tbody>\n",
       "    <tr>\n",
       "      <th rowspan=\"6\" valign=\"top\">2020-07-01 00:15:00</th>\n",
       "      <th rowspan=\"2\" valign=\"top\">1</th>\n",
       "      <th>2020-07-01 00:15:00</th>\n",
       "      <td>10.695160</td>\n",
       "      <td>26.922283</td>\n",
       "      <td>1.229734</td>\n",
       "      <td>15.340562</td>\n",
       "      <td>13.113439</td>\n",
       "      <td>31.164322</td>\n",
       "    </tr>\n",
       "    <tr>\n",
       "      <th>2020-07-01 00:20:00</th>\n",
       "      <td>10.578373</td>\n",
       "      <td>26.721285</td>\n",
       "      <td>1.229734</td>\n",
       "      <td>15.651463</td>\n",
       "      <td>12.922242</td>\n",
       "      <td>30.754297</td>\n",
       "    </tr>\n",
       "    <tr>\n",
       "      <th rowspan=\"2\" valign=\"top\">2</th>\n",
       "      <th>2020-07-01 00:15:00</th>\n",
       "      <td>10.366320</td>\n",
       "      <td>26.364867</td>\n",
       "      <td>1.229734</td>\n",
       "      <td>14.954336</td>\n",
       "      <td>12.983662</td>\n",
       "      <td>39.341528</td>\n",
       "    </tr>\n",
       "    <tr>\n",
       "      <th>2020-07-01 00:20:00</th>\n",
       "      <td>10.366320</td>\n",
       "      <td>26.364867</td>\n",
       "      <td>1.229734</td>\n",
       "      <td>14.954336</td>\n",
       "      <td>12.983662</td>\n",
       "      <td>52.694430</td>\n",
       "    </tr>\n",
       "    <tr>\n",
       "      <th rowspan=\"2\" valign=\"top\">3</th>\n",
       "      <th>2020-07-01 00:15:00</th>\n",
       "      <td>10.119271</td>\n",
       "      <td>25.338056</td>\n",
       "      <td>1.229734</td>\n",
       "      <td>13.296792</td>\n",
       "      <td>11.990472</td>\n",
       "      <td>23.054177</td>\n",
       "    </tr>\n",
       "    <tr>\n",
       "      <th>2020-07-01 00:20:00</th>\n",
       "      <td>10.942765</td>\n",
       "      <td>26.126871</td>\n",
       "      <td>1.229734</td>\n",
       "      <td>11.247424</td>\n",
       "      <td>10.749299</td>\n",
       "      <td>24.015596</td>\n",
       "    </tr>\n",
       "    <tr>\n",
       "      <th rowspan=\"6\" valign=\"top\">2020-07-01 00:20:00</th>\n",
       "      <th rowspan=\"2\" valign=\"top\">1</th>\n",
       "      <th>2020-07-01 00:20:00</th>\n",
       "      <td>11.245254</td>\n",
       "      <td>31.070699</td>\n",
       "      <td>1.201169</td>\n",
       "      <td>12.660302</td>\n",
       "      <td>21.754029</td>\n",
       "      <td>30.968426</td>\n",
       "    </tr>\n",
       "    <tr>\n",
       "      <th>2020-07-01 00:25:00</th>\n",
       "      <td>9.608326</td>\n",
       "      <td>29.417013</td>\n",
       "      <td>1.201169</td>\n",
       "      <td>7.768550</td>\n",
       "      <td>24.442175</td>\n",
       "      <td>30.879339</td>\n",
       "    </tr>\n",
       "    <tr>\n",
       "      <th rowspan=\"2\" valign=\"top\">2</th>\n",
       "      <th>2020-07-01 00:20:00</th>\n",
       "      <td>7.854863</td>\n",
       "      <td>28.110528</td>\n",
       "      <td>1.201169</td>\n",
       "      <td>17.580989</td>\n",
       "      <td>13.862096</td>\n",
       "      <td>27.436331</td>\n",
       "    </tr>\n",
       "    <tr>\n",
       "      <th>2020-07-01 00:25:00</th>\n",
       "      <td>8.658661</td>\n",
       "      <td>29.709680</td>\n",
       "      <td>1.201169</td>\n",
       "      <td>20.628202</td>\n",
       "      <td>7.141467</td>\n",
       "      <td>25.681523</td>\n",
       "    </tr>\n",
       "    <tr>\n",
       "      <th rowspan=\"2\" valign=\"top\">3</th>\n",
       "      <th>2020-07-01 00:20:00</th>\n",
       "      <td>7.813316</td>\n",
       "      <td>26.276222</td>\n",
       "      <td>1.201169</td>\n",
       "      <td>17.440131</td>\n",
       "      <td>16.297133</td>\n",
       "      <td>32.044342</td>\n",
       "    </tr>\n",
       "    <tr>\n",
       "      <th>2020-07-01 00:25:00</th>\n",
       "      <td>6.857720</td>\n",
       "      <td>25.504957</td>\n",
       "      <td>1.201169</td>\n",
       "      <td>17.962229</td>\n",
       "      <td>17.431545</td>\n",
       "      <td>32.271654</td>\n",
       "    </tr>\n",
       "  </tbody>\n",
       "</table>\n",
       "</div>"
      ],
      "text/plain": [
       "                                                           104        105  \\\n",
       "sim_timestamp       scenario_nr period_timestamp                            \n",
       "2020-07-01 00:15:00 1           2020-07-01 00:15:00  10.695160  26.922283   \n",
       "                                2020-07-01 00:20:00  10.578373  26.721285   \n",
       "                    2           2020-07-01 00:15:00  10.366320  26.364867   \n",
       "                                2020-07-01 00:20:00  10.366320  26.364867   \n",
       "                    3           2020-07-01 00:15:00  10.119271  25.338056   \n",
       "                                2020-07-01 00:20:00  10.942765  26.126871   \n",
       "2020-07-01 00:20:00 1           2020-07-01 00:20:00  11.245254  31.070699   \n",
       "                                2020-07-01 00:25:00   9.608326  29.417013   \n",
       "                    2           2020-07-01 00:20:00   7.854863  28.110528   \n",
       "                                2020-07-01 00:25:00   8.658661  29.709680   \n",
       "                    3           2020-07-01 00:20:00   7.813316  26.276222   \n",
       "                                2020-07-01 00:25:00   6.857720  25.504957   \n",
       "\n",
       "                                                          114        115  \\\n",
       "sim_timestamp       scenario_nr period_timestamp                           \n",
       "2020-07-01 00:15:00 1           2020-07-01 00:15:00  1.229734  15.340562   \n",
       "                                2020-07-01 00:20:00  1.229734  15.651463   \n",
       "                    2           2020-07-01 00:15:00  1.229734  14.954336   \n",
       "                                2020-07-01 00:20:00  1.229734  14.954336   \n",
       "                    3           2020-07-01 00:15:00  1.229734  13.296792   \n",
       "                                2020-07-01 00:20:00  1.229734  11.247424   \n",
       "2020-07-01 00:20:00 1           2020-07-01 00:20:00  1.201169  12.660302   \n",
       "                                2020-07-01 00:25:00  1.201169   7.768550   \n",
       "                    2           2020-07-01 00:20:00  1.201169  17.580989   \n",
       "                                2020-07-01 00:25:00  1.201169  20.628202   \n",
       "                    3           2020-07-01 00:20:00  1.201169  17.440131   \n",
       "                                2020-07-01 00:25:00  1.201169  17.962229   \n",
       "\n",
       "                                                           147         65  \n",
       "sim_timestamp       scenario_nr period_timestamp                           \n",
       "2020-07-01 00:15:00 1           2020-07-01 00:15:00  13.113439  31.164322  \n",
       "                                2020-07-01 00:20:00  12.922242  30.754297  \n",
       "                    2           2020-07-01 00:15:00  12.983662  39.341528  \n",
       "                                2020-07-01 00:20:00  12.983662  52.694430  \n",
       "                    3           2020-07-01 00:15:00  11.990472  23.054177  \n",
       "                                2020-07-01 00:20:00  10.749299  24.015596  \n",
       "2020-07-01 00:20:00 1           2020-07-01 00:20:00  21.754029  30.968426  \n",
       "                                2020-07-01 00:25:00  24.442175  30.879339  \n",
       "                    2           2020-07-01 00:20:00  13.862096  27.436331  \n",
       "                                2020-07-01 00:25:00   7.141467  25.681523  \n",
       "                    3           2020-07-01 00:20:00  16.297133  32.044342  \n",
       "                                2020-07-01 00:25:00  17.431545  32.271654  "
      ]
     },
     "execution_count": 30,
     "metadata": {},
     "output_type": "execute_result"
    },
    {
     "data": {
      "application/javascript": [
       "\n",
       "            setTimeout(function() {\n",
       "                var nbb_cell_id = 30;\n",
       "                var nbb_unformatted_code = \"# drop tz from actuals\\nall_actuals_df.index = all_actuals_df.index.map(lambda t: t.replace(tzinfo=None))\\n\\n# drop tz from scenarios\\nall_scenarios_df.index=all_scenarios_df.index.map(\\n    lambda t: (t[0].replace(tzinfo=None), t[1], t[2].replace(tzinfo=None))\\n)\\n\\nall_actuals_df\\nall_scenarios_df\";\n",
       "                var nbb_formatted_code = \"# drop tz from actuals\\nall_actuals_df.index = all_actuals_df.index.map(lambda t: t.replace(tzinfo=None))\\n\\n# drop tz from scenarios\\nall_scenarios_df.index = all_scenarios_df.index.map(\\n    lambda t: (t[0].replace(tzinfo=None), t[1], t[2].replace(tzinfo=None))\\n)\\n\\nall_actuals_df\\nall_scenarios_df\";\n",
       "                var nbb_cells = Jupyter.notebook.get_cells();\n",
       "                for (var i = 0; i < nbb_cells.length; ++i) {\n",
       "                    if (nbb_cells[i].input_prompt_number == nbb_cell_id) {\n",
       "                        if (nbb_cells[i].get_text() == nbb_unformatted_code) {\n",
       "                             nbb_cells[i].set_text(nbb_formatted_code);\n",
       "                        }\n",
       "                        break;\n",
       "                    }\n",
       "                }\n",
       "            }, 500);\n",
       "            "
      ],
      "text/plain": [
       "<IPython.core.display.Javascript object>"
      ]
     },
     "metadata": {},
     "output_type": "display_data"
    }
   ],
   "source": [
    "# drop tz from actuals\n",
    "all_actuals_df.index = all_actuals_df.index.map(lambda t: t.replace(tzinfo=None))\n",
    "\n",
    "# drop tz from scenarios\n",
    "all_scenarios_df.index=all_scenarios_df.index.map(\n",
    "    lambda t: (t[0].replace(tzinfo=None), t[1], t[2].replace(tzinfo=None))\n",
    ")\n",
    "\n",
    "all_actuals_df\n",
    "all_scenarios_df\n",
    "\n"
   ]
  },
  {
   "cell_type": "markdown",
   "metadata": {},
   "source": [
    "# save as .csv"
   ]
  },
  {
   "cell_type": "code",
   "execution_count": 16,
   "metadata": {
    "scrolled": false
   },
   "outputs": [
    {
     "name": "stdout",
     "output_type": "stream",
     "text": [
      "\n",
      "saving all_scenarios_df to ./scenarios.csv\n"
     ]
    },
    {
     "data": {
      "text/html": [
       "<div>\n",
       "<style scoped>\n",
       "    .dataframe tbody tr th:only-of-type {\n",
       "        vertical-align: middle;\n",
       "    }\n",
       "\n",
       "    .dataframe tbody tr th {\n",
       "        vertical-align: top;\n",
       "    }\n",
       "\n",
       "    .dataframe thead th {\n",
       "        text-align: right;\n",
       "    }\n",
       "</style>\n",
       "<table border=\"1\" class=\"dataframe\">\n",
       "  <thead>\n",
       "    <tr style=\"text-align: right;\">\n",
       "      <th></th>\n",
       "      <th></th>\n",
       "      <th>GenUID</th>\n",
       "      <th>320_PV_1</th>\n",
       "      <th>314_PV_1</th>\n",
       "      <th>314_PV_2</th>\n",
       "      <th>313_PV_1</th>\n",
       "      <th>314_PV_3</th>\n",
       "      <th>314_PV_4</th>\n",
       "      <th>313_PV_2</th>\n",
       "      <th>310_PV_1</th>\n",
       "      <th>324_PV_1</th>\n",
       "      <th>312_PV_1</th>\n",
       "      <th>310_PV_2</th>\n",
       "      <th>324_PV_2</th>\n",
       "      <th>324_PV_3</th>\n",
       "      <th>113_PV_1</th>\n",
       "      <th>319_PV_1</th>\n",
       "      <th>215_PV_1</th>\n",
       "      <th>102_PV_1</th>\n",
       "      <th>101_PV_1</th>\n",
       "      <th>102_PV_2</th>\n",
       "      <th>104_PV_1</th>\n",
       "      <th>212_CSP_1</th>\n",
       "      <th>101_PV_2</th>\n",
       "      <th>101_PV_3</th>\n",
       "      <th>101_PV_4</th>\n",
       "      <th>103_PV_1</th>\n",
       "      <th>119_PV_1</th>\n",
       "      <th>308_RTPV_1</th>\n",
       "      <th>313_RTPV_1</th>\n",
       "      <th>313_RTPV_2</th>\n",
       "      <th>313_RTPV_3</th>\n",
       "      <th>313_RTPV_4</th>\n",
       "      <th>313_RTPV_5</th>\n",
       "      <th>313_RTPV_6</th>\n",
       "      <th>313_RTPV_7</th>\n",
       "      <th>313_RTPV_8</th>\n",
       "      <th>313_RTPV_9</th>\n",
       "      <th>313_RTPV_10</th>\n",
       "      <th>313_RTPV_11</th>\n",
       "      <th>313_RTPV_12</th>\n",
       "      <th>320_RTPV_1</th>\n",
       "      <th>320_RTPV_2</th>\n",
       "      <th>320_RTPV_3</th>\n",
       "      <th>313_RTPV_13</th>\n",
       "      <th>320_RTPV_4</th>\n",
       "      <th>320_RTPV_5</th>\n",
       "      <th>118_RTPV_1</th>\n",
       "      <th>118_RTPV_2</th>\n",
       "      <th>118_RTPV_3</th>\n",
       "      <th>118_RTPV_4</th>\n",
       "      <th>118_RTPV_5</th>\n",
       "      <th>118_RTPV_6</th>\n",
       "      <th>320_RTPV_6</th>\n",
       "      <th>118_RTPV_7</th>\n",
       "      <th>118_RTPV_8</th>\n",
       "      <th>118_RTPV_9</th>\n",
       "      <th>118_RTPV_10</th>\n",
       "      <th>213_RTPV_1</th>\n",
       "      <th>309_WIND_1</th>\n",
       "      <th>317_WIND_1</th>\n",
       "      <th>303_WIND_1</th>\n",
       "      <th>122_WIND_1</th>\n",
       "    </tr>\n",
       "    <tr>\n",
       "      <th>sim_timestamp</th>\n",
       "      <th>scenario_nr</th>\n",
       "      <th>period_timestamp</th>\n",
       "      <th></th>\n",
       "      <th></th>\n",
       "      <th></th>\n",
       "      <th></th>\n",
       "      <th></th>\n",
       "      <th></th>\n",
       "      <th></th>\n",
       "      <th></th>\n",
       "      <th></th>\n",
       "      <th></th>\n",
       "      <th></th>\n",
       "      <th></th>\n",
       "      <th></th>\n",
       "      <th></th>\n",
       "      <th></th>\n",
       "      <th></th>\n",
       "      <th></th>\n",
       "      <th></th>\n",
       "      <th></th>\n",
       "      <th></th>\n",
       "      <th></th>\n",
       "      <th></th>\n",
       "      <th></th>\n",
       "      <th></th>\n",
       "      <th></th>\n",
       "      <th></th>\n",
       "      <th></th>\n",
       "      <th></th>\n",
       "      <th></th>\n",
       "      <th></th>\n",
       "      <th></th>\n",
       "      <th></th>\n",
       "      <th></th>\n",
       "      <th></th>\n",
       "      <th></th>\n",
       "      <th></th>\n",
       "      <th></th>\n",
       "      <th></th>\n",
       "      <th></th>\n",
       "      <th></th>\n",
       "      <th></th>\n",
       "      <th></th>\n",
       "      <th></th>\n",
       "      <th></th>\n",
       "      <th></th>\n",
       "      <th></th>\n",
       "      <th></th>\n",
       "      <th></th>\n",
       "      <th></th>\n",
       "      <th></th>\n",
       "      <th></th>\n",
       "      <th></th>\n",
       "      <th></th>\n",
       "      <th></th>\n",
       "      <th></th>\n",
       "      <th></th>\n",
       "      <th></th>\n",
       "      <th></th>\n",
       "      <th></th>\n",
       "      <th></th>\n",
       "      <th></th>\n",
       "    </tr>\n",
       "  </thead>\n",
       "  <tbody>\n",
       "    <tr>\n",
       "      <th rowspan=\"6\" valign=\"top\">2020-07-01 00:15:00</th>\n",
       "      <th rowspan=\"2\" valign=\"top\">1</th>\n",
       "      <th>2020-07-01 00:15:00</th>\n",
       "      <td>17.352</td>\n",
       "      <td>43.2861</td>\n",
       "      <td>38.9437</td>\n",
       "      <td>23.4007</td>\n",
       "      <td>85.2435</td>\n",
       "      <td>51.6</td>\n",
       "      <td>31.0582</td>\n",
       "      <td>45.823</td>\n",
       "      <td>49.7</td>\n",
       "      <td>69.3046</td>\n",
       "      <td>14.8977</td>\n",
       "      <td>51.6</td>\n",
       "      <td>51</td>\n",
       "      <td>5.91304</td>\n",
       "      <td>129.408</td>\n",
       "      <td>27.6434</td>\n",
       "      <td>5.11776</td>\n",
       "      <td>5.13528</td>\n",
       "      <td>5.34397</td>\n",
       "      <td>3.09557</td>\n",
       "      <td>54.2432</td>\n",
       "      <td>4.86278</td>\n",
       "      <td>5.20378</td>\n",
       "      <td>5.34062</td>\n",
       "      <td>4.34555</td>\n",
       "      <td>0.00667607</td>\n",
       "      <td>10.9719</td>\n",
       "      <td>37.3428</td>\n",
       "      <td>23.622</td>\n",
       "      <td>23.1803</td>\n",
       "      <td>25.1835</td>\n",
       "      <td>30.1467</td>\n",
       "      <td>26.2891</td>\n",
       "      <td>21.5514</td>\n",
       "      <td>28.1648</td>\n",
       "      <td>29.2232</td>\n",
       "      <td>39.7484</td>\n",
       "      <td>20.1939</td>\n",
       "      <td>11.6908</td>\n",
       "      <td>10.1496</td>\n",
       "      <td>13.4208</td>\n",
       "      <td>9.30248</td>\n",
       "      <td>7.01338</td>\n",
       "      <td>11.1641</td>\n",
       "      <td>7.67865</td>\n",
       "      <td>1.41553</td>\n",
       "      <td>2.0143</td>\n",
       "      <td>2.98402</td>\n",
       "      <td>1.95177</td>\n",
       "      <td>0.833313</td>\n",
       "      <td>0.560171</td>\n",
       "      <td>5.33667</td>\n",
       "      <td>0.494131</td>\n",
       "      <td>0.490343</td>\n",
       "      <td>0.962967</td>\n",
       "      <td>0.376181</td>\n",
       "      <td>5.16505</td>\n",
       "      <td>133.385</td>\n",
       "      <td>579.326</td>\n",
       "      <td>846.304</td>\n",
       "      <td>187.355</td>\n",
       "    </tr>\n",
       "    <tr>\n",
       "      <th>2020-07-01 00:20:00</th>\n",
       "      <td>17.1116</td>\n",
       "      <td>42.884</td>\n",
       "      <td>38.5552</td>\n",
       "      <td>22.0345</td>\n",
       "      <td>84.7942</td>\n",
       "      <td>51.6</td>\n",
       "      <td>30.6541</td>\n",
       "      <td>45.805</td>\n",
       "      <td>49.7</td>\n",
       "      <td>69.4847</td>\n",
       "      <td>14.7037</td>\n",
       "      <td>51.6</td>\n",
       "      <td>51</td>\n",
       "      <td>6.08803</td>\n",
       "      <td>129.171</td>\n",
       "      <td>27.6699</td>\n",
       "      <td>5.10792</td>\n",
       "      <td>5.11967</td>\n",
       "      <td>5.10893</td>\n",
       "      <td>3.20298</td>\n",
       "      <td>53.2019</td>\n",
       "      <td>5.05703</td>\n",
       "      <td>5.29376</td>\n",
       "      <td>5.37074</td>\n",
       "      <td>4.34555</td>\n",
       "      <td>0.0067316</td>\n",
       "      <td>10.9448</td>\n",
       "      <td>36.8207</td>\n",
       "      <td>23.4988</td>\n",
       "      <td>23.1421</td>\n",
       "      <td>24.857</td>\n",
       "      <td>30.0783</td>\n",
       "      <td>25.9662</td>\n",
       "      <td>21.3541</td>\n",
       "      <td>27.9854</td>\n",
       "      <td>29.1908</td>\n",
       "      <td>39.6804</td>\n",
       "      <td>19.7286</td>\n",
       "      <td>10.9217</td>\n",
       "      <td>10.117</td>\n",
       "      <td>13.0114</td>\n",
       "      <td>9.08565</td>\n",
       "      <td>7.00722</td>\n",
       "      <td>11.2216</td>\n",
       "      <td>7.47087</td>\n",
       "      <td>1.41553</td>\n",
       "      <td>2.0143</td>\n",
       "      <td>2.98402</td>\n",
       "      <td>1.95177</td>\n",
       "      <td>0.958574</td>\n",
       "      <td>0.560171</td>\n",
       "      <td>5.35328</td>\n",
       "      <td>0.448005</td>\n",
       "      <td>0.490343</td>\n",
       "      <td>0.962967</td>\n",
       "      <td>0.376181</td>\n",
       "      <td>5.06805</td>\n",
       "      <td>133.155</td>\n",
       "      <td>568.896</td>\n",
       "      <td>845.659</td>\n",
       "      <td>183.105</td>\n",
       "    </tr>\n",
       "    <tr>\n",
       "      <th rowspan=\"2\" valign=\"top\">2</th>\n",
       "      <th>2020-07-01 00:15:00</th>\n",
       "      <td>17.3496</td>\n",
       "      <td>43.4974</td>\n",
       "      <td>39.3971</td>\n",
       "      <td>24.6094</td>\n",
       "      <td>85.5737</td>\n",
       "      <td>51.6</td>\n",
       "      <td>31.3156</td>\n",
       "      <td>45.8589</td>\n",
       "      <td>49.7</td>\n",
       "      <td>69.3099</td>\n",
       "      <td>14.9086</td>\n",
       "      <td>51.6</td>\n",
       "      <td>51</td>\n",
       "      <td>5.91266</td>\n",
       "      <td>129.823</td>\n",
       "      <td>26.6537</td>\n",
       "      <td>5.17943</td>\n",
       "      <td>5.4276</td>\n",
       "      <td>5.50211</td>\n",
       "      <td>3.19729</td>\n",
       "      <td>55.3283</td>\n",
       "      <td>4.78266</td>\n",
       "      <td>5.34244</td>\n",
       "      <td>5.73053</td>\n",
       "      <td>5.26825</td>\n",
       "      <td>2.41462</td>\n",
       "      <td>10.7252</td>\n",
       "      <td>37.5752</td>\n",
       "      <td>23.6657</td>\n",
       "      <td>23.4913</td>\n",
       "      <td>25.1964</td>\n",
       "      <td>30.1552</td>\n",
       "      <td>26.4667</td>\n",
       "      <td>21.5741</td>\n",
       "      <td>28.2645</td>\n",
       "      <td>29.1548</td>\n",
       "      <td>39.4968</td>\n",
       "      <td>20.0446</td>\n",
       "      <td>12.0605</td>\n",
       "      <td>10.1581</td>\n",
       "      <td>13.3415</td>\n",
       "      <td>9.27318</td>\n",
       "      <td>7.03152</td>\n",
       "      <td>11.0825</td>\n",
       "      <td>7.81571</td>\n",
       "      <td>1.36224</td>\n",
       "      <td>1.67119</td>\n",
       "      <td>2.49792</td>\n",
       "      <td>1.57105</td>\n",
       "      <td>0.542186</td>\n",
       "      <td>0.402928</td>\n",
       "      <td>5.31958</td>\n",
       "      <td>0.435225</td>\n",
       "      <td>0.469608</td>\n",
       "      <td>0.820057</td>\n",
       "      <td>0.339458</td>\n",
       "      <td>5.38408</td>\n",
       "      <td>133.604</td>\n",
       "      <td>588.295</td>\n",
       "      <td>847</td>\n",
       "      <td>189.226</td>\n",
       "    </tr>\n",
       "    <tr>\n",
       "      <th>2020-07-01 00:20:00</th>\n",
       "      <td>17.3496</td>\n",
       "      <td>43.4974</td>\n",
       "      <td>39.3971</td>\n",
       "      <td>24.4277</td>\n",
       "      <td>85.579</td>\n",
       "      <td>51.6</td>\n",
       "      <td>31.1578</td>\n",
       "      <td>45.8595</td>\n",
       "      <td>49.7</td>\n",
       "      <td>69.3118</td>\n",
       "      <td>14.9088</td>\n",
       "      <td>51.6</td>\n",
       "      <td>51</td>\n",
       "      <td>5.81282</td>\n",
       "      <td>129.823</td>\n",
       "      <td>25.7549</td>\n",
       "      <td>5.24546</td>\n",
       "      <td>5.7039</td>\n",
       "      <td>5.80072</td>\n",
       "      <td>3.35869</td>\n",
       "      <td>55.3905</td>\n",
       "      <td>4.6577</td>\n",
       "      <td>5.50502</td>\n",
       "      <td>6.08481</td>\n",
       "      <td>5.80367</td>\n",
       "      <td>4.00691</td>\n",
       "      <td>10.6055</td>\n",
       "      <td>37.5346</td>\n",
       "      <td>23.6233</td>\n",
       "      <td>23.6266</td>\n",
       "      <td>25.1893</td>\n",
       "      <td>30.1204</td>\n",
       "      <td>26.4695</td>\n",
       "      <td>21.5112</td>\n",
       "      <td>28.2559</td>\n",
       "      <td>29.1569</td>\n",
       "      <td>39.4996</td>\n",
       "      <td>20.081</td>\n",
       "      <td>12.0605</td>\n",
       "      <td>10.1581</td>\n",
       "      <td>13.3392</td>\n",
       "      <td>9.27318</td>\n",
       "      <td>7.02587</td>\n",
       "      <td>11.0825</td>\n",
       "      <td>7.81479</td>\n",
       "      <td>1.31106</td>\n",
       "      <td>1.48087</td>\n",
       "      <td>2.21726</td>\n",
       "      <td>1.26277</td>\n",
       "      <td>0.444263</td>\n",
       "      <td>0.253053</td>\n",
       "      <td>5.31958</td>\n",
       "      <td>0.267019</td>\n",
       "      <td>0.417729</td>\n",
       "      <td>0.599987</td>\n",
       "      <td>0.236674</td>\n",
       "      <td>5.42948</td>\n",
       "      <td>133.589</td>\n",
       "      <td>588.292</td>\n",
       "      <td>847</td>\n",
       "      <td>188.57</td>\n",
       "    </tr>\n",
       "    <tr>\n",
       "      <th rowspan=\"2\" valign=\"top\">3</th>\n",
       "      <th>2020-07-01 00:15:00</th>\n",
       "      <td>17.3528</td>\n",
       "      <td>43.3625</td>\n",
       "      <td>39.3918</td>\n",
       "      <td>26.769</td>\n",
       "      <td>85.5677</td>\n",
       "      <td>51.6</td>\n",
       "      <td>31.5706</td>\n",
       "      <td>45.8472</td>\n",
       "      <td>49.7</td>\n",
       "      <td>69.138</td>\n",
       "      <td>15.0319</td>\n",
       "      <td>51.6</td>\n",
       "      <td>51</td>\n",
       "      <td>7.40173</td>\n",
       "      <td>129.824</td>\n",
       "      <td>28.4525</td>\n",
       "      <td>5.17838</td>\n",
       "      <td>5.08415</td>\n",
       "      <td>5.21833</td>\n",
       "      <td>2.84448</td>\n",
       "      <td>58.575</td>\n",
       "      <td>4.86465</td>\n",
       "      <td>5.08598</td>\n",
       "      <td>5.38761</td>\n",
       "      <td>4.36819</td>\n",
       "      <td>0.00978114</td>\n",
       "      <td>11.1255</td>\n",
       "      <td>37.5909</td>\n",
       "      <td>23.8909</td>\n",
       "      <td>23.264</td>\n",
       "      <td>25.2004</td>\n",
       "      <td>30.4244</td>\n",
       "      <td>26.4521</td>\n",
       "      <td>21.8582</td>\n",
       "      <td>28.496</td>\n",
       "      <td>29.2341</td>\n",
       "      <td>39.4871</td>\n",
       "      <td>20.5692</td>\n",
       "      <td>12.3248</td>\n",
       "      <td>10.1581</td>\n",
       "      <td>13.345</td>\n",
       "      <td>9.28519</td>\n",
       "      <td>7.0612</td>\n",
       "      <td>11.0892</td>\n",
       "      <td>7.82713</td>\n",
       "      <td>1.41553</td>\n",
       "      <td>2.08487</td>\n",
       "      <td>2.98402</td>\n",
       "      <td>1.55363</td>\n",
       "      <td>0.656205</td>\n",
       "      <td>0.514968</td>\n",
       "      <td>5.31958</td>\n",
       "      <td>0.572369</td>\n",
       "      <td>0.497639</td>\n",
       "      <td>0.635885</td>\n",
       "      <td>0.214299</td>\n",
       "      <td>5.32774</td>\n",
       "      <td>134.251</td>\n",
       "      <td>578.846</td>\n",
       "      <td>847</td>\n",
       "      <td>188.806</td>\n",
       "    </tr>\n",
       "    <tr>\n",
       "      <th>2020-07-01 00:20:00</th>\n",
       "      <td>17.3528</td>\n",
       "      <td>43.3049</td>\n",
       "      <td>39.3918</td>\n",
       "      <td>28.4886</td>\n",
       "      <td>85.5677</td>\n",
       "      <td>51.6</td>\n",
       "      <td>31.6159</td>\n",
       "      <td>45.8436</td>\n",
       "      <td>49.7</td>\n",
       "      <td>69.0652</td>\n",
       "      <td>15.1668</td>\n",
       "      <td>51.6</td>\n",
       "      <td>51</td>\n",
       "      <td>9.18957</td>\n",
       "      <td>129.413</td>\n",
       "      <td>29.3031</td>\n",
       "      <td>5.17838</td>\n",
       "      <td>5.08415</td>\n",
       "      <td>5.21833</td>\n",
       "      <td>2.71415</td>\n",
       "      <td>61.4838</td>\n",
       "      <td>4.86465</td>\n",
       "      <td>5.08598</td>\n",
       "      <td>5.38761</td>\n",
       "      <td>4.40292</td>\n",
       "      <td>0.00978114</td>\n",
       "      <td>11.2479</td>\n",
       "      <td>37.4638</td>\n",
       "      <td>24.0768</td>\n",
       "      <td>23.3643</td>\n",
       "      <td>25.213</td>\n",
       "      <td>30.5543</td>\n",
       "      <td>26.4573</td>\n",
       "      <td>21.9964</td>\n",
       "      <td>28.7267</td>\n",
       "      <td>29.2854</td>\n",
       "      <td>39.4859</td>\n",
       "      <td>21.1308</td>\n",
       "      <td>12.6339</td>\n",
       "      <td>10.1581</td>\n",
       "      <td>13.3459</td>\n",
       "      <td>9.30032</td>\n",
       "      <td>7.08643</td>\n",
       "      <td>11.0928</td>\n",
       "      <td>7.83665</td>\n",
       "      <td>1.4331</td>\n",
       "      <td>2.1828</td>\n",
       "      <td>2.98402</td>\n",
       "      <td>1.32518</td>\n",
       "      <td>0.678645</td>\n",
       "      <td>0.437561</td>\n",
       "      <td>5.31958</td>\n",
       "      <td>0.664696</td>\n",
       "      <td>0.482733</td>\n",
       "      <td>0.321924</td>\n",
       "      <td>0.110385</td>\n",
       "      <td>5.32774</td>\n",
       "      <td>135.363</td>\n",
       "      <td>569.23</td>\n",
       "      <td>847</td>\n",
       "      <td>187.837</td>\n",
       "    </tr>\n",
       "    <tr>\n",
       "      <th rowspan=\"6\" valign=\"top\">2020-07-01 00:20:00</th>\n",
       "      <th rowspan=\"2\" valign=\"top\">1</th>\n",
       "      <th>2020-07-01 00:20:00</th>\n",
       "      <td>17.2449</td>\n",
       "      <td>44.3629</td>\n",
       "      <td>40.7943</td>\n",
       "      <td>28.0169</td>\n",
       "      <td>85.3649</td>\n",
       "      <td>51.2087</td>\n",
       "      <td>35.3017</td>\n",
       "      <td>44.7327</td>\n",
       "      <td>49.3816</td>\n",
       "      <td>66.4304</td>\n",
       "      <td>14.1686</td>\n",
       "      <td>51.494</td>\n",
       "      <td>50.7134</td>\n",
       "      <td>4.87161</td>\n",
       "      <td>132.993</td>\n",
       "      <td>27.4815</td>\n",
       "      <td>5.05632</td>\n",
       "      <td>4.97242</td>\n",
       "      <td>5.12206</td>\n",
       "      <td>2.9317</td>\n",
       "      <td>56.7368</td>\n",
       "      <td>4.74742</td>\n",
       "      <td>5.06481</td>\n",
       "      <td>5.19789</td>\n",
       "      <td>1.78947</td>\n",
       "      <td>0</td>\n",
       "      <td>10.6254</td>\n",
       "      <td>37.832</td>\n",
       "      <td>23.561</td>\n",
       "      <td>22.9973</td>\n",
       "      <td>24.0013</td>\n",
       "      <td>29.2607</td>\n",
       "      <td>25.8325</td>\n",
       "      <td>21.0614</td>\n",
       "      <td>27.8949</td>\n",
       "      <td>28.3358</td>\n",
       "      <td>38.5271</td>\n",
       "      <td>19.1119</td>\n",
       "      <td>12.0286</td>\n",
       "      <td>9.99641</td>\n",
       "      <td>12.3926</td>\n",
       "      <td>8.99319</td>\n",
       "      <td>6.31827</td>\n",
       "      <td>11.0799</td>\n",
       "      <td>7.41716</td>\n",
       "      <td>1.49206</td>\n",
       "      <td>2.03928</td>\n",
       "      <td>3.08129</td>\n",
       "      <td>1.77689</td>\n",
       "      <td>0.722235</td>\n",
       "      <td>0.607097</td>\n",
       "      <td>5.67142</td>\n",
       "      <td>0.482921</td>\n",
       "      <td>0.401782</td>\n",
       "      <td>0.900567</td>\n",
       "      <td>0.323817</td>\n",
       "      <td>5.64793</td>\n",
       "      <td>132.05</td>\n",
       "      <td>602.031</td>\n",
       "      <td>838.613</td>\n",
       "      <td>185.819</td>\n",
       "    </tr>\n",
       "    <tr>\n",
       "      <th>2020-07-01 00:25:00</th>\n",
       "      <td>16.7961</td>\n",
       "      <td>45.217</td>\n",
       "      <td>42.6974</td>\n",
       "      <td>30.6601</td>\n",
       "      <td>84.5656</td>\n",
       "      <td>50.8537</td>\n",
       "      <td>38.4049</td>\n",
       "      <td>43.0292</td>\n",
       "      <td>49.2201</td>\n",
       "      <td>61.7892</td>\n",
       "      <td>12.2405</td>\n",
       "      <td>51.3861</td>\n",
       "      <td>50.2872</td>\n",
       "      <td>3.14881</td>\n",
       "      <td>131.562</td>\n",
       "      <td>29.2694</td>\n",
       "      <td>5.04545</td>\n",
       "      <td>4.91252</td>\n",
       "      <td>5.09167</td>\n",
       "      <td>3.18008</td>\n",
       "      <td>57.3441</td>\n",
       "      <td>4.70609</td>\n",
       "      <td>5.08979</td>\n",
       "      <td>5.05588</td>\n",
       "      <td>0</td>\n",
       "      <td>0</td>\n",
       "      <td>10.3108</td>\n",
       "      <td>38.6021</td>\n",
       "      <td>23.0918</td>\n",
       "      <td>22.8337</td>\n",
       "      <td>23.5852</td>\n",
       "      <td>27.491</td>\n",
       "      <td>24.9849</td>\n",
       "      <td>20.27</td>\n",
       "      <td>26.6035</td>\n",
       "      <td>28.0723</td>\n",
       "      <td>37.9365</td>\n",
       "      <td>18.0265</td>\n",
       "      <td>12.0258</td>\n",
       "      <td>9.82574</td>\n",
       "      <td>11.2997</td>\n",
       "      <td>8.85461</td>\n",
       "      <td>5.61904</td>\n",
       "      <td>11.2102</td>\n",
       "      <td>6.94441</td>\n",
       "      <td>1.49206</td>\n",
       "      <td>2.03928</td>\n",
       "      <td>3.08129</td>\n",
       "      <td>1.77689</td>\n",
       "      <td>0.774974</td>\n",
       "      <td>0.614452</td>\n",
       "      <td>5.68501</td>\n",
       "      <td>0.466515</td>\n",
       "      <td>0.401782</td>\n",
       "      <td>0.561042</td>\n",
       "      <td>0.311113</td>\n",
       "      <td>5.8642</td>\n",
       "      <td>128.915</td>\n",
       "      <td>604.897</td>\n",
       "      <td>829.317</td>\n",
       "      <td>178.408</td>\n",
       "    </tr>\n",
       "    <tr>\n",
       "      <th rowspan=\"2\" valign=\"top\">2</th>\n",
       "      <th>2020-07-01 00:20:00</th>\n",
       "      <td>17.7727</td>\n",
       "      <td>43.2582</td>\n",
       "      <td>39.3842</td>\n",
       "      <td>25.3671</td>\n",
       "      <td>85.7486</td>\n",
       "      <td>50.5862</td>\n",
       "      <td>31.8922</td>\n",
       "      <td>46.1131</td>\n",
       "      <td>49.6967</td>\n",
       "      <td>69.8044</td>\n",
       "      <td>15.5923</td>\n",
       "      <td>51.5923</td>\n",
       "      <td>50.9975</td>\n",
       "      <td>4.81724</td>\n",
       "      <td>134.134</td>\n",
       "      <td>27.675</td>\n",
       "      <td>5.06485</td>\n",
       "      <td>4.67422</td>\n",
       "      <td>5.19565</td>\n",
       "      <td>2.29534</td>\n",
       "      <td>56.4405</td>\n",
       "      <td>4.7963</td>\n",
       "      <td>5.44706</td>\n",
       "      <td>4.7347</td>\n",
       "      <td>4.35424</td>\n",
       "      <td>0</td>\n",
       "      <td>10.4337</td>\n",
       "      <td>37.331</td>\n",
       "      <td>23.2775</td>\n",
       "      <td>23.0506</td>\n",
       "      <td>24.5576</td>\n",
       "      <td>30.6626</td>\n",
       "      <td>26.3221</td>\n",
       "      <td>21.5528</td>\n",
       "      <td>28.3059</td>\n",
       "      <td>28.3654</td>\n",
       "      <td>38.8168</td>\n",
       "      <td>19.6862</td>\n",
       "      <td>12.0701</td>\n",
       "      <td>10.3461</td>\n",
       "      <td>13.63</td>\n",
       "      <td>9.33724</td>\n",
       "      <td>6.96503</td>\n",
       "      <td>11.1122</td>\n",
       "      <td>7.96327</td>\n",
       "      <td>1.48422</td>\n",
       "      <td>2.03877</td>\n",
       "      <td>3.10298</td>\n",
       "      <td>1.47542</td>\n",
       "      <td>0.246203</td>\n",
       "      <td>0.307314</td>\n",
       "      <td>5.56736</td>\n",
       "      <td>0.196297</td>\n",
       "      <td>0.401782</td>\n",
       "      <td>0.743129</td>\n",
       "      <td>0.329836</td>\n",
       "      <td>3.71125</td>\n",
       "      <td>133.909</td>\n",
       "      <td>597.171</td>\n",
       "      <td>846.774</td>\n",
       "      <td>188.185</td>\n",
       "    </tr>\n",
       "    <tr>\n",
       "      <th>2020-07-01 00:25:00</th>\n",
       "      <td>17.7708</td>\n",
       "      <td>43.253</td>\n",
       "      <td>39.407</td>\n",
       "      <td>25.702</td>\n",
       "      <td>85.2202</td>\n",
       "      <td>49.4117</td>\n",
       "      <td>31.8456</td>\n",
       "      <td>46.1131</td>\n",
       "      <td>49.6892</td>\n",
       "      <td>69.8044</td>\n",
       "      <td>15.5923</td>\n",
       "      <td>51.5831</td>\n",
       "      <td>50.9931</td>\n",
       "      <td>4.30792</td>\n",
       "      <td>134.194</td>\n",
       "      <td>28.6316</td>\n",
       "      <td>5.06852</td>\n",
       "      <td>4.72769</td>\n",
       "      <td>5.76385</td>\n",
       "      <td>2.05471</td>\n",
       "      <td>56.627</td>\n",
       "      <td>4.79158</td>\n",
       "      <td>6.20475</td>\n",
       "      <td>3.91074</td>\n",
       "      <td>4.35716</td>\n",
       "      <td>0</td>\n",
       "      <td>10.4337</td>\n",
       "      <td>37.1342</td>\n",
       "      <td>23.0959</td>\n",
       "      <td>23.0762</td>\n",
       "      <td>24.5532</td>\n",
       "      <td>30.6565</td>\n",
       "      <td>26.3215</td>\n",
       "      <td>21.5723</td>\n",
       "      <td>28.3069</td>\n",
       "      <td>28.2876</td>\n",
       "      <td>38.5549</td>\n",
       "      <td>19.5175</td>\n",
       "      <td>12.0763</td>\n",
       "      <td>10.3461</td>\n",
       "      <td>13.6669</td>\n",
       "      <td>9.33724</td>\n",
       "      <td>6.96503</td>\n",
       "      <td>11.1122</td>\n",
       "      <td>7.98395</td>\n",
       "      <td>1.4822</td>\n",
       "      <td>2.03819</td>\n",
       "      <td>3.10149</td>\n",
       "      <td>1.16678</td>\n",
       "      <td>0</td>\n",
       "      <td>0</td>\n",
       "      <td>5.56736</td>\n",
       "      <td>0.106426</td>\n",
       "      <td>0.401782</td>\n",
       "      <td>0.656336</td>\n",
       "      <td>0.329836</td>\n",
       "      <td>2.10805</td>\n",
       "      <td>133.72</td>\n",
       "      <td>593.727</td>\n",
       "      <td>846.63</td>\n",
       "      <td>186.437</td>\n",
       "    </tr>\n",
       "    <tr>\n",
       "      <th rowspan=\"2\" valign=\"top\">3</th>\n",
       "      <th>2020-07-01 00:20:00</th>\n",
       "      <td>17.6991</td>\n",
       "      <td>42.0771</td>\n",
       "      <td>39.6572</td>\n",
       "      <td>26.4845</td>\n",
       "      <td>83.8939</td>\n",
       "      <td>48.5553</td>\n",
       "      <td>33.3111</td>\n",
       "      <td>44.956</td>\n",
       "      <td>46.9595</td>\n",
       "      <td>68.3998</td>\n",
       "      <td>15.2791</td>\n",
       "      <td>49.302</td>\n",
       "      <td>47.7143</td>\n",
       "      <td>5.1328</td>\n",
       "      <td>132.115</td>\n",
       "      <td>25.1857</td>\n",
       "      <td>4.72537</td>\n",
       "      <td>4.932</td>\n",
       "      <td>5.11698</td>\n",
       "      <td>2.50566</td>\n",
       "      <td>56.8497</td>\n",
       "      <td>4.4394</td>\n",
       "      <td>4.91375</td>\n",
       "      <td>4.93966</td>\n",
       "      <td>4.34277</td>\n",
       "      <td>0</td>\n",
       "      <td>10.2561</td>\n",
       "      <td>38.3963</td>\n",
       "      <td>24.3632</td>\n",
       "      <td>23.4411</td>\n",
       "      <td>24.8552</td>\n",
       "      <td>30.5563</td>\n",
       "      <td>26.2121</td>\n",
       "      <td>21.6407</td>\n",
       "      <td>27.913</td>\n",
       "      <td>28.4788</td>\n",
       "      <td>38.7627</td>\n",
       "      <td>19.9264</td>\n",
       "      <td>11.9786</td>\n",
       "      <td>10.6383</td>\n",
       "      <td>12.4337</td>\n",
       "      <td>8.99912</td>\n",
       "      <td>6.86835</td>\n",
       "      <td>11.3722</td>\n",
       "      <td>7.51052</td>\n",
       "      <td>1.49206</td>\n",
       "      <td>1.82802</td>\n",
       "      <td>3.08129</td>\n",
       "      <td>1.35062</td>\n",
       "      <td>0.639342</td>\n",
       "      <td>0.520828</td>\n",
       "      <td>5.61168</td>\n",
       "      <td>0.398848</td>\n",
       "      <td>0.237392</td>\n",
       "      <td>0.434877</td>\n",
       "      <td>0.21333</td>\n",
       "      <td>5.4188</td>\n",
       "      <td>132.335</td>\n",
       "      <td>601.467</td>\n",
       "      <td>821.837</td>\n",
       "      <td>189.813</td>\n",
       "    </tr>\n",
       "    <tr>\n",
       "      <th>2020-07-01 00:25:00</th>\n",
       "      <td>17.8847</td>\n",
       "      <td>41.4884</td>\n",
       "      <td>39.9166</td>\n",
       "      <td>27.9697</td>\n",
       "      <td>82.5698</td>\n",
       "      <td>46.2018</td>\n",
       "      <td>34.4009</td>\n",
       "      <td>43.6001</td>\n",
       "      <td>43.4945</td>\n",
       "      <td>66.1737</td>\n",
       "      <td>15.0202</td>\n",
       "      <td>47.0357</td>\n",
       "      <td>43.5373</td>\n",
       "      <td>4.59748</td>\n",
       "      <td>129.507</td>\n",
       "      <td>23.5222</td>\n",
       "      <td>4.52666</td>\n",
       "      <td>4.89972</td>\n",
       "      <td>5.13435</td>\n",
       "      <td>2.32291</td>\n",
       "      <td>56.2473</td>\n",
       "      <td>3.91028</td>\n",
       "      <td>4.67496</td>\n",
       "      <td>4.6496</td>\n",
       "      <td>4.33252</td>\n",
       "      <td>0</td>\n",
       "      <td>10.0024</td>\n",
       "      <td>39.298</td>\n",
       "      <td>25.1066</td>\n",
       "      <td>23.7694</td>\n",
       "      <td>25.3349</td>\n",
       "      <td>30.4605</td>\n",
       "      <td>26.3205</td>\n",
       "      <td>21.8055</td>\n",
       "      <td>27.6272</td>\n",
       "      <td>28.8519</td>\n",
       "      <td>38.8792</td>\n",
       "      <td>19.8539</td>\n",
       "      <td>11.8872</td>\n",
       "      <td>11.0821</td>\n",
       "      <td>11.571</td>\n",
       "      <td>8.86745</td>\n",
       "      <td>6.72072</td>\n",
       "      <td>11.8356</td>\n",
       "      <td>7.25919</td>\n",
       "      <td>1.49206</td>\n",
       "      <td>1.73458</td>\n",
       "      <td>3.08129</td>\n",
       "      <td>0.859778</td>\n",
       "      <td>0.605702</td>\n",
       "      <td>0.505008</td>\n",
       "      <td>5.76135</td>\n",
       "      <td>0.350721</td>\n",
       "      <td>0.134798</td>\n",
       "      <td>0.180682</td>\n",
       "      <td>0.144217</td>\n",
       "      <td>5.4188</td>\n",
       "      <td>130.197</td>\n",
       "      <td>601.49</td>\n",
       "      <td>792.323</td>\n",
       "      <td>189.163</td>\n",
       "    </tr>\n",
       "  </tbody>\n",
       "</table>\n",
       "</div>"
      ],
      "text/plain": [
       "GenUID                                              320_PV_1 314_PV_1  \\\n",
       "sim_timestamp       scenario_nr period_timestamp                        \n",
       "2020-07-01 00:15:00 1           2020-07-01 00:15:00   17.352  43.2861   \n",
       "                                2020-07-01 00:20:00  17.1116   42.884   \n",
       "                    2           2020-07-01 00:15:00  17.3496  43.4974   \n",
       "                                2020-07-01 00:20:00  17.3496  43.4974   \n",
       "                    3           2020-07-01 00:15:00  17.3528  43.3625   \n",
       "                                2020-07-01 00:20:00  17.3528  43.3049   \n",
       "2020-07-01 00:20:00 1           2020-07-01 00:20:00  17.2449  44.3629   \n",
       "                                2020-07-01 00:25:00  16.7961   45.217   \n",
       "                    2           2020-07-01 00:20:00  17.7727  43.2582   \n",
       "                                2020-07-01 00:25:00  17.7708   43.253   \n",
       "                    3           2020-07-01 00:20:00  17.6991  42.0771   \n",
       "                                2020-07-01 00:25:00  17.8847  41.4884   \n",
       "\n",
       "GenUID                                              314_PV_2 313_PV_1  \\\n",
       "sim_timestamp       scenario_nr period_timestamp                        \n",
       "2020-07-01 00:15:00 1           2020-07-01 00:15:00  38.9437  23.4007   \n",
       "                                2020-07-01 00:20:00  38.5552  22.0345   \n",
       "                    2           2020-07-01 00:15:00  39.3971  24.6094   \n",
       "                                2020-07-01 00:20:00  39.3971  24.4277   \n",
       "                    3           2020-07-01 00:15:00  39.3918   26.769   \n",
       "                                2020-07-01 00:20:00  39.3918  28.4886   \n",
       "2020-07-01 00:20:00 1           2020-07-01 00:20:00  40.7943  28.0169   \n",
       "                                2020-07-01 00:25:00  42.6974  30.6601   \n",
       "                    2           2020-07-01 00:20:00  39.3842  25.3671   \n",
       "                                2020-07-01 00:25:00   39.407   25.702   \n",
       "                    3           2020-07-01 00:20:00  39.6572  26.4845   \n",
       "                                2020-07-01 00:25:00  39.9166  27.9697   \n",
       "\n",
       "GenUID                                              314_PV_3 314_PV_4  \\\n",
       "sim_timestamp       scenario_nr period_timestamp                        \n",
       "2020-07-01 00:15:00 1           2020-07-01 00:15:00  85.2435     51.6   \n",
       "                                2020-07-01 00:20:00  84.7942     51.6   \n",
       "                    2           2020-07-01 00:15:00  85.5737     51.6   \n",
       "                                2020-07-01 00:20:00   85.579     51.6   \n",
       "                    3           2020-07-01 00:15:00  85.5677     51.6   \n",
       "                                2020-07-01 00:20:00  85.5677     51.6   \n",
       "2020-07-01 00:20:00 1           2020-07-01 00:20:00  85.3649  51.2087   \n",
       "                                2020-07-01 00:25:00  84.5656  50.8537   \n",
       "                    2           2020-07-01 00:20:00  85.7486  50.5862   \n",
       "                                2020-07-01 00:25:00  85.2202  49.4117   \n",
       "                    3           2020-07-01 00:20:00  83.8939  48.5553   \n",
       "                                2020-07-01 00:25:00  82.5698  46.2018   \n",
       "\n",
       "GenUID                                              313_PV_2 310_PV_1  \\\n",
       "sim_timestamp       scenario_nr period_timestamp                        \n",
       "2020-07-01 00:15:00 1           2020-07-01 00:15:00  31.0582   45.823   \n",
       "                                2020-07-01 00:20:00  30.6541   45.805   \n",
       "                    2           2020-07-01 00:15:00  31.3156  45.8589   \n",
       "                                2020-07-01 00:20:00  31.1578  45.8595   \n",
       "                    3           2020-07-01 00:15:00  31.5706  45.8472   \n",
       "                                2020-07-01 00:20:00  31.6159  45.8436   \n",
       "2020-07-01 00:20:00 1           2020-07-01 00:20:00  35.3017  44.7327   \n",
       "                                2020-07-01 00:25:00  38.4049  43.0292   \n",
       "                    2           2020-07-01 00:20:00  31.8922  46.1131   \n",
       "                                2020-07-01 00:25:00  31.8456  46.1131   \n",
       "                    3           2020-07-01 00:20:00  33.3111   44.956   \n",
       "                                2020-07-01 00:25:00  34.4009  43.6001   \n",
       "\n",
       "GenUID                                              324_PV_1 312_PV_1  \\\n",
       "sim_timestamp       scenario_nr period_timestamp                        \n",
       "2020-07-01 00:15:00 1           2020-07-01 00:15:00     49.7  69.3046   \n",
       "                                2020-07-01 00:20:00     49.7  69.4847   \n",
       "                    2           2020-07-01 00:15:00     49.7  69.3099   \n",
       "                                2020-07-01 00:20:00     49.7  69.3118   \n",
       "                    3           2020-07-01 00:15:00     49.7   69.138   \n",
       "                                2020-07-01 00:20:00     49.7  69.0652   \n",
       "2020-07-01 00:20:00 1           2020-07-01 00:20:00  49.3816  66.4304   \n",
       "                                2020-07-01 00:25:00  49.2201  61.7892   \n",
       "                    2           2020-07-01 00:20:00  49.6967  69.8044   \n",
       "                                2020-07-01 00:25:00  49.6892  69.8044   \n",
       "                    3           2020-07-01 00:20:00  46.9595  68.3998   \n",
       "                                2020-07-01 00:25:00  43.4945  66.1737   \n",
       "\n",
       "GenUID                                              310_PV_2 324_PV_2  \\\n",
       "sim_timestamp       scenario_nr period_timestamp                        \n",
       "2020-07-01 00:15:00 1           2020-07-01 00:15:00  14.8977     51.6   \n",
       "                                2020-07-01 00:20:00  14.7037     51.6   \n",
       "                    2           2020-07-01 00:15:00  14.9086     51.6   \n",
       "                                2020-07-01 00:20:00  14.9088     51.6   \n",
       "                    3           2020-07-01 00:15:00  15.0319     51.6   \n",
       "                                2020-07-01 00:20:00  15.1668     51.6   \n",
       "2020-07-01 00:20:00 1           2020-07-01 00:20:00  14.1686   51.494   \n",
       "                                2020-07-01 00:25:00  12.2405  51.3861   \n",
       "                    2           2020-07-01 00:20:00  15.5923  51.5923   \n",
       "                                2020-07-01 00:25:00  15.5923  51.5831   \n",
       "                    3           2020-07-01 00:20:00  15.2791   49.302   \n",
       "                                2020-07-01 00:25:00  15.0202  47.0357   \n",
       "\n",
       "GenUID                                              324_PV_3 113_PV_1  \\\n",
       "sim_timestamp       scenario_nr period_timestamp                        \n",
       "2020-07-01 00:15:00 1           2020-07-01 00:15:00       51  5.91304   \n",
       "                                2020-07-01 00:20:00       51  6.08803   \n",
       "                    2           2020-07-01 00:15:00       51  5.91266   \n",
       "                                2020-07-01 00:20:00       51  5.81282   \n",
       "                    3           2020-07-01 00:15:00       51  7.40173   \n",
       "                                2020-07-01 00:20:00       51  9.18957   \n",
       "2020-07-01 00:20:00 1           2020-07-01 00:20:00  50.7134  4.87161   \n",
       "                                2020-07-01 00:25:00  50.2872  3.14881   \n",
       "                    2           2020-07-01 00:20:00  50.9975  4.81724   \n",
       "                                2020-07-01 00:25:00  50.9931  4.30792   \n",
       "                    3           2020-07-01 00:20:00  47.7143   5.1328   \n",
       "                                2020-07-01 00:25:00  43.5373  4.59748   \n",
       "\n",
       "GenUID                                              319_PV_1 215_PV_1  \\\n",
       "sim_timestamp       scenario_nr period_timestamp                        \n",
       "2020-07-01 00:15:00 1           2020-07-01 00:15:00  129.408  27.6434   \n",
       "                                2020-07-01 00:20:00  129.171  27.6699   \n",
       "                    2           2020-07-01 00:15:00  129.823  26.6537   \n",
       "                                2020-07-01 00:20:00  129.823  25.7549   \n",
       "                    3           2020-07-01 00:15:00  129.824  28.4525   \n",
       "                                2020-07-01 00:20:00  129.413  29.3031   \n",
       "2020-07-01 00:20:00 1           2020-07-01 00:20:00  132.993  27.4815   \n",
       "                                2020-07-01 00:25:00  131.562  29.2694   \n",
       "                    2           2020-07-01 00:20:00  134.134   27.675   \n",
       "                                2020-07-01 00:25:00  134.194  28.6316   \n",
       "                    3           2020-07-01 00:20:00  132.115  25.1857   \n",
       "                                2020-07-01 00:25:00  129.507  23.5222   \n",
       "\n",
       "GenUID                                              102_PV_1 101_PV_1  \\\n",
       "sim_timestamp       scenario_nr period_timestamp                        \n",
       "2020-07-01 00:15:00 1           2020-07-01 00:15:00  5.11776  5.13528   \n",
       "                                2020-07-01 00:20:00  5.10792  5.11967   \n",
       "                    2           2020-07-01 00:15:00  5.17943   5.4276   \n",
       "                                2020-07-01 00:20:00  5.24546   5.7039   \n",
       "                    3           2020-07-01 00:15:00  5.17838  5.08415   \n",
       "                                2020-07-01 00:20:00  5.17838  5.08415   \n",
       "2020-07-01 00:20:00 1           2020-07-01 00:20:00  5.05632  4.97242   \n",
       "                                2020-07-01 00:25:00  5.04545  4.91252   \n",
       "                    2           2020-07-01 00:20:00  5.06485  4.67422   \n",
       "                                2020-07-01 00:25:00  5.06852  4.72769   \n",
       "                    3           2020-07-01 00:20:00  4.72537    4.932   \n",
       "                                2020-07-01 00:25:00  4.52666  4.89972   \n",
       "\n",
       "GenUID                                              102_PV_2 104_PV_1  \\\n",
       "sim_timestamp       scenario_nr period_timestamp                        \n",
       "2020-07-01 00:15:00 1           2020-07-01 00:15:00  5.34397  3.09557   \n",
       "                                2020-07-01 00:20:00  5.10893  3.20298   \n",
       "                    2           2020-07-01 00:15:00  5.50211  3.19729   \n",
       "                                2020-07-01 00:20:00  5.80072  3.35869   \n",
       "                    3           2020-07-01 00:15:00  5.21833  2.84448   \n",
       "                                2020-07-01 00:20:00  5.21833  2.71415   \n",
       "2020-07-01 00:20:00 1           2020-07-01 00:20:00  5.12206   2.9317   \n",
       "                                2020-07-01 00:25:00  5.09167  3.18008   \n",
       "                    2           2020-07-01 00:20:00  5.19565  2.29534   \n",
       "                                2020-07-01 00:25:00  5.76385  2.05471   \n",
       "                    3           2020-07-01 00:20:00  5.11698  2.50566   \n",
       "                                2020-07-01 00:25:00  5.13435  2.32291   \n",
       "\n",
       "GenUID                                              212_CSP_1 101_PV_2  \\\n",
       "sim_timestamp       scenario_nr period_timestamp                         \n",
       "2020-07-01 00:15:00 1           2020-07-01 00:15:00   54.2432  4.86278   \n",
       "                                2020-07-01 00:20:00   53.2019  5.05703   \n",
       "                    2           2020-07-01 00:15:00   55.3283  4.78266   \n",
       "                                2020-07-01 00:20:00   55.3905   4.6577   \n",
       "                    3           2020-07-01 00:15:00    58.575  4.86465   \n",
       "                                2020-07-01 00:20:00   61.4838  4.86465   \n",
       "2020-07-01 00:20:00 1           2020-07-01 00:20:00   56.7368  4.74742   \n",
       "                                2020-07-01 00:25:00   57.3441  4.70609   \n",
       "                    2           2020-07-01 00:20:00   56.4405   4.7963   \n",
       "                                2020-07-01 00:25:00    56.627  4.79158   \n",
       "                    3           2020-07-01 00:20:00   56.8497   4.4394   \n",
       "                                2020-07-01 00:25:00   56.2473  3.91028   \n",
       "\n",
       "GenUID                                              101_PV_3 101_PV_4  \\\n",
       "sim_timestamp       scenario_nr period_timestamp                        \n",
       "2020-07-01 00:15:00 1           2020-07-01 00:15:00  5.20378  5.34062   \n",
       "                                2020-07-01 00:20:00  5.29376  5.37074   \n",
       "                    2           2020-07-01 00:15:00  5.34244  5.73053   \n",
       "                                2020-07-01 00:20:00  5.50502  6.08481   \n",
       "                    3           2020-07-01 00:15:00  5.08598  5.38761   \n",
       "                                2020-07-01 00:20:00  5.08598  5.38761   \n",
       "2020-07-01 00:20:00 1           2020-07-01 00:20:00  5.06481  5.19789   \n",
       "                                2020-07-01 00:25:00  5.08979  5.05588   \n",
       "                    2           2020-07-01 00:20:00  5.44706   4.7347   \n",
       "                                2020-07-01 00:25:00  6.20475  3.91074   \n",
       "                    3           2020-07-01 00:20:00  4.91375  4.93966   \n",
       "                                2020-07-01 00:25:00  4.67496   4.6496   \n",
       "\n",
       "GenUID                                              103_PV_1    119_PV_1  \\\n",
       "sim_timestamp       scenario_nr period_timestamp                           \n",
       "2020-07-01 00:15:00 1           2020-07-01 00:15:00  4.34555  0.00667607   \n",
       "                                2020-07-01 00:20:00  4.34555   0.0067316   \n",
       "                    2           2020-07-01 00:15:00  5.26825     2.41462   \n",
       "                                2020-07-01 00:20:00  5.80367     4.00691   \n",
       "                    3           2020-07-01 00:15:00  4.36819  0.00978114   \n",
       "                                2020-07-01 00:20:00  4.40292  0.00978114   \n",
       "2020-07-01 00:20:00 1           2020-07-01 00:20:00  1.78947           0   \n",
       "                                2020-07-01 00:25:00        0           0   \n",
       "                    2           2020-07-01 00:20:00  4.35424           0   \n",
       "                                2020-07-01 00:25:00  4.35716           0   \n",
       "                    3           2020-07-01 00:20:00  4.34277           0   \n",
       "                                2020-07-01 00:25:00  4.33252           0   \n",
       "\n",
       "GenUID                                              308_RTPV_1 313_RTPV_1  \\\n",
       "sim_timestamp       scenario_nr period_timestamp                            \n",
       "2020-07-01 00:15:00 1           2020-07-01 00:15:00    10.9719    37.3428   \n",
       "                                2020-07-01 00:20:00    10.9448    36.8207   \n",
       "                    2           2020-07-01 00:15:00    10.7252    37.5752   \n",
       "                                2020-07-01 00:20:00    10.6055    37.5346   \n",
       "                    3           2020-07-01 00:15:00    11.1255    37.5909   \n",
       "                                2020-07-01 00:20:00    11.2479    37.4638   \n",
       "2020-07-01 00:20:00 1           2020-07-01 00:20:00    10.6254     37.832   \n",
       "                                2020-07-01 00:25:00    10.3108    38.6021   \n",
       "                    2           2020-07-01 00:20:00    10.4337     37.331   \n",
       "                                2020-07-01 00:25:00    10.4337    37.1342   \n",
       "                    3           2020-07-01 00:20:00    10.2561    38.3963   \n",
       "                                2020-07-01 00:25:00    10.0024     39.298   \n",
       "\n",
       "GenUID                                              313_RTPV_2 313_RTPV_3  \\\n",
       "sim_timestamp       scenario_nr period_timestamp                            \n",
       "2020-07-01 00:15:00 1           2020-07-01 00:15:00     23.622    23.1803   \n",
       "                                2020-07-01 00:20:00    23.4988    23.1421   \n",
       "                    2           2020-07-01 00:15:00    23.6657    23.4913   \n",
       "                                2020-07-01 00:20:00    23.6233    23.6266   \n",
       "                    3           2020-07-01 00:15:00    23.8909     23.264   \n",
       "                                2020-07-01 00:20:00    24.0768    23.3643   \n",
       "2020-07-01 00:20:00 1           2020-07-01 00:20:00     23.561    22.9973   \n",
       "                                2020-07-01 00:25:00    23.0918    22.8337   \n",
       "                    2           2020-07-01 00:20:00    23.2775    23.0506   \n",
       "                                2020-07-01 00:25:00    23.0959    23.0762   \n",
       "                    3           2020-07-01 00:20:00    24.3632    23.4411   \n",
       "                                2020-07-01 00:25:00    25.1066    23.7694   \n",
       "\n",
       "GenUID                                              313_RTPV_4 313_RTPV_5  \\\n",
       "sim_timestamp       scenario_nr period_timestamp                            \n",
       "2020-07-01 00:15:00 1           2020-07-01 00:15:00    25.1835    30.1467   \n",
       "                                2020-07-01 00:20:00     24.857    30.0783   \n",
       "                    2           2020-07-01 00:15:00    25.1964    30.1552   \n",
       "                                2020-07-01 00:20:00    25.1893    30.1204   \n",
       "                    3           2020-07-01 00:15:00    25.2004    30.4244   \n",
       "                                2020-07-01 00:20:00     25.213    30.5543   \n",
       "2020-07-01 00:20:00 1           2020-07-01 00:20:00    24.0013    29.2607   \n",
       "                                2020-07-01 00:25:00    23.5852     27.491   \n",
       "                    2           2020-07-01 00:20:00    24.5576    30.6626   \n",
       "                                2020-07-01 00:25:00    24.5532    30.6565   \n",
       "                    3           2020-07-01 00:20:00    24.8552    30.5563   \n",
       "                                2020-07-01 00:25:00    25.3349    30.4605   \n",
       "\n",
       "GenUID                                              313_RTPV_6 313_RTPV_7  \\\n",
       "sim_timestamp       scenario_nr period_timestamp                            \n",
       "2020-07-01 00:15:00 1           2020-07-01 00:15:00    26.2891    21.5514   \n",
       "                                2020-07-01 00:20:00    25.9662    21.3541   \n",
       "                    2           2020-07-01 00:15:00    26.4667    21.5741   \n",
       "                                2020-07-01 00:20:00    26.4695    21.5112   \n",
       "                    3           2020-07-01 00:15:00    26.4521    21.8582   \n",
       "                                2020-07-01 00:20:00    26.4573    21.9964   \n",
       "2020-07-01 00:20:00 1           2020-07-01 00:20:00    25.8325    21.0614   \n",
       "                                2020-07-01 00:25:00    24.9849      20.27   \n",
       "                    2           2020-07-01 00:20:00    26.3221    21.5528   \n",
       "                                2020-07-01 00:25:00    26.3215    21.5723   \n",
       "                    3           2020-07-01 00:20:00    26.2121    21.6407   \n",
       "                                2020-07-01 00:25:00    26.3205    21.8055   \n",
       "\n",
       "GenUID                                              313_RTPV_8 313_RTPV_9  \\\n",
       "sim_timestamp       scenario_nr period_timestamp                            \n",
       "2020-07-01 00:15:00 1           2020-07-01 00:15:00    28.1648    29.2232   \n",
       "                                2020-07-01 00:20:00    27.9854    29.1908   \n",
       "                    2           2020-07-01 00:15:00    28.2645    29.1548   \n",
       "                                2020-07-01 00:20:00    28.2559    29.1569   \n",
       "                    3           2020-07-01 00:15:00     28.496    29.2341   \n",
       "                                2020-07-01 00:20:00    28.7267    29.2854   \n",
       "2020-07-01 00:20:00 1           2020-07-01 00:20:00    27.8949    28.3358   \n",
       "                                2020-07-01 00:25:00    26.6035    28.0723   \n",
       "                    2           2020-07-01 00:20:00    28.3059    28.3654   \n",
       "                                2020-07-01 00:25:00    28.3069    28.2876   \n",
       "                    3           2020-07-01 00:20:00     27.913    28.4788   \n",
       "                                2020-07-01 00:25:00    27.6272    28.8519   \n",
       "\n",
       "GenUID                                              313_RTPV_10 313_RTPV_11  \\\n",
       "sim_timestamp       scenario_nr period_timestamp                              \n",
       "2020-07-01 00:15:00 1           2020-07-01 00:15:00     39.7484     20.1939   \n",
       "                                2020-07-01 00:20:00     39.6804     19.7286   \n",
       "                    2           2020-07-01 00:15:00     39.4968     20.0446   \n",
       "                                2020-07-01 00:20:00     39.4996      20.081   \n",
       "                    3           2020-07-01 00:15:00     39.4871     20.5692   \n",
       "                                2020-07-01 00:20:00     39.4859     21.1308   \n",
       "2020-07-01 00:20:00 1           2020-07-01 00:20:00     38.5271     19.1119   \n",
       "                                2020-07-01 00:25:00     37.9365     18.0265   \n",
       "                    2           2020-07-01 00:20:00     38.8168     19.6862   \n",
       "                                2020-07-01 00:25:00     38.5549     19.5175   \n",
       "                    3           2020-07-01 00:20:00     38.7627     19.9264   \n",
       "                                2020-07-01 00:25:00     38.8792     19.8539   \n",
       "\n",
       "GenUID                                              313_RTPV_12 320_RTPV_1  \\\n",
       "sim_timestamp       scenario_nr period_timestamp                             \n",
       "2020-07-01 00:15:00 1           2020-07-01 00:15:00     11.6908    10.1496   \n",
       "                                2020-07-01 00:20:00     10.9217     10.117   \n",
       "                    2           2020-07-01 00:15:00     12.0605    10.1581   \n",
       "                                2020-07-01 00:20:00     12.0605    10.1581   \n",
       "                    3           2020-07-01 00:15:00     12.3248    10.1581   \n",
       "                                2020-07-01 00:20:00     12.6339    10.1581   \n",
       "2020-07-01 00:20:00 1           2020-07-01 00:20:00     12.0286    9.99641   \n",
       "                                2020-07-01 00:25:00     12.0258    9.82574   \n",
       "                    2           2020-07-01 00:20:00     12.0701    10.3461   \n",
       "                                2020-07-01 00:25:00     12.0763    10.3461   \n",
       "                    3           2020-07-01 00:20:00     11.9786    10.6383   \n",
       "                                2020-07-01 00:25:00     11.8872    11.0821   \n",
       "\n",
       "GenUID                                              320_RTPV_2 320_RTPV_3  \\\n",
       "sim_timestamp       scenario_nr period_timestamp                            \n",
       "2020-07-01 00:15:00 1           2020-07-01 00:15:00    13.4208    9.30248   \n",
       "                                2020-07-01 00:20:00    13.0114    9.08565   \n",
       "                    2           2020-07-01 00:15:00    13.3415    9.27318   \n",
       "                                2020-07-01 00:20:00    13.3392    9.27318   \n",
       "                    3           2020-07-01 00:15:00     13.345    9.28519   \n",
       "                                2020-07-01 00:20:00    13.3459    9.30032   \n",
       "2020-07-01 00:20:00 1           2020-07-01 00:20:00    12.3926    8.99319   \n",
       "                                2020-07-01 00:25:00    11.2997    8.85461   \n",
       "                    2           2020-07-01 00:20:00      13.63    9.33724   \n",
       "                                2020-07-01 00:25:00    13.6669    9.33724   \n",
       "                    3           2020-07-01 00:20:00    12.4337    8.99912   \n",
       "                                2020-07-01 00:25:00     11.571    8.86745   \n",
       "\n",
       "GenUID                                              313_RTPV_13 320_RTPV_4  \\\n",
       "sim_timestamp       scenario_nr period_timestamp                             \n",
       "2020-07-01 00:15:00 1           2020-07-01 00:15:00     7.01338    11.1641   \n",
       "                                2020-07-01 00:20:00     7.00722    11.2216   \n",
       "                    2           2020-07-01 00:15:00     7.03152    11.0825   \n",
       "                                2020-07-01 00:20:00     7.02587    11.0825   \n",
       "                    3           2020-07-01 00:15:00      7.0612    11.0892   \n",
       "                                2020-07-01 00:20:00     7.08643    11.0928   \n",
       "2020-07-01 00:20:00 1           2020-07-01 00:20:00     6.31827    11.0799   \n",
       "                                2020-07-01 00:25:00     5.61904    11.2102   \n",
       "                    2           2020-07-01 00:20:00     6.96503    11.1122   \n",
       "                                2020-07-01 00:25:00     6.96503    11.1122   \n",
       "                    3           2020-07-01 00:20:00     6.86835    11.3722   \n",
       "                                2020-07-01 00:25:00     6.72072    11.8356   \n",
       "\n",
       "GenUID                                              320_RTPV_5 118_RTPV_1  \\\n",
       "sim_timestamp       scenario_nr period_timestamp                            \n",
       "2020-07-01 00:15:00 1           2020-07-01 00:15:00    7.67865    1.41553   \n",
       "                                2020-07-01 00:20:00    7.47087    1.41553   \n",
       "                    2           2020-07-01 00:15:00    7.81571    1.36224   \n",
       "                                2020-07-01 00:20:00    7.81479    1.31106   \n",
       "                    3           2020-07-01 00:15:00    7.82713    1.41553   \n",
       "                                2020-07-01 00:20:00    7.83665     1.4331   \n",
       "2020-07-01 00:20:00 1           2020-07-01 00:20:00    7.41716    1.49206   \n",
       "                                2020-07-01 00:25:00    6.94441    1.49206   \n",
       "                    2           2020-07-01 00:20:00    7.96327    1.48422   \n",
       "                                2020-07-01 00:25:00    7.98395     1.4822   \n",
       "                    3           2020-07-01 00:20:00    7.51052    1.49206   \n",
       "                                2020-07-01 00:25:00    7.25919    1.49206   \n",
       "\n",
       "GenUID                                              118_RTPV_2 118_RTPV_3  \\\n",
       "sim_timestamp       scenario_nr period_timestamp                            \n",
       "2020-07-01 00:15:00 1           2020-07-01 00:15:00     2.0143    2.98402   \n",
       "                                2020-07-01 00:20:00     2.0143    2.98402   \n",
       "                    2           2020-07-01 00:15:00    1.67119    2.49792   \n",
       "                                2020-07-01 00:20:00    1.48087    2.21726   \n",
       "                    3           2020-07-01 00:15:00    2.08487    2.98402   \n",
       "                                2020-07-01 00:20:00     2.1828    2.98402   \n",
       "2020-07-01 00:20:00 1           2020-07-01 00:20:00    2.03928    3.08129   \n",
       "                                2020-07-01 00:25:00    2.03928    3.08129   \n",
       "                    2           2020-07-01 00:20:00    2.03877    3.10298   \n",
       "                                2020-07-01 00:25:00    2.03819    3.10149   \n",
       "                    3           2020-07-01 00:20:00    1.82802    3.08129   \n",
       "                                2020-07-01 00:25:00    1.73458    3.08129   \n",
       "\n",
       "GenUID                                              118_RTPV_4 118_RTPV_5  \\\n",
       "sim_timestamp       scenario_nr period_timestamp                            \n",
       "2020-07-01 00:15:00 1           2020-07-01 00:15:00    1.95177   0.833313   \n",
       "                                2020-07-01 00:20:00    1.95177   0.958574   \n",
       "                    2           2020-07-01 00:15:00    1.57105   0.542186   \n",
       "                                2020-07-01 00:20:00    1.26277   0.444263   \n",
       "                    3           2020-07-01 00:15:00    1.55363   0.656205   \n",
       "                                2020-07-01 00:20:00    1.32518   0.678645   \n",
       "2020-07-01 00:20:00 1           2020-07-01 00:20:00    1.77689   0.722235   \n",
       "                                2020-07-01 00:25:00    1.77689   0.774974   \n",
       "                    2           2020-07-01 00:20:00    1.47542   0.246203   \n",
       "                                2020-07-01 00:25:00    1.16678          0   \n",
       "                    3           2020-07-01 00:20:00    1.35062   0.639342   \n",
       "                                2020-07-01 00:25:00   0.859778   0.605702   \n",
       "\n",
       "GenUID                                              118_RTPV_6 320_RTPV_6  \\\n",
       "sim_timestamp       scenario_nr period_timestamp                            \n",
       "2020-07-01 00:15:00 1           2020-07-01 00:15:00   0.560171    5.33667   \n",
       "                                2020-07-01 00:20:00   0.560171    5.35328   \n",
       "                    2           2020-07-01 00:15:00   0.402928    5.31958   \n",
       "                                2020-07-01 00:20:00   0.253053    5.31958   \n",
       "                    3           2020-07-01 00:15:00   0.514968    5.31958   \n",
       "                                2020-07-01 00:20:00   0.437561    5.31958   \n",
       "2020-07-01 00:20:00 1           2020-07-01 00:20:00   0.607097    5.67142   \n",
       "                                2020-07-01 00:25:00   0.614452    5.68501   \n",
       "                    2           2020-07-01 00:20:00   0.307314    5.56736   \n",
       "                                2020-07-01 00:25:00          0    5.56736   \n",
       "                    3           2020-07-01 00:20:00   0.520828    5.61168   \n",
       "                                2020-07-01 00:25:00   0.505008    5.76135   \n",
       "\n",
       "GenUID                                              118_RTPV_7 118_RTPV_8  \\\n",
       "sim_timestamp       scenario_nr period_timestamp                            \n",
       "2020-07-01 00:15:00 1           2020-07-01 00:15:00   0.494131   0.490343   \n",
       "                                2020-07-01 00:20:00   0.448005   0.490343   \n",
       "                    2           2020-07-01 00:15:00   0.435225   0.469608   \n",
       "                                2020-07-01 00:20:00   0.267019   0.417729   \n",
       "                    3           2020-07-01 00:15:00   0.572369   0.497639   \n",
       "                                2020-07-01 00:20:00   0.664696   0.482733   \n",
       "2020-07-01 00:20:00 1           2020-07-01 00:20:00   0.482921   0.401782   \n",
       "                                2020-07-01 00:25:00   0.466515   0.401782   \n",
       "                    2           2020-07-01 00:20:00   0.196297   0.401782   \n",
       "                                2020-07-01 00:25:00   0.106426   0.401782   \n",
       "                    3           2020-07-01 00:20:00   0.398848   0.237392   \n",
       "                                2020-07-01 00:25:00   0.350721   0.134798   \n",
       "\n",
       "GenUID                                              118_RTPV_9 118_RTPV_10  \\\n",
       "sim_timestamp       scenario_nr period_timestamp                             \n",
       "2020-07-01 00:15:00 1           2020-07-01 00:15:00   0.962967    0.376181   \n",
       "                                2020-07-01 00:20:00   0.962967    0.376181   \n",
       "                    2           2020-07-01 00:15:00   0.820057    0.339458   \n",
       "                                2020-07-01 00:20:00   0.599987    0.236674   \n",
       "                    3           2020-07-01 00:15:00   0.635885    0.214299   \n",
       "                                2020-07-01 00:20:00   0.321924    0.110385   \n",
       "2020-07-01 00:20:00 1           2020-07-01 00:20:00   0.900567    0.323817   \n",
       "                                2020-07-01 00:25:00   0.561042    0.311113   \n",
       "                    2           2020-07-01 00:20:00   0.743129    0.329836   \n",
       "                                2020-07-01 00:25:00   0.656336    0.329836   \n",
       "                    3           2020-07-01 00:20:00   0.434877     0.21333   \n",
       "                                2020-07-01 00:25:00   0.180682    0.144217   \n",
       "\n",
       "GenUID                                              213_RTPV_1 309_WIND_1  \\\n",
       "sim_timestamp       scenario_nr period_timestamp                            \n",
       "2020-07-01 00:15:00 1           2020-07-01 00:15:00    5.16505    133.385   \n",
       "                                2020-07-01 00:20:00    5.06805    133.155   \n",
       "                    2           2020-07-01 00:15:00    5.38408    133.604   \n",
       "                                2020-07-01 00:20:00    5.42948    133.589   \n",
       "                    3           2020-07-01 00:15:00    5.32774    134.251   \n",
       "                                2020-07-01 00:20:00    5.32774    135.363   \n",
       "2020-07-01 00:20:00 1           2020-07-01 00:20:00    5.64793     132.05   \n",
       "                                2020-07-01 00:25:00     5.8642    128.915   \n",
       "                    2           2020-07-01 00:20:00    3.71125    133.909   \n",
       "                                2020-07-01 00:25:00    2.10805     133.72   \n",
       "                    3           2020-07-01 00:20:00     5.4188    132.335   \n",
       "                                2020-07-01 00:25:00     5.4188    130.197   \n",
       "\n",
       "GenUID                                              317_WIND_1 303_WIND_1  \\\n",
       "sim_timestamp       scenario_nr period_timestamp                            \n",
       "2020-07-01 00:15:00 1           2020-07-01 00:15:00    579.326    846.304   \n",
       "                                2020-07-01 00:20:00    568.896    845.659   \n",
       "                    2           2020-07-01 00:15:00    588.295        847   \n",
       "                                2020-07-01 00:20:00    588.292        847   \n",
       "                    3           2020-07-01 00:15:00    578.846        847   \n",
       "                                2020-07-01 00:20:00     569.23        847   \n",
       "2020-07-01 00:20:00 1           2020-07-01 00:20:00    602.031    838.613   \n",
       "                                2020-07-01 00:25:00    604.897    829.317   \n",
       "                    2           2020-07-01 00:20:00    597.171    846.774   \n",
       "                                2020-07-01 00:25:00    593.727     846.63   \n",
       "                    3           2020-07-01 00:20:00    601.467    821.837   \n",
       "                                2020-07-01 00:25:00     601.49    792.323   \n",
       "\n",
       "GenUID                                              122_WIND_1  \n",
       "sim_timestamp       scenario_nr period_timestamp                \n",
       "2020-07-01 00:15:00 1           2020-07-01 00:15:00    187.355  \n",
       "                                2020-07-01 00:20:00    183.105  \n",
       "                    2           2020-07-01 00:15:00    189.226  \n",
       "                                2020-07-01 00:20:00     188.57  \n",
       "                    3           2020-07-01 00:15:00    188.806  \n",
       "                                2020-07-01 00:20:00    187.837  \n",
       "2020-07-01 00:20:00 1           2020-07-01 00:20:00    185.819  \n",
       "                                2020-07-01 00:25:00    178.408  \n",
       "                    2           2020-07-01 00:20:00    188.185  \n",
       "                                2020-07-01 00:25:00    186.437  \n",
       "                    3           2020-07-01 00:20:00    189.813  \n",
       "                                2020-07-01 00:25:00    189.163  "
      ]
     },
     "execution_count": 16,
     "metadata": {},
     "output_type": "execute_result"
    },
    {
     "name": "stdout",
     "output_type": "stream",
     "text": [
      "\n",
      "saving all_weights_df to ./weights.csv\n"
     ]
    },
    {
     "data": {
      "text/html": [
       "<div>\n",
       "<style scoped>\n",
       "    .dataframe tbody tr th:only-of-type {\n",
       "        vertical-align: middle;\n",
       "    }\n",
       "\n",
       "    .dataframe tbody tr th {\n",
       "        vertical-align: top;\n",
       "    }\n",
       "\n",
       "    .dataframe thead th {\n",
       "        text-align: right;\n",
       "    }\n",
       "</style>\n",
       "<table border=\"1\" class=\"dataframe\">\n",
       "  <thead>\n",
       "    <tr style=\"text-align: right;\">\n",
       "      <th></th>\n",
       "      <th>1</th>\n",
       "      <th>2</th>\n",
       "      <th>3</th>\n",
       "    </tr>\n",
       "  </thead>\n",
       "  <tbody>\n",
       "    <tr>\n",
       "      <th>2020-07-01 00:15:00+00:00</th>\n",
       "      <td>1</td>\n",
       "      <td>1</td>\n",
       "      <td>1</td>\n",
       "    </tr>\n",
       "    <tr>\n",
       "      <th>2020-07-01 00:20:00+00:00</th>\n",
       "      <td>1</td>\n",
       "      <td>1</td>\n",
       "      <td>1</td>\n",
       "    </tr>\n",
       "  </tbody>\n",
       "</table>\n",
       "</div>"
      ],
      "text/plain": [
       "                           1  2  3\n",
       "2020-07-01 00:15:00+00:00  1  1  1\n",
       "2020-07-01 00:20:00+00:00  1  1  1"
      ]
     },
     "execution_count": 16,
     "metadata": {},
     "output_type": "execute_result"
    },
    {
     "name": "stdout",
     "output_type": "stream",
     "text": [
      "\n",
      "saving actuals to ./actuals.csv\n"
     ]
    },
    {
     "data": {
      "text/html": [
       "<div>\n",
       "<style scoped>\n",
       "    .dataframe tbody tr th:only-of-type {\n",
       "        vertical-align: middle;\n",
       "    }\n",
       "\n",
       "    .dataframe tbody tr th {\n",
       "        vertical-align: top;\n",
       "    }\n",
       "\n",
       "    .dataframe thead th {\n",
       "        text-align: right;\n",
       "    }\n",
       "</style>\n",
       "<table border=\"1\" class=\"dataframe\">\n",
       "  <thead>\n",
       "    <tr style=\"text-align: right;\">\n",
       "      <th></th>\n",
       "      <th>320_PV_1</th>\n",
       "      <th>314_PV_1</th>\n",
       "      <th>314_PV_2</th>\n",
       "      <th>313_PV_1</th>\n",
       "      <th>314_PV_3</th>\n",
       "      <th>314_PV_4</th>\n",
       "      <th>313_PV_2</th>\n",
       "      <th>310_PV_1</th>\n",
       "      <th>324_PV_1</th>\n",
       "      <th>312_PV_1</th>\n",
       "      <th>310_PV_2</th>\n",
       "      <th>324_PV_2</th>\n",
       "      <th>324_PV_3</th>\n",
       "      <th>113_PV_1</th>\n",
       "      <th>319_PV_1</th>\n",
       "      <th>215_PV_1</th>\n",
       "      <th>102_PV_1</th>\n",
       "      <th>101_PV_1</th>\n",
       "      <th>102_PV_2</th>\n",
       "      <th>104_PV_1</th>\n",
       "      <th>212_CSP_1</th>\n",
       "      <th>101_PV_2</th>\n",
       "      <th>101_PV_3</th>\n",
       "      <th>101_PV_4</th>\n",
       "      <th>103_PV_1</th>\n",
       "      <th>119_PV_1</th>\n",
       "      <th>308_RTPV_1</th>\n",
       "      <th>313_RTPV_1</th>\n",
       "      <th>313_RTPV_2</th>\n",
       "      <th>313_RTPV_3</th>\n",
       "      <th>313_RTPV_4</th>\n",
       "      <th>313_RTPV_5</th>\n",
       "      <th>313_RTPV_6</th>\n",
       "      <th>313_RTPV_7</th>\n",
       "      <th>313_RTPV_8</th>\n",
       "      <th>313_RTPV_9</th>\n",
       "      <th>313_RTPV_10</th>\n",
       "      <th>313_RTPV_11</th>\n",
       "      <th>313_RTPV_12</th>\n",
       "      <th>320_RTPV_1</th>\n",
       "      <th>320_RTPV_2</th>\n",
       "      <th>320_RTPV_3</th>\n",
       "      <th>313_RTPV_13</th>\n",
       "      <th>320_RTPV_4</th>\n",
       "      <th>320_RTPV_5</th>\n",
       "      <th>118_RTPV_1</th>\n",
       "      <th>118_RTPV_2</th>\n",
       "      <th>118_RTPV_3</th>\n",
       "      <th>118_RTPV_4</th>\n",
       "      <th>118_RTPV_5</th>\n",
       "      <th>118_RTPV_6</th>\n",
       "      <th>320_RTPV_6</th>\n",
       "      <th>118_RTPV_7</th>\n",
       "      <th>118_RTPV_8</th>\n",
       "      <th>118_RTPV_9</th>\n",
       "      <th>118_RTPV_10</th>\n",
       "      <th>213_RTPV_1</th>\n",
       "      <th>309_WIND_1</th>\n",
       "      <th>317_WIND_1</th>\n",
       "      <th>303_WIND_1</th>\n",
       "      <th>122_WIND_1</th>\n",
       "    </tr>\n",
       "    <tr>\n",
       "      <th>sim_timestamp</th>\n",
       "      <th></th>\n",
       "      <th></th>\n",
       "      <th></th>\n",
       "      <th></th>\n",
       "      <th></th>\n",
       "      <th></th>\n",
       "      <th></th>\n",
       "      <th></th>\n",
       "      <th></th>\n",
       "      <th></th>\n",
       "      <th></th>\n",
       "      <th></th>\n",
       "      <th></th>\n",
       "      <th></th>\n",
       "      <th></th>\n",
       "      <th></th>\n",
       "      <th></th>\n",
       "      <th></th>\n",
       "      <th></th>\n",
       "      <th></th>\n",
       "      <th></th>\n",
       "      <th></th>\n",
       "      <th></th>\n",
       "      <th></th>\n",
       "      <th></th>\n",
       "      <th></th>\n",
       "      <th></th>\n",
       "      <th></th>\n",
       "      <th></th>\n",
       "      <th></th>\n",
       "      <th></th>\n",
       "      <th></th>\n",
       "      <th></th>\n",
       "      <th></th>\n",
       "      <th></th>\n",
       "      <th></th>\n",
       "      <th></th>\n",
       "      <th></th>\n",
       "      <th></th>\n",
       "      <th></th>\n",
       "      <th></th>\n",
       "      <th></th>\n",
       "      <th></th>\n",
       "      <th></th>\n",
       "      <th></th>\n",
       "      <th></th>\n",
       "      <th></th>\n",
       "      <th></th>\n",
       "      <th></th>\n",
       "      <th></th>\n",
       "      <th></th>\n",
       "      <th></th>\n",
       "      <th></th>\n",
       "      <th></th>\n",
       "      <th></th>\n",
       "      <th></th>\n",
       "      <th></th>\n",
       "      <th></th>\n",
       "      <th></th>\n",
       "      <th></th>\n",
       "      <th></th>\n",
       "    </tr>\n",
       "  </thead>\n",
       "  <tbody>\n",
       "    <tr>\n",
       "      <th>2020-07-01 00:15:00</th>\n",
       "      <td>17.772730</td>\n",
       "      <td>43.187182</td>\n",
       "      <td>39.367452</td>\n",
       "      <td>25.308155</td>\n",
       "      <td>86.221077</td>\n",
       "      <td>51.6</td>\n",
       "      <td>32.138778</td>\n",
       "      <td>46.113121</td>\n",
       "      <td>49.7</td>\n",
       "      <td>69.804438</td>\n",
       "      <td>15.592334</td>\n",
       "      <td>51.6</td>\n",
       "      <td>51.0</td>\n",
       "      <td>5.506304</td>\n",
       "      <td>133.992470</td>\n",
       "      <td>26.784092</td>\n",
       "      <td>5.082690</td>\n",
       "      <td>5.045664</td>\n",
       "      <td>5.182326</td>\n",
       "      <td>2.690151</td>\n",
       "      <td>56.734059</td>\n",
       "      <td>4.802985</td>\n",
       "      <td>5.060221</td>\n",
       "      <td>5.325876</td>\n",
       "      <td>4.355086</td>\n",
       "      <td>0.008016</td>\n",
       "      <td>10.433651</td>\n",
       "      <td>37.578887</td>\n",
       "      <td>23.775425</td>\n",
       "      <td>23.222061</td>\n",
       "      <td>24.560665</td>\n",
       "      <td>30.708072</td>\n",
       "      <td>26.324115</td>\n",
       "      <td>21.580692</td>\n",
       "      <td>28.313068</td>\n",
       "      <td>28.493793</td>\n",
       "      <td>38.990402</td>\n",
       "      <td>19.985708</td>\n",
       "      <td>12.063366</td>\n",
       "      <td>10.346116</td>\n",
       "      <td>13.567343</td>\n",
       "      <td>9.337239</td>\n",
       "      <td>6.965034</td>\n",
       "      <td>11.112188</td>\n",
       "      <td>7.952829</td>\n",
       "      <td>1.492059</td>\n",
       "      <td>2.039280</td>\n",
       "      <td>3.081292</td>\n",
       "      <td>1.776888</td>\n",
       "      <td>0.677965</td>\n",
       "      <td>0.601104</td>\n",
       "      <td>5.567361</td>\n",
       "      <td>0.467886</td>\n",
       "      <td>0.401782</td>\n",
       "      <td>0.835430</td>\n",
       "      <td>0.329836</td>\n",
       "      <td>5.418804</td>\n",
       "      <td>134.115394</td>\n",
       "      <td>601.258549</td>\n",
       "      <td>847.0</td>\n",
       "      <td>190.950487</td>\n",
       "    </tr>\n",
       "    <tr>\n",
       "      <th>2020-07-01 00:20:00</th>\n",
       "      <td>18.173115</td>\n",
       "      <td>42.005930</td>\n",
       "      <td>39.317284</td>\n",
       "      <td>25.846124</td>\n",
       "      <td>87.585799</td>\n",
       "      <td>51.6</td>\n",
       "      <td>32.658785</td>\n",
       "      <td>46.441820</td>\n",
       "      <td>49.7</td>\n",
       "      <td>70.584327</td>\n",
       "      <td>16.227496</td>\n",
       "      <td>51.6</td>\n",
       "      <td>51.0</td>\n",
       "      <td>5.355208</td>\n",
       "      <td>137.046729</td>\n",
       "      <td>26.762298</td>\n",
       "      <td>5.089029</td>\n",
       "      <td>5.091152</td>\n",
       "      <td>5.208223</td>\n",
       "      <td>2.408837</td>\n",
       "      <td>57.589272</td>\n",
       "      <td>4.870098</td>\n",
       "      <td>5.147959</td>\n",
       "      <td>5.387816</td>\n",
       "      <td>4.340262</td>\n",
       "      <td>0.001517</td>\n",
       "      <td>9.387169</td>\n",
       "      <td>37.710131</td>\n",
       "      <td>23.690756</td>\n",
       "      <td>23.146248</td>\n",
       "      <td>24.197482</td>\n",
       "      <td>31.028032</td>\n",
       "      <td>26.340611</td>\n",
       "      <td>21.555903</td>\n",
       "      <td>28.321478</td>\n",
       "      <td>28.174631</td>\n",
       "      <td>38.874231</td>\n",
       "      <td>19.858998</td>\n",
       "      <td>11.980738</td>\n",
       "      <td>10.478560</td>\n",
       "      <td>13.800619</td>\n",
       "      <td>9.329806</td>\n",
       "      <td>7.077890</td>\n",
       "      <td>11.057630</td>\n",
       "      <td>8.085764</td>\n",
       "      <td>1.419466</td>\n",
       "      <td>1.887443</td>\n",
       "      <td>3.219483</td>\n",
       "      <td>1.482678</td>\n",
       "      <td>0.683080</td>\n",
       "      <td>0.664414</td>\n",
       "      <td>5.708483</td>\n",
       "      <td>0.437396</td>\n",
       "      <td>0.353257</td>\n",
       "      <td>0.799007</td>\n",
       "      <td>0.348745</td>\n",
       "      <td>6.203544</td>\n",
       "      <td>135.227869</td>\n",
       "      <td>615.587441</td>\n",
       "      <td>847.0</td>\n",
       "      <td>191.486970</td>\n",
       "    </tr>\n",
       "  </tbody>\n",
       "</table>\n",
       "</div>"
      ],
      "text/plain": [
       "                      320_PV_1   314_PV_1   314_PV_2   313_PV_1   314_PV_3  \\\n",
       "sim_timestamp                                                                \n",
       "2020-07-01 00:15:00  17.772730  43.187182  39.367452  25.308155  86.221077   \n",
       "2020-07-01 00:20:00  18.173115  42.005930  39.317284  25.846124  87.585799   \n",
       "\n",
       "                     314_PV_4   313_PV_2   310_PV_1  324_PV_1   312_PV_1  \\\n",
       "sim_timestamp                                                              \n",
       "2020-07-01 00:15:00      51.6  32.138778  46.113121      49.7  69.804438   \n",
       "2020-07-01 00:20:00      51.6  32.658785  46.441820      49.7  70.584327   \n",
       "\n",
       "                      310_PV_2  324_PV_2  324_PV_3  113_PV_1    319_PV_1  \\\n",
       "sim_timestamp                                                              \n",
       "2020-07-01 00:15:00  15.592334      51.6      51.0  5.506304  133.992470   \n",
       "2020-07-01 00:20:00  16.227496      51.6      51.0  5.355208  137.046729   \n",
       "\n",
       "                      215_PV_1  102_PV_1  101_PV_1  102_PV_2  104_PV_1  \\\n",
       "sim_timestamp                                                            \n",
       "2020-07-01 00:15:00  26.784092  5.082690  5.045664  5.182326  2.690151   \n",
       "2020-07-01 00:20:00  26.762298  5.089029  5.091152  5.208223  2.408837   \n",
       "\n",
       "                     212_CSP_1  101_PV_2  101_PV_3  101_PV_4  103_PV_1  \\\n",
       "sim_timestamp                                                            \n",
       "2020-07-01 00:15:00  56.734059  4.802985  5.060221  5.325876  4.355086   \n",
       "2020-07-01 00:20:00  57.589272  4.870098  5.147959  5.387816  4.340262   \n",
       "\n",
       "                     119_PV_1  308_RTPV_1  313_RTPV_1  313_RTPV_2  313_RTPV_3  \\\n",
       "sim_timestamp                                                                   \n",
       "2020-07-01 00:15:00  0.008016   10.433651   37.578887   23.775425   23.222061   \n",
       "2020-07-01 00:20:00  0.001517    9.387169   37.710131   23.690756   23.146248   \n",
       "\n",
       "                     313_RTPV_4  313_RTPV_5  313_RTPV_6  313_RTPV_7  \\\n",
       "sim_timestamp                                                         \n",
       "2020-07-01 00:15:00   24.560665   30.708072   26.324115   21.580692   \n",
       "2020-07-01 00:20:00   24.197482   31.028032   26.340611   21.555903   \n",
       "\n",
       "                     313_RTPV_8  313_RTPV_9  313_RTPV_10  313_RTPV_11  \\\n",
       "sim_timestamp                                                           \n",
       "2020-07-01 00:15:00   28.313068   28.493793    38.990402    19.985708   \n",
       "2020-07-01 00:20:00   28.321478   28.174631    38.874231    19.858998   \n",
       "\n",
       "                     313_RTPV_12  320_RTPV_1  320_RTPV_2  320_RTPV_3  \\\n",
       "sim_timestamp                                                          \n",
       "2020-07-01 00:15:00    12.063366   10.346116   13.567343    9.337239   \n",
       "2020-07-01 00:20:00    11.980738   10.478560   13.800619    9.329806   \n",
       "\n",
       "                     313_RTPV_13  320_RTPV_4  320_RTPV_5  118_RTPV_1  \\\n",
       "sim_timestamp                                                          \n",
       "2020-07-01 00:15:00     6.965034   11.112188    7.952829    1.492059   \n",
       "2020-07-01 00:20:00     7.077890   11.057630    8.085764    1.419466   \n",
       "\n",
       "                     118_RTPV_2  118_RTPV_3  118_RTPV_4  118_RTPV_5  \\\n",
       "sim_timestamp                                                         \n",
       "2020-07-01 00:15:00    2.039280    3.081292    1.776888    0.677965   \n",
       "2020-07-01 00:20:00    1.887443    3.219483    1.482678    0.683080   \n",
       "\n",
       "                     118_RTPV_6  320_RTPV_6  118_RTPV_7  118_RTPV_8  \\\n",
       "sim_timestamp                                                         \n",
       "2020-07-01 00:15:00    0.601104    5.567361    0.467886    0.401782   \n",
       "2020-07-01 00:20:00    0.664414    5.708483    0.437396    0.353257   \n",
       "\n",
       "                     118_RTPV_9  118_RTPV_10  213_RTPV_1  309_WIND_1  \\\n",
       "sim_timestamp                                                          \n",
       "2020-07-01 00:15:00    0.835430     0.329836    5.418804  134.115394   \n",
       "2020-07-01 00:20:00    0.799007     0.348745    6.203544  135.227869   \n",
       "\n",
       "                     317_WIND_1  303_WIND_1  122_WIND_1  \n",
       "sim_timestamp                                            \n",
       "2020-07-01 00:15:00  601.258549       847.0  190.950487  \n",
       "2020-07-01 00:20:00  615.587441       847.0  191.486970  "
      ]
     },
     "execution_count": 16,
     "metadata": {},
     "output_type": "execute_result"
    },
    {
     "data": {
      "application/javascript": [
       "\n",
       "            setTimeout(function() {\n",
       "                var nbb_cell_id = 16;\n",
       "                var nbb_unformatted_code = \"df = all_scenarios_df.copy()\\n# if scenarios are single period, we can drop period_timestamp index level\\nif n_periods == 1:\\n    df.index=df.index.droplevel(\\\"period_timestamp\\\")\\n\\nfilename = './scenarios.csv'\\nprint(\\\"\\\\nsaving all_scenarios_df to {}\\\".format(filename))\\ndf\\ndf.to_csv(filename)\\n\\n# save weights\\nfilename = './weights.csv'\\nprint(\\\"\\\\nsaving all_weights_df to {}\\\".format(filename))\\nall_weights_df\\nall_weights_df.to_csv(filename)\\n\\n\\n# take actuals corresponding to scenarios\\ndf=all_actuals_df\\ndf.index=df.index.rename(\\\"sim_timestamp\\\")\\nfilename = './actuals.csv'\\nprint(\\\"\\\\nsaving actuals to {}\\\".format(filename))\\ndf\\ndf.to_csv(filename)\";\n",
       "                var nbb_formatted_code = \"df = all_scenarios_df.copy()\\n# if scenarios are single period, we can drop period_timestamp index level\\nif n_periods == 1:\\n    df.index = df.index.droplevel(\\\"period_timestamp\\\")\\n\\nfilename = \\\"./scenarios.csv\\\"\\nprint(\\\"\\\\nsaving all_scenarios_df to {}\\\".format(filename))\\ndf\\ndf.to_csv(filename)\\n\\n# save weights\\nfilename = \\\"./weights.csv\\\"\\nprint(\\\"\\\\nsaving all_weights_df to {}\\\".format(filename))\\nall_weights_df\\nall_weights_df.to_csv(filename)\\n\\n\\n# take actuals corresponding to scenarios\\ndf = all_actuals_df\\ndf.index = df.index.rename(\\\"sim_timestamp\\\")\\nfilename = \\\"./actuals.csv\\\"\\nprint(\\\"\\\\nsaving actuals to {}\\\".format(filename))\\ndf\\ndf.to_csv(filename)\";\n",
       "                var nbb_cells = Jupyter.notebook.get_cells();\n",
       "                for (var i = 0; i < nbb_cells.length; ++i) {\n",
       "                    if (nbb_cells[i].input_prompt_number == nbb_cell_id) {\n",
       "                        if (nbb_cells[i].get_text() == nbb_unformatted_code) {\n",
       "                             nbb_cells[i].set_text(nbb_formatted_code);\n",
       "                        }\n",
       "                        break;\n",
       "                    }\n",
       "                }\n",
       "            }, 500);\n",
       "            "
      ],
      "text/plain": [
       "<IPython.core.display.Javascript object>"
      ]
     },
     "metadata": {},
     "output_type": "display_data"
    }
   ],
   "source": [
    "df = all_scenarios_df.copy()\n",
    "# if scenarios are single period, we can drop period_timestamp index level\n",
    "if n_periods == 1:\n",
    "    df.index=df.index.droplevel(\"period_timestamp\")\n",
    "\n",
    "filename = './scenarios.csv'\n",
    "print(\"\\nsaving all_scenarios_df to {}\".format(filename))\n",
    "df\n",
    "df.to_csv(filename)\n",
    "\n",
    "# save weights\n",
    "filename = './weights.csv'\n",
    "print(\"\\nsaving all_weights_df to {}\".format(filename))\n",
    "all_weights_df\n",
    "all_weights_df.to_csv(filename)\n",
    "\n",
    "\n",
    "# take actuals corresponding to scenarios\n",
    "df=all_actuals_df\n",
    "df.index=df.index.rename(\"sim_timestamp\")\n",
    "filename = './actuals.csv'\n",
    "print(\"\\nsaving actuals to {}\".format(filename))\n",
    "df\n",
    "df.to_csv(filename)\n"
   ]
  },
  {
   "cell_type": "markdown",
   "metadata": {},
   "source": [
    "# saving as .aux \n",
    "will produce a separate .aux file for each actual and each senario period"
   ]
  },
  {
   "cell_type": "code",
   "execution_count": 16,
   "metadata": {
    "scrolled": false
   },
   "outputs": [],
   "source": [
    "!mkdir aux"
   ]
  },
  {
   "cell_type": "code",
   "execution_count": 59,
   "metadata": {
    "scrolled": false
   },
   "outputs": [
    {
     "data": {
      "application/javascript": [
       "\n",
       "            setTimeout(function() {\n",
       "                var nbb_cell_id = 59;\n",
       "                var nbb_unformatted_code = \"# save_dir = \\\"/Users/isatkaus/projects/ecp/powerscenarios/data/scenarios-data/tamara/\\\"\\nsave_dir = \\\"./aux/\\\"\\n\\n\\n###################################### save scenarios\\nfor i in range(len(all_scenarios_df)):\\n\\n    s = all_scenarios_df.iloc[i]\\n\\n    # create filename from multiindex, option 1: <simulation timestamp>_<scenario number>_<period timestamp>\\n    # filename = str(s.name[0]).replace(' ','-')+'_'+str(s.name[1])+'_'+str(s.name[2]).replace(' ','-')\\n\\n    # create filename from multiindex, option 2: <simulation timestamp>_<scenario number>_<period number>\\n    filename = (\\n        str(s.name[0]).replace(\\\" \\\", \\\"-\\\")\\n        + \\\"_S\\\"\\n        + str(s.name[1])\\n        + \\\"_P\\\"\\n        + str(((s.name[2] - s.name[0]).seconds // 60) // 5 + 1)\\n        + \\\".aux\\\"\\n    )\\n\\n    filename = save_dir + filename\\n\\n    delimiter = \\\" \\\"\\n    delimiter = \\\"\\\\t\\\"\\n\\n    with open(filename, \\\"w\\\") as f:\\n        # .aux header\\n        _ = f.write(\\\"DATA (Gen, [BusNum,GenID,GenMW,GenStatus])\\\\n\\\")\\n        _ = f.write(\\\"{\\\\n\\\")\\n        # each series entry is one line\\n        for k in range(len(s)):\\n            _ = f.write(\\n                delimiter\\n                + s.index[k].split(\\\"_\\\")[0]\\n                + delimiter\\n                + '\\\"'\\n                + s.index[k].split(\\\"_\\\")[2]\\n                + '\\\"'\\n                + delimiter\\n                + str(s[k])\\n                + delimiter\\n                + '\\\"Closed\\\"'\\n                + \\\"\\\\n\\\"\\n            )\\n        # .aux EOF\\n        _ = f.write(\\\"}\\\\n\\\")\\n\\n\\n######################################## save actuals\\n\\nfor i in range(len(all_actuals_df)):\\n\\n    s = all_actuals_df.iloc[i]\\n\\n    # create filename from multiindex, option 2: <simulation timestamp>_<scenario number>_<period number>\\n    filename = str(s.name).replace(\\\" \\\", \\\"-\\\") + \\\"_A\\\" + \\\".aux\\\"\\n\\n    filename = save_dir + filename\\n\\n    delimiter = \\\" \\\"\\n    delimiter = \\\"\\\\t\\\"\\n\\n    with open(filename, \\\"w\\\") as f:\\n        # .aux header\\n        _ = f.write(\\\"DATA (Gen, [BusNum,GenID,GenMW,GenStatus])\\\\n\\\")\\n        _ = f.write(\\\"{\\\\n\\\")\\n        # each series entry is one line\\n        for k in range(len(s)):\\n            _ = f.write(\\n                delimiter\\n                + s.index[k].split(\\\"_\\\")[0]\\n                + delimiter\\n                + '\\\"'\\n                + s.index[k].split(\\\"_\\\")[2]\\n                + '\\\"'\\n                + delimiter\\n                + str(s[k])\\n                + delimiter\\n                + '\\\"Closed\\\"'\\n                + \\\"\\\\n\\\"\\n            )\\n        # .aux EOF\\n        _ = f.write(\\\"}\\\\n\\\")\";\n",
       "                var nbb_formatted_code = \"# save_dir = \\\"/Users/isatkaus/projects/ecp/powerscenarios/data/scenarios-data/tamara/\\\"\\nsave_dir = \\\"./aux/\\\"\\n\\n\\n###################################### save scenarios\\nfor i in range(len(all_scenarios_df)):\\n\\n    s = all_scenarios_df.iloc[i]\\n\\n    # create filename from multiindex, option 1: <simulation timestamp>_<scenario number>_<period timestamp>\\n    # filename = str(s.name[0]).replace(' ','-')+'_'+str(s.name[1])+'_'+str(s.name[2]).replace(' ','-')\\n\\n    # create filename from multiindex, option 2: <simulation timestamp>_<scenario number>_<period number>\\n    filename = (\\n        str(s.name[0]).replace(\\\" \\\", \\\"-\\\")\\n        + \\\"_S\\\"\\n        + str(s.name[1])\\n        + \\\"_P\\\"\\n        + str(((s.name[2] - s.name[0]).seconds // 60) // 5 + 1)\\n        + \\\".aux\\\"\\n    )\\n\\n    filename = save_dir + filename\\n\\n    delimiter = \\\" \\\"\\n    delimiter = \\\"\\\\t\\\"\\n\\n    with open(filename, \\\"w\\\") as f:\\n        # .aux header\\n        _ = f.write(\\\"DATA (Gen, [BusNum,GenID,GenMW,GenStatus])\\\\n\\\")\\n        _ = f.write(\\\"{\\\\n\\\")\\n        # each series entry is one line\\n        for k in range(len(s)):\\n            _ = f.write(\\n                delimiter\\n                + s.index[k].split(\\\"_\\\")[0]\\n                + delimiter\\n                + '\\\"'\\n                + s.index[k].split(\\\"_\\\")[2]\\n                + '\\\"'\\n                + delimiter\\n                + str(s[k])\\n                + delimiter\\n                + '\\\"Closed\\\"'\\n                + \\\"\\\\n\\\"\\n            )\\n        # .aux EOF\\n        _ = f.write(\\\"}\\\\n\\\")\\n\\n\\n######################################## save actuals\\n\\nfor i in range(len(all_actuals_df)):\\n\\n    s = all_actuals_df.iloc[i]\\n\\n    # create filename from multiindex, option 2: <simulation timestamp>_<scenario number>_<period number>\\n    filename = str(s.name).replace(\\\" \\\", \\\"-\\\") + \\\"_A\\\" + \\\".aux\\\"\\n\\n    filename = save_dir + filename\\n\\n    delimiter = \\\" \\\"\\n    delimiter = \\\"\\\\t\\\"\\n\\n    with open(filename, \\\"w\\\") as f:\\n        # .aux header\\n        _ = f.write(\\\"DATA (Gen, [BusNum,GenID,GenMW,GenStatus])\\\\n\\\")\\n        _ = f.write(\\\"{\\\\n\\\")\\n        # each series entry is one line\\n        for k in range(len(s)):\\n            _ = f.write(\\n                delimiter\\n                + s.index[k].split(\\\"_\\\")[0]\\n                + delimiter\\n                + '\\\"'\\n                + s.index[k].split(\\\"_\\\")[2]\\n                + '\\\"'\\n                + delimiter\\n                + str(s[k])\\n                + delimiter\\n                + '\\\"Closed\\\"'\\n                + \\\"\\\\n\\\"\\n            )\\n        # .aux EOF\\n        _ = f.write(\\\"}\\\\n\\\")\";\n",
       "                var nbb_cells = Jupyter.notebook.get_cells();\n",
       "                for (var i = 0; i < nbb_cells.length; ++i) {\n",
       "                    if (nbb_cells[i].input_prompt_number == nbb_cell_id) {\n",
       "                        if (nbb_cells[i].get_text() == nbb_unformatted_code) {\n",
       "                             nbb_cells[i].set_text(nbb_formatted_code);\n",
       "                        }\n",
       "                        break;\n",
       "                    }\n",
       "                }\n",
       "            }, 500);\n",
       "            "
      ],
      "text/plain": [
       "<IPython.core.display.Javascript object>"
      ]
     },
     "metadata": {},
     "output_type": "display_data"
    }
   ],
   "source": [
    "# save_dir = \"/Users/isatkaus/projects/ecp/powerscenarios/data/scenarios-data/tamara/\"\n",
    "save_dir = \"./aux/\"\n",
    "\n",
    "\n",
    "###################################### save scenarios\n",
    "for i in range(len(all_scenarios_df)):\n",
    "\n",
    "    s = all_scenarios_df.iloc[i]\n",
    "\n",
    "    # create filename from multiindex, option 1: <simulation timestamp>_<scenario number>_<period timestamp>\n",
    "    # filename = str(s.name[0]).replace(' ','-')+'_'+str(s.name[1])+'_'+str(s.name[2]).replace(' ','-')\n",
    "\n",
    "    # create filename from multiindex, option 2: <simulation timestamp>_<scenario number>_<period number>\n",
    "    filename = (\n",
    "        str(s.name[0]).replace(\" \", \"-\")\n",
    "        + \"_S\"\n",
    "        + str(s.name[1])\n",
    "        + \"_P\"\n",
    "        + str(((s.name[2] - s.name[0]).seconds // 60) // 5 + 1)\n",
    "        + \".aux\"\n",
    "    )\n",
    "\n",
    "    filename = save_dir + filename\n",
    "\n",
    "    delimiter = \" \"\n",
    "    delimiter = \"\\t\"\n",
    "\n",
    "    with open(filename, \"w\") as f:\n",
    "        # .aux header\n",
    "        _ = f.write(\"DATA (Gen, [BusNum,GenID,GenMW,GenStatus])\\n\")\n",
    "        _ = f.write(\"{\\n\")\n",
    "        # each series entry is one line\n",
    "        for k in range(len(s)):\n",
    "            _ = f.write(\n",
    "                delimiter\n",
    "                + s.index[k].split(\"_\")[0]\n",
    "                + delimiter\n",
    "                + '\"'\n",
    "                + s.index[k].split(\"_\")[2]\n",
    "                + '\"'\n",
    "                + delimiter\n",
    "                + str(s[k])\n",
    "                + delimiter\n",
    "                + '\"Closed\"'\n",
    "                + \"\\n\"\n",
    "            )\n",
    "        # .aux EOF\n",
    "        _ = f.write(\"}\\n\")\n",
    "\n",
    "\n",
    "######################################## save actuals\n",
    "\n",
    "for i in range(len(all_actuals_df)):\n",
    "\n",
    "    s = all_actuals_df.iloc[i]\n",
    "\n",
    "    # create filename from multiindex, option 2: <simulation timestamp>_<scenario number>_<period number>\n",
    "    filename = str(s.name).replace(\" \", \"-\") + \"_A\" + \".aux\"\n",
    "\n",
    "    filename = save_dir + filename\n",
    "\n",
    "    delimiter = \" \"\n",
    "    delimiter = \"\\t\"\n",
    "\n",
    "    with open(filename, \"w\") as f:\n",
    "        # .aux header\n",
    "        _ = f.write(\"DATA (Gen, [BusNum,GenID,GenMW,GenStatus])\\n\")\n",
    "        _ = f.write(\"{\\n\")\n",
    "        # each series entry is one line\n",
    "        for k in range(len(s)):\n",
    "            _ = f.write(\n",
    "                delimiter\n",
    "                + s.index[k].split(\"_\")[0]\n",
    "                + delimiter\n",
    "                + '\"'\n",
    "                + s.index[k].split(\"_\")[2]\n",
    "                + '\"'\n",
    "                + delimiter\n",
    "                + str(s[k])\n",
    "                + delimiter\n",
    "                + '\"Closed\"'\n",
    "                + \"\\n\"\n",
    "            )\n",
    "        # .aux EOF\n",
    "        _ = f.write(\"}\\n\")"
   ]
  },
  {
   "cell_type": "markdown",
   "metadata": {},
   "source": [
    "# Scratch"
   ]
  },
  {
   "cell_type": "code",
   "execution_count": 12,
   "metadata": {
    "scrolled": false
   },
   "outputs": [
    {
     "data": {
      "text/plain": [
       "'ACTIVSg'"
      ]
     },
     "execution_count": 12,
     "metadata": {},
     "output_type": "execute_result"
    },
    {
     "data": {
      "application/javascript": [
       "\n",
       "            setTimeout(function() {\n",
       "                var nbb_cell_id = 12;\n",
       "                var nbb_unformatted_code = \"grid_name = 'ACTIVSg200'\\ngrid_name[:7]\";\n",
       "                var nbb_formatted_code = \"grid_name = \\\"ACTIVSg200\\\"\\ngrid_name[:7]\";\n",
       "                var nbb_cells = Jupyter.notebook.get_cells();\n",
       "                for (var i = 0; i < nbb_cells.length; ++i) {\n",
       "                    if (nbb_cells[i].input_prompt_number == nbb_cell_id) {\n",
       "                        if (nbb_cells[i].get_text() == nbb_unformatted_code) {\n",
       "                             nbb_cells[i].set_text(nbb_formatted_code);\n",
       "                        }\n",
       "                        break;\n",
       "                    }\n",
       "                }\n",
       "            }, 500);\n",
       "            "
      ],
      "text/plain": [
       "<IPython.core.display.Javascript object>"
      ]
     },
     "metadata": {},
     "output_type": "display_data"
    }
   ],
   "source": []
  },
  {
   "cell_type": "code",
   "execution_count": null,
   "metadata": {
    "scrolled": false
   },
   "outputs": [],
   "source": []
  },
  {
   "cell_type": "code",
   "execution_count": null,
   "metadata": {
    "scrolled": false
   },
   "outputs": [],
   "source": []
  }
 ],
 "metadata": {
  "kernelspec": {
   "display_name": "Python 3",
   "language": "python",
   "name": "python3"
  },
  "language_info": {
   "codemirror_mode": {
    "name": "ipython",
    "version": 3
   },
   "file_extension": ".py",
   "mimetype": "text/x-python",
   "name": "python",
   "nbconvert_exporter": "python",
   "pygments_lexer": "ipython3",
   "version": "3.7.8"
  }
 },
 "nbformat": 4,
 "nbformat_minor": 2
}
